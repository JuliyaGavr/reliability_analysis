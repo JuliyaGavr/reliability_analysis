{
 "cells": [
  {
   "cell_type": "markdown",
   "id": "d0278437",
   "metadata": {},
   "source": [
    "# Исследование надежности заемщиков."
   ]
  },
  {
   "cell_type": "markdown",
   "id": "b1df4517",
   "metadata": {},
   "source": [
    "Цель исследования - ответить на четыре вопроса:\n",
    "1. Есть ли зависимость между количеством детей и возвратом кредита в срок?\n",
    "2. Есть ли зависимость между семейным положением и возвратом кредита в срок?\n",
    "3. Есть ли зависимость между уровнем дохода и возвратом кредита в срок?\n",
    "4. Как разные цели кредита влияют на его возврат в срок?"
   ]
  },
  {
   "cell_type": "markdown",
   "id": "fde41811",
   "metadata": {},
   "source": [
    "## Шаг 1. Обзор данных"
   ]
  },
  {
   "cell_type": "markdown",
   "id": "634243a0",
   "metadata": {},
   "source": [
    "Основной инструмент анализа в данном проекте — pandas. Импортирую эту библиотеку"
   ]
  },
  {
   "cell_type": "code",
   "execution_count": 1,
   "id": "677172a0",
   "metadata": {},
   "outputs": [],
   "source": [
    "import pandas as pd"
   ]
  },
  {
   "cell_type": "markdown",
   "id": "85908f5e",
   "metadata": {},
   "source": [
    "Датасет представлен в формате CSV, чтобы открыть таблицу подойдет функция `read_csv()`.\n",
    "\n",
    "Прочитаю файл `data.csv` из папки `/datasets` и сохраню его в переменной `df`:\n",
    "\n",
    "Просмотрю первые 10 строк таблица, чтобы ознакомиться с данными"
   ]
  },
  {
   "cell_type": "code",
   "execution_count": 2,
   "id": "7b36ac43",
   "metadata": {},
   "outputs": [
    {
     "data": {
      "text/html": [
       "<div>\n",
       "<style scoped>\n",
       "    .dataframe tbody tr th:only-of-type {\n",
       "        vertical-align: middle;\n",
       "    }\n",
       "\n",
       "    .dataframe tbody tr th {\n",
       "        vertical-align: top;\n",
       "    }\n",
       "\n",
       "    .dataframe thead th {\n",
       "        text-align: right;\n",
       "    }\n",
       "</style>\n",
       "<table border=\"1\" class=\"dataframe\">\n",
       "  <thead>\n",
       "    <tr style=\"text-align: right;\">\n",
       "      <th></th>\n",
       "      <th>children</th>\n",
       "      <th>days_employed</th>\n",
       "      <th>dob_years</th>\n",
       "      <th>education</th>\n",
       "      <th>education_id</th>\n",
       "      <th>family_status</th>\n",
       "      <th>family_status_id</th>\n",
       "      <th>gender</th>\n",
       "      <th>income_type</th>\n",
       "      <th>debt</th>\n",
       "      <th>total_income</th>\n",
       "      <th>purpose</th>\n",
       "    </tr>\n",
       "  </thead>\n",
       "  <tbody>\n",
       "    <tr>\n",
       "      <th>0</th>\n",
       "      <td>1</td>\n",
       "      <td>-8437.673028</td>\n",
       "      <td>42</td>\n",
       "      <td>высшее</td>\n",
       "      <td>0</td>\n",
       "      <td>женат / замужем</td>\n",
       "      <td>0</td>\n",
       "      <td>F</td>\n",
       "      <td>сотрудник</td>\n",
       "      <td>0</td>\n",
       "      <td>253875.639453</td>\n",
       "      <td>покупка жилья</td>\n",
       "    </tr>\n",
       "    <tr>\n",
       "      <th>1</th>\n",
       "      <td>1</td>\n",
       "      <td>-4024.803754</td>\n",
       "      <td>36</td>\n",
       "      <td>среднее</td>\n",
       "      <td>1</td>\n",
       "      <td>женат / замужем</td>\n",
       "      <td>0</td>\n",
       "      <td>F</td>\n",
       "      <td>сотрудник</td>\n",
       "      <td>0</td>\n",
       "      <td>112080.014102</td>\n",
       "      <td>приобретение автомобиля</td>\n",
       "    </tr>\n",
       "    <tr>\n",
       "      <th>2</th>\n",
       "      <td>0</td>\n",
       "      <td>-5623.422610</td>\n",
       "      <td>33</td>\n",
       "      <td>Среднее</td>\n",
       "      <td>1</td>\n",
       "      <td>женат / замужем</td>\n",
       "      <td>0</td>\n",
       "      <td>M</td>\n",
       "      <td>сотрудник</td>\n",
       "      <td>0</td>\n",
       "      <td>145885.952297</td>\n",
       "      <td>покупка жилья</td>\n",
       "    </tr>\n",
       "    <tr>\n",
       "      <th>3</th>\n",
       "      <td>3</td>\n",
       "      <td>-4124.747207</td>\n",
       "      <td>32</td>\n",
       "      <td>среднее</td>\n",
       "      <td>1</td>\n",
       "      <td>женат / замужем</td>\n",
       "      <td>0</td>\n",
       "      <td>M</td>\n",
       "      <td>сотрудник</td>\n",
       "      <td>0</td>\n",
       "      <td>267628.550329</td>\n",
       "      <td>дополнительное образование</td>\n",
       "    </tr>\n",
       "    <tr>\n",
       "      <th>4</th>\n",
       "      <td>0</td>\n",
       "      <td>340266.072047</td>\n",
       "      <td>53</td>\n",
       "      <td>среднее</td>\n",
       "      <td>1</td>\n",
       "      <td>гражданский брак</td>\n",
       "      <td>1</td>\n",
       "      <td>F</td>\n",
       "      <td>пенсионер</td>\n",
       "      <td>0</td>\n",
       "      <td>158616.077870</td>\n",
       "      <td>сыграть свадьбу</td>\n",
       "    </tr>\n",
       "    <tr>\n",
       "      <th>5</th>\n",
       "      <td>0</td>\n",
       "      <td>-926.185831</td>\n",
       "      <td>27</td>\n",
       "      <td>высшее</td>\n",
       "      <td>0</td>\n",
       "      <td>гражданский брак</td>\n",
       "      <td>1</td>\n",
       "      <td>M</td>\n",
       "      <td>компаньон</td>\n",
       "      <td>0</td>\n",
       "      <td>255763.565419</td>\n",
       "      <td>покупка жилья</td>\n",
       "    </tr>\n",
       "    <tr>\n",
       "      <th>6</th>\n",
       "      <td>0</td>\n",
       "      <td>-2879.202052</td>\n",
       "      <td>43</td>\n",
       "      <td>высшее</td>\n",
       "      <td>0</td>\n",
       "      <td>женат / замужем</td>\n",
       "      <td>0</td>\n",
       "      <td>F</td>\n",
       "      <td>компаньон</td>\n",
       "      <td>0</td>\n",
       "      <td>240525.971920</td>\n",
       "      <td>операции с жильем</td>\n",
       "    </tr>\n",
       "    <tr>\n",
       "      <th>7</th>\n",
       "      <td>0</td>\n",
       "      <td>-152.779569</td>\n",
       "      <td>50</td>\n",
       "      <td>СРЕДНЕЕ</td>\n",
       "      <td>1</td>\n",
       "      <td>женат / замужем</td>\n",
       "      <td>0</td>\n",
       "      <td>M</td>\n",
       "      <td>сотрудник</td>\n",
       "      <td>0</td>\n",
       "      <td>135823.934197</td>\n",
       "      <td>образование</td>\n",
       "    </tr>\n",
       "    <tr>\n",
       "      <th>8</th>\n",
       "      <td>2</td>\n",
       "      <td>-6929.865299</td>\n",
       "      <td>35</td>\n",
       "      <td>ВЫСШЕЕ</td>\n",
       "      <td>0</td>\n",
       "      <td>гражданский брак</td>\n",
       "      <td>1</td>\n",
       "      <td>F</td>\n",
       "      <td>сотрудник</td>\n",
       "      <td>0</td>\n",
       "      <td>95856.832424</td>\n",
       "      <td>на проведение свадьбы</td>\n",
       "    </tr>\n",
       "    <tr>\n",
       "      <th>9</th>\n",
       "      <td>0</td>\n",
       "      <td>-2188.756445</td>\n",
       "      <td>41</td>\n",
       "      <td>среднее</td>\n",
       "      <td>1</td>\n",
       "      <td>женат / замужем</td>\n",
       "      <td>0</td>\n",
       "      <td>M</td>\n",
       "      <td>сотрудник</td>\n",
       "      <td>0</td>\n",
       "      <td>144425.938277</td>\n",
       "      <td>покупка жилья для семьи</td>\n",
       "    </tr>\n",
       "  </tbody>\n",
       "</table>\n",
       "</div>"
      ],
      "text/plain": [
       "   children  days_employed  dob_years education  education_id  \\\n",
       "0         1   -8437.673028         42    высшее             0   \n",
       "1         1   -4024.803754         36   среднее             1   \n",
       "2         0   -5623.422610         33   Среднее             1   \n",
       "3         3   -4124.747207         32   среднее             1   \n",
       "4         0  340266.072047         53   среднее             1   \n",
       "5         0    -926.185831         27    высшее             0   \n",
       "6         0   -2879.202052         43    высшее             0   \n",
       "7         0    -152.779569         50   СРЕДНЕЕ             1   \n",
       "8         2   -6929.865299         35    ВЫСШЕЕ             0   \n",
       "9         0   -2188.756445         41   среднее             1   \n",
       "\n",
       "      family_status  family_status_id gender income_type  debt   total_income  \\\n",
       "0   женат / замужем                 0      F   сотрудник     0  253875.639453   \n",
       "1   женат / замужем                 0      F   сотрудник     0  112080.014102   \n",
       "2   женат / замужем                 0      M   сотрудник     0  145885.952297   \n",
       "3   женат / замужем                 0      M   сотрудник     0  267628.550329   \n",
       "4  гражданский брак                 1      F   пенсионер     0  158616.077870   \n",
       "5  гражданский брак                 1      M   компаньон     0  255763.565419   \n",
       "6   женат / замужем                 0      F   компаньон     0  240525.971920   \n",
       "7   женат / замужем                 0      M   сотрудник     0  135823.934197   \n",
       "8  гражданский брак                 1      F   сотрудник     0   95856.832424   \n",
       "9   женат / замужем                 0      M   сотрудник     0  144425.938277   \n",
       "\n",
       "                      purpose  \n",
       "0               покупка жилья  \n",
       "1     приобретение автомобиля  \n",
       "2               покупка жилья  \n",
       "3  дополнительное образование  \n",
       "4             сыграть свадьбу  \n",
       "5               покупка жилья  \n",
       "6           операции с жильем  \n",
       "7                 образование  \n",
       "8       на проведение свадьбы  \n",
       "9     покупка жилья для семьи  "
      ]
     },
     "metadata": {},
     "output_type": "display_data"
    }
   ],
   "source": [
    "df = pd.read_csv('/datasets/data.csv')\n",
    "display(df.head(10))"
   ]
  },
  {
   "cell_type": "markdown",
   "id": "a3448a02",
   "metadata": {},
   "source": [
    "Получу общую информацию о таблице."
   ]
  },
  {
   "cell_type": "code",
   "execution_count": 3,
   "id": "ca9402de",
   "metadata": {},
   "outputs": [
    {
     "name": "stdout",
     "output_type": "stream",
     "text": [
      "<class 'pandas.core.frame.DataFrame'>\n",
      "RangeIndex: 21525 entries, 0 to 21524\n",
      "Data columns (total 12 columns):\n",
      " #   Column            Non-Null Count  Dtype  \n",
      "---  ------            --------------  -----  \n",
      " 0   children          21525 non-null  int64  \n",
      " 1   days_employed     19351 non-null  float64\n",
      " 2   dob_years         21525 non-null  int64  \n",
      " 3   education         21525 non-null  object \n",
      " 4   education_id      21525 non-null  int64  \n",
      " 5   family_status     21525 non-null  object \n",
      " 6   family_status_id  21525 non-null  int64  \n",
      " 7   gender            21525 non-null  object \n",
      " 8   income_type       21525 non-null  object \n",
      " 9   debt              21525 non-null  int64  \n",
      " 10  total_income      19351 non-null  float64\n",
      " 11  purpose           21525 non-null  object \n",
      "dtypes: float64(2), int64(5), object(5)\n",
      "memory usage: 2.0+ MB\n"
     ]
    }
   ],
   "source": [
    "df.info()"
   ]
  },
  {
   "cell_type": "markdown",
   "id": "3be19fdb",
   "metadata": {},
   "source": [
    "В таблице 12 столбцов. В соответствии с имеющейся документацией к данным:\n",
    "\n",
    "- children — количество детей в семье\n",
    "- days_employed — общий трудовой стаж в днях\n",
    "- dob_years — возраст клиента в годах\n",
    "- education — уровень образования клиента\n",
    "- education_id — идентификатор уровня образования\n",
    "- family_status — семейное положение\n",
    "- family_status_id — идентификатор семейного положения\n",
    "- gender — пол клиента\n",
    "- income_type — тип занятости\n",
    "- debt — имел ли задолженность по возврату кредитов\n",
    "- total_income — ежемесячный доход\n",
    "- purpose — цель получения кредита\n",
    "\n",
    "Присутствуют разные типы данных - `float`, `int` и `object`. \n",
    "\n",
    "Выводы:\n",
    "- В названиях колонок не видно нарушений стиля;\n",
    "- В стобцах total_income и days_employed отличное от других количество строк, значит присутствуют пропуски;\n",
    "- В столбце education данные записаны в разных регистрах, это может повлиять на обработку значений;\n",
    "- В столбце days_employed данные принимают отрицательное значение."
   ]
  },
  {
   "cell_type": "markdown",
   "id": "859d52ff",
   "metadata": {},
   "source": [
    "## Шаг 2. Предобработка данных"
   ]
  },
  {
   "cell_type": "markdown",
   "id": "f6ff54ce",
   "metadata": {},
   "source": [
    "### Шаг 2.1 Заполнение пропусков"
   ]
  },
  {
   "cell_type": "markdown",
   "id": "b2d48721",
   "metadata": {},
   "source": [
    "На предыдущем этапе обнаружено два столбца, в которых могут быть пропуски total_income и days_employed.\n",
    "Проверю это, применив функции isna() и sum(), для расчета количества нулевых значений в столбцах по всей таблице."
   ]
  },
  {
   "cell_type": "code",
   "execution_count": 4,
   "id": "85af94c0",
   "metadata": {},
   "outputs": [
    {
     "data": {
      "text/plain": [
       "children               0\n",
       "days_employed       2174\n",
       "dob_years              0\n",
       "education              0\n",
       "education_id           0\n",
       "family_status          0\n",
       "family_status_id       0\n",
       "gender                 0\n",
       "income_type            0\n",
       "debt                   0\n",
       "total_income        2174\n",
       "purpose                0\n",
       "dtype: int64"
      ]
     },
     "execution_count": 4,
     "metadata": {},
     "output_type": "execute_result"
    }
   ],
   "source": [
    "df.isna().sum()"
   ]
  },
  {
   "cell_type": "markdown",
   "id": "b2984b1b",
   "metadata": {},
   "source": [
    "Действительно, в столбцах days_employed и total_income по 2174 пропущенных значения. Но вывод метод isna() осуществляет поиск только особых значений NaN и None. В выводе общей информации о таблице было указанно, что в этих столбцах содержаться значения только типа float, значит пропуски записаны как NaN. Остальные значения буду воспринимать как артефакты, их рассматрю в следующих пунктах.\n",
    "\n",
    "Следует обратить внимае на то, что количество пропусков совпадает в обоих столбцах. Возможно пропуски находятся в одних строках. Проверю это, использовав метод loc[] для фильтрации пропусков и функцию len() для рассчета колличества строк.\n"
   ]
  },
  {
   "cell_type": "code",
   "execution_count": 5,
   "id": "4644648e",
   "metadata": {},
   "outputs": [
    {
     "name": "stdout",
     "output_type": "stream",
     "text": [
      "Количество пропусков: 2174\n"
     ]
    }
   ],
   "source": [
    "df_missing_values = df.loc[df['days_employed'].isna() & df['total_income'].isna()]\n",
    "missing_values_count = len(df_missing_values)\n",
    "print('Количество пропусков:', missing_values_count)"
   ]
  },
  {
   "cell_type": "markdown",
   "id": "caed6f70",
   "metadata": {},
   "source": [
    "Все пропущенные значения в столбцах days_employed и total_income находятся в одних строках. Следовательно долю пропущенных значений можно рассчитать следующим образом:"
   ]
  },
  {
   "cell_type": "code",
   "execution_count": 6,
   "id": "66d2ae9f",
   "metadata": {},
   "outputs": [
    {
     "name": "stdout",
     "output_type": "stream",
     "text": [
      "Доля пропущенных значений: 10.10%\n"
     ]
    }
   ],
   "source": [
    "print('Доля пропущенных значений:', '{:.2%}'.format(df['days_employed'].isna().mean())) #f'{(missing_values_count/21525):.2%}')"
   ]
  },
  {
   "cell_type": "markdown",
   "id": "a5f2506e",
   "metadata": {},
   "source": [
    "Рассмотрим строки с пропущенными значениями. Выведу на экран первые 10 строк."
   ]
  },
  {
   "cell_type": "code",
   "execution_count": 7,
   "id": "46ec3711",
   "metadata": {},
   "outputs": [
    {
     "data": {
      "text/html": [
       "<div>\n",
       "<style scoped>\n",
       "    .dataframe tbody tr th:only-of-type {\n",
       "        vertical-align: middle;\n",
       "    }\n",
       "\n",
       "    .dataframe tbody tr th {\n",
       "        vertical-align: top;\n",
       "    }\n",
       "\n",
       "    .dataframe thead th {\n",
       "        text-align: right;\n",
       "    }\n",
       "</style>\n",
       "<table border=\"1\" class=\"dataframe\">\n",
       "  <thead>\n",
       "    <tr style=\"text-align: right;\">\n",
       "      <th></th>\n",
       "      <th>children</th>\n",
       "      <th>days_employed</th>\n",
       "      <th>dob_years</th>\n",
       "      <th>education</th>\n",
       "      <th>education_id</th>\n",
       "      <th>family_status</th>\n",
       "      <th>family_status_id</th>\n",
       "      <th>gender</th>\n",
       "      <th>income_type</th>\n",
       "      <th>debt</th>\n",
       "      <th>total_income</th>\n",
       "      <th>purpose</th>\n",
       "    </tr>\n",
       "  </thead>\n",
       "  <tbody>\n",
       "    <tr>\n",
       "      <th>12</th>\n",
       "      <td>0</td>\n",
       "      <td>NaN</td>\n",
       "      <td>65</td>\n",
       "      <td>среднее</td>\n",
       "      <td>1</td>\n",
       "      <td>гражданский брак</td>\n",
       "      <td>1</td>\n",
       "      <td>M</td>\n",
       "      <td>пенсионер</td>\n",
       "      <td>0</td>\n",
       "      <td>NaN</td>\n",
       "      <td>сыграть свадьбу</td>\n",
       "    </tr>\n",
       "    <tr>\n",
       "      <th>26</th>\n",
       "      <td>0</td>\n",
       "      <td>NaN</td>\n",
       "      <td>41</td>\n",
       "      <td>среднее</td>\n",
       "      <td>1</td>\n",
       "      <td>женат / замужем</td>\n",
       "      <td>0</td>\n",
       "      <td>M</td>\n",
       "      <td>госслужащий</td>\n",
       "      <td>0</td>\n",
       "      <td>NaN</td>\n",
       "      <td>образование</td>\n",
       "    </tr>\n",
       "    <tr>\n",
       "      <th>29</th>\n",
       "      <td>0</td>\n",
       "      <td>NaN</td>\n",
       "      <td>63</td>\n",
       "      <td>среднее</td>\n",
       "      <td>1</td>\n",
       "      <td>Не женат / не замужем</td>\n",
       "      <td>4</td>\n",
       "      <td>F</td>\n",
       "      <td>пенсионер</td>\n",
       "      <td>0</td>\n",
       "      <td>NaN</td>\n",
       "      <td>строительство жилой недвижимости</td>\n",
       "    </tr>\n",
       "    <tr>\n",
       "      <th>41</th>\n",
       "      <td>0</td>\n",
       "      <td>NaN</td>\n",
       "      <td>50</td>\n",
       "      <td>среднее</td>\n",
       "      <td>1</td>\n",
       "      <td>женат / замужем</td>\n",
       "      <td>0</td>\n",
       "      <td>F</td>\n",
       "      <td>госслужащий</td>\n",
       "      <td>0</td>\n",
       "      <td>NaN</td>\n",
       "      <td>сделка с подержанным автомобилем</td>\n",
       "    </tr>\n",
       "    <tr>\n",
       "      <th>55</th>\n",
       "      <td>0</td>\n",
       "      <td>NaN</td>\n",
       "      <td>54</td>\n",
       "      <td>среднее</td>\n",
       "      <td>1</td>\n",
       "      <td>гражданский брак</td>\n",
       "      <td>1</td>\n",
       "      <td>F</td>\n",
       "      <td>пенсионер</td>\n",
       "      <td>1</td>\n",
       "      <td>NaN</td>\n",
       "      <td>сыграть свадьбу</td>\n",
       "    </tr>\n",
       "    <tr>\n",
       "      <th>65</th>\n",
       "      <td>0</td>\n",
       "      <td>NaN</td>\n",
       "      <td>21</td>\n",
       "      <td>среднее</td>\n",
       "      <td>1</td>\n",
       "      <td>Не женат / не замужем</td>\n",
       "      <td>4</td>\n",
       "      <td>M</td>\n",
       "      <td>компаньон</td>\n",
       "      <td>0</td>\n",
       "      <td>NaN</td>\n",
       "      <td>операции с коммерческой недвижимостью</td>\n",
       "    </tr>\n",
       "    <tr>\n",
       "      <th>67</th>\n",
       "      <td>0</td>\n",
       "      <td>NaN</td>\n",
       "      <td>52</td>\n",
       "      <td>высшее</td>\n",
       "      <td>0</td>\n",
       "      <td>женат / замужем</td>\n",
       "      <td>0</td>\n",
       "      <td>F</td>\n",
       "      <td>пенсионер</td>\n",
       "      <td>0</td>\n",
       "      <td>NaN</td>\n",
       "      <td>покупка жилья для семьи</td>\n",
       "    </tr>\n",
       "    <tr>\n",
       "      <th>72</th>\n",
       "      <td>1</td>\n",
       "      <td>NaN</td>\n",
       "      <td>32</td>\n",
       "      <td>высшее</td>\n",
       "      <td>0</td>\n",
       "      <td>женат / замужем</td>\n",
       "      <td>0</td>\n",
       "      <td>M</td>\n",
       "      <td>госслужащий</td>\n",
       "      <td>0</td>\n",
       "      <td>NaN</td>\n",
       "      <td>операции с коммерческой недвижимостью</td>\n",
       "    </tr>\n",
       "    <tr>\n",
       "      <th>82</th>\n",
       "      <td>2</td>\n",
       "      <td>NaN</td>\n",
       "      <td>50</td>\n",
       "      <td>высшее</td>\n",
       "      <td>0</td>\n",
       "      <td>женат / замужем</td>\n",
       "      <td>0</td>\n",
       "      <td>F</td>\n",
       "      <td>сотрудник</td>\n",
       "      <td>0</td>\n",
       "      <td>NaN</td>\n",
       "      <td>жилье</td>\n",
       "    </tr>\n",
       "    <tr>\n",
       "      <th>83</th>\n",
       "      <td>0</td>\n",
       "      <td>NaN</td>\n",
       "      <td>52</td>\n",
       "      <td>среднее</td>\n",
       "      <td>1</td>\n",
       "      <td>женат / замужем</td>\n",
       "      <td>0</td>\n",
       "      <td>M</td>\n",
       "      <td>сотрудник</td>\n",
       "      <td>0</td>\n",
       "      <td>NaN</td>\n",
       "      <td>жилье</td>\n",
       "    </tr>\n",
       "  </tbody>\n",
       "</table>\n",
       "</div>"
      ],
      "text/plain": [
       "    children  days_employed  dob_years education  education_id  \\\n",
       "12         0            NaN         65   среднее             1   \n",
       "26         0            NaN         41   среднее             1   \n",
       "29         0            NaN         63   среднее             1   \n",
       "41         0            NaN         50   среднее             1   \n",
       "55         0            NaN         54   среднее             1   \n",
       "65         0            NaN         21   среднее             1   \n",
       "67         0            NaN         52    высшее             0   \n",
       "72         1            NaN         32    высшее             0   \n",
       "82         2            NaN         50    высшее             0   \n",
       "83         0            NaN         52   среднее             1   \n",
       "\n",
       "            family_status  family_status_id gender  income_type  debt  \\\n",
       "12       гражданский брак                 1      M    пенсионер     0   \n",
       "26        женат / замужем                 0      M  госслужащий     0   \n",
       "29  Не женат / не замужем                 4      F    пенсионер     0   \n",
       "41        женат / замужем                 0      F  госслужащий     0   \n",
       "55       гражданский брак                 1      F    пенсионер     1   \n",
       "65  Не женат / не замужем                 4      M    компаньон     0   \n",
       "67        женат / замужем                 0      F    пенсионер     0   \n",
       "72        женат / замужем                 0      M  госслужащий     0   \n",
       "82        женат / замужем                 0      F    сотрудник     0   \n",
       "83        женат / замужем                 0      M    сотрудник     0   \n",
       "\n",
       "    total_income                                purpose  \n",
       "12           NaN                        сыграть свадьбу  \n",
       "26           NaN                            образование  \n",
       "29           NaN       строительство жилой недвижимости  \n",
       "41           NaN       сделка с подержанным автомобилем  \n",
       "55           NaN                        сыграть свадьбу  \n",
       "65           NaN  операции с коммерческой недвижимостью  \n",
       "67           NaN                покупка жилья для семьи  \n",
       "72           NaN  операции с коммерческой недвижимостью  \n",
       "82           NaN                                  жилье  \n",
       "83           NaN                                  жилье  "
      ]
     },
     "metadata": {},
     "output_type": "display_data"
    }
   ],
   "source": [
    "display(df_missing_values.head(10))"
   ]
  },
  {
   "cell_type": "markdown",
   "id": "709054cf",
   "metadata": {},
   "source": [
    "Пропущенные значения могли возникнуть по нескольким причинам:\n",
    "- при выгрузке данных произошла ошибка, тогда необходимо обратиться к разработчикам за помощью и исправлением ошибок, но доступа к ним сейчас у меня нет;\n",
    "- человеческий фактор, данные были некорректно введены при заполнении.\n",
    "\n",
    "Удалить пропущенные значения нельзя, так как потеряется 1/10 информации, которая содержится в других столбцах датасета. Это повлияет на результаты исследования. Пропуски необходимо заменить на типовые значения таблицы, такими могут выступать медиана или среднее.\n",
    "\n",
    "В данных могут присутствовать артефакты или сильно выделяющиеся значения среди большинства, поэтому среднее значение будет некорректно описывать таблицу. Небходимо использовать медиану.\n",
    "\n",
    "Заменю пропуски в столбце 'total_income' на медианное значение используя функцию fillna() и проверю, что замена прошла успешно."
   ]
  },
  {
   "cell_type": "code",
   "execution_count": 8,
   "id": "673d67d5",
   "metadata": {},
   "outputs": [
    {
     "name": "stdout",
     "output_type": "stream",
     "text": [
      "Количество пропусков в столбце total_income: 0\n"
     ]
    }
   ],
   "source": [
    "df['total_income'] = df['total_income'].fillna(df['total_income'].median())\n",
    "print('Количество пропусков в столбце total_income:', df['total_income'].isna().sum())"
   ]
  },
  {
   "cell_type": "markdown",
   "id": "dfbcd976",
   "metadata": {},
   "source": [
    "Перед заменой пропусков в столбце days_employed необходимо обработать отрицательные значения. Они могли появиться по следующим причинам:\n",
    "- при рассчете трудового стажа были перепутаны даты начала и окончания работы;\n",
    "- ошибки форматирования данных: даты были введены в разных форматах. Чтобы исправить эту ошибку нужны исходные данные, таких у меня нет.\n",
    "\n",
    "Заменю отрицательные значения на их модуль, использую функцию abs() и проверю, что отрицательных значений больше нет."
   ]
  },
  {
   "cell_type": "code",
   "execution_count": 9,
   "id": "c8e17111",
   "metadata": {},
   "outputs": [
    {
     "name": "stdout",
     "output_type": "stream",
     "text": [
      "Количество отрицательных значений в столбце days_employed: 0\n"
     ]
    }
   ],
   "source": [
    "df['days_employed'] = df['days_employed'].abs()\n",
    "print('Количество отрицательных значений в столбце days_employed:', df[df['days_employed'] < 0]['days_employed'].count())"
   ]
  },
  {
   "cell_type": "markdown",
   "id": "3f93344c",
   "metadata": {},
   "source": [
    "Заменю пропуски в столбце 'days_employed' на медианное значение, используя функцию fillna() и проверю, что пропусков больше нет."
   ]
  },
  {
   "cell_type": "code",
   "execution_count": 10,
   "id": "1ded5f6d",
   "metadata": {},
   "outputs": [
    {
     "name": "stdout",
     "output_type": "stream",
     "text": [
      "Количество пропусков в столбце days_employed: 0\n"
     ]
    }
   ],
   "source": [
    "df['days_employed'] = df['days_employed'].fillna(df['days_employed'].median())\n",
    "print('Количество пропусков в столбце days_employed:', df['days_employed'].isna().sum())"
   ]
  },
  {
   "cell_type": "markdown",
   "id": "fc697f58",
   "metadata": {},
   "source": [
    "### Шаг 2.2 Проверка данных на аномалии и исправления."
   ]
  },
  {
   "cell_type": "markdown",
   "id": "9a7e93a1",
   "metadata": {},
   "source": [
    "По аналогии со столбцом days_employed в данных могут присутствовать и другие аномарии. Такие артифакты могут возникать из-за некорректного ввода значений при заполнении таблиц (человеческий фактор), при выгрузке данных или из-за ошибок форматирования. Для проверки оставшихся колонок применю к ним метод value_counts(), рассмотрю уникальные значения по каждому столбцу и их количество.\n",
    "\n",
    "Расчет уникальных значений для колонки children."
   ]
  },
  {
   "cell_type": "code",
   "execution_count": 11,
   "id": "b4ab0d42",
   "metadata": {},
   "outputs": [
    {
     "data": {
      "text/plain": [
       " 0     14149\n",
       " 1      4818\n",
       " 2      2055\n",
       " 3       330\n",
       " 20       76\n",
       "-1        47\n",
       " 4        41\n",
       " 5         9\n",
       "Name: children, dtype: int64"
      ]
     },
     "execution_count": 11,
     "metadata": {},
     "output_type": "execute_result"
    }
   ],
   "source": [
    "df['children'].value_counts()"
   ]
  },
  {
   "cell_type": "markdown",
   "id": "6e0f5b57",
   "metadata": {},
   "source": [
    "В колонке children пропущенных значений нет. \n",
    "\n",
    "Но есть другие аномалии: \n",
    "1. 47 отрицательных значений (-1), что значило бы, что у кого-то -1 ребенок; \n",
    "2. 76 значений с количеством детей 20, цифра сильно выделяется из общей выборки и выглядит неправдоподобно.\n",
    "\n",
    "Таких значений менее 1%, на результаты обработки это сильно не повлияет, но оставлять их некорректно. Заменю значения -1 на 1 и 20 на 2, таким образом присоединю эти группы клиентов к более многочисленным. Для этого использую функцию replace(), убежусь что замена прошла успешно."
   ]
  },
  {
   "cell_type": "code",
   "execution_count": 12,
   "id": "dae23064",
   "metadata": {},
   "outputs": [
    {
     "data": {
      "text/plain": [
       "0    14149\n",
       "1     4865\n",
       "2     2131\n",
       "3      330\n",
       "4       41\n",
       "5        9\n",
       "Name: children, dtype: int64"
      ]
     },
     "execution_count": 12,
     "metadata": {},
     "output_type": "execute_result"
    }
   ],
   "source": [
    "df['children'] = df['children'].replace(-1, 1)\n",
    "df['children'] = df['children'].replace(20, 2)\n",
    "df['children'].value_counts()"
   ]
  },
  {
   "cell_type": "markdown",
   "id": "cb498d26",
   "metadata": {},
   "source": [
    "Расчет уникальных значений для колонки dob_years."
   ]
  },
  {
   "cell_type": "code",
   "execution_count": 13,
   "id": "b69e00f1",
   "metadata": {},
   "outputs": [
    {
     "data": {
      "text/plain": [
       "35    617\n",
       "40    609\n",
       "41    607\n",
       "34    603\n",
       "38    598\n",
       "42    597\n",
       "33    581\n",
       "39    573\n",
       "31    560\n",
       "36    555\n",
       "44    547\n",
       "29    545\n",
       "30    540\n",
       "48    538\n",
       "37    537\n",
       "50    514\n",
       "43    513\n",
       "32    510\n",
       "49    508\n",
       "28    503\n",
       "45    497\n",
       "27    493\n",
       "56    487\n",
       "52    484\n",
       "47    480\n",
       "54    479\n",
       "46    475\n",
       "58    461\n",
       "57    460\n",
       "53    459\n",
       "51    448\n",
       "59    444\n",
       "55    443\n",
       "26    408\n",
       "60    377\n",
       "25    357\n",
       "61    355\n",
       "62    352\n",
       "63    269\n",
       "64    265\n",
       "24    264\n",
       "23    254\n",
       "65    194\n",
       "66    183\n",
       "22    183\n",
       "67    167\n",
       "21    111\n",
       "0     101\n",
       "68     99\n",
       "69     85\n",
       "70     65\n",
       "71     58\n",
       "20     51\n",
       "72     33\n",
       "19     14\n",
       "73      8\n",
       "74      6\n",
       "75      1\n",
       "Name: dob_years, dtype: int64"
      ]
     },
     "execution_count": 13,
     "metadata": {},
     "output_type": "execute_result"
    }
   ],
   "source": [
    "df['dob_years'].value_counts()"
   ]
  },
  {
   "cell_type": "markdown",
   "id": "617cdf70",
   "metadata": {},
   "source": [
    "В столбце dob_years есть 101 клиент со значением 0 лет. Так как нулевых значений в этом столбце меньше 1% и информация в этой колонке для обработки нам не нужна, то оставлю эти значения без изменений."
   ]
  },
  {
   "cell_type": "markdown",
   "id": "7d497ebc",
   "metadata": {},
   "source": [
    "Расчет уникальных значений для колонки education."
   ]
  },
  {
   "cell_type": "code",
   "execution_count": 14,
   "id": "6e333c5f",
   "metadata": {},
   "outputs": [
    {
     "data": {
      "text/plain": [
       "среднее                13750\n",
       "высшее                  4718\n",
       "СРЕДНЕЕ                  772\n",
       "Среднее                  711\n",
       "неоконченное высшее      668\n",
       "ВЫСШЕЕ                   274\n",
       "Высшее                   268\n",
       "начальное                250\n",
       "Неоконченное высшее       47\n",
       "НЕОКОНЧЕННОЕ ВЫСШЕЕ       29\n",
       "НАЧАЛЬНОЕ                 17\n",
       "Начальное                 15\n",
       "ученая степень             4\n",
       "Ученая степень             1\n",
       "УЧЕНАЯ СТЕПЕНЬ             1\n",
       "Name: education, dtype: int64"
      ]
     },
     "execution_count": 14,
     "metadata": {},
     "output_type": "execute_result"
    }
   ],
   "source": [
    "df['education'].value_counts()"
   ]
  },
  {
   "cell_type": "markdown",
   "id": "8775abba",
   "metadata": {},
   "source": [
    "Значения в колонке education необходимо привести к одному регистру. Использую для этого метод str.lower() и проверю, что исправление прошло успешно."
   ]
  },
  {
   "cell_type": "code",
   "execution_count": 15,
   "id": "e863f498",
   "metadata": {},
   "outputs": [
    {
     "data": {
      "text/plain": [
       "среднее                15233\n",
       "высшее                  5260\n",
       "неоконченное высшее      744\n",
       "начальное                282\n",
       "ученая степень             6\n",
       "Name: education, dtype: int64"
      ]
     },
     "execution_count": 15,
     "metadata": {},
     "output_type": "execute_result"
    }
   ],
   "source": [
    "df['education'] = df['education'].str.lower()\n",
    "df['education'].value_counts()"
   ]
  },
  {
   "cell_type": "markdown",
   "id": "7b4ed347",
   "metadata": {},
   "source": [
    "Расчет уникальных значений для колонки education_id."
   ]
  },
  {
   "cell_type": "code",
   "execution_count": 16,
   "id": "1ef727fc",
   "metadata": {
    "scrolled": true
   },
   "outputs": [
    {
     "data": {
      "text/plain": [
       "1    15233\n",
       "0     5260\n",
       "2      744\n",
       "3      282\n",
       "4        6\n",
       "Name: education_id, dtype: int64"
      ]
     },
     "execution_count": 16,
     "metadata": {},
     "output_type": "execute_result"
    }
   ],
   "source": [
    "df['education_id'].value_counts()"
   ]
  },
  {
   "cell_type": "markdown",
   "id": "6b062c2d",
   "metadata": {},
   "source": [
    "В колонке education_id аномалий нет, количество уникальных значений education_id совпадает с количеством уникальных значений education.\n",
    "\n",
    "Расчет уникальных значений для колонок family_status и family_status_id. Проверять их буду вместе, так как они связаны."
   ]
  },
  {
   "cell_type": "code",
   "execution_count": 17,
   "id": "56ab1c68",
   "metadata": {},
   "outputs": [
    {
     "data": {
      "text/plain": [
       "женат / замужем          12380\n",
       "гражданский брак          4177\n",
       "Не женат / не замужем     2813\n",
       "в разводе                 1195\n",
       "вдовец / вдова             960\n",
       "Name: family_status, dtype: int64"
      ]
     },
     "execution_count": 17,
     "metadata": {},
     "output_type": "execute_result"
    }
   ],
   "source": [
    "df['family_status'].value_counts()"
   ]
  },
  {
   "cell_type": "code",
   "execution_count": 18,
   "id": "6a29584c",
   "metadata": {},
   "outputs": [
    {
     "data": {
      "text/plain": [
       "0    12380\n",
       "1     4177\n",
       "4     2813\n",
       "3     1195\n",
       "2      960\n",
       "Name: family_status_id, dtype: int64"
      ]
     },
     "execution_count": 18,
     "metadata": {},
     "output_type": "execute_result"
    }
   ],
   "source": [
    "df['family_status_id'].value_counts()"
   ]
  },
  {
   "cell_type": "markdown",
   "id": "e92b5182",
   "metadata": {},
   "source": [
    "Количество уникальных значений в колонках family_status и family_status_id совпадает.\n",
    "Неявных дубликатов в столбце family_status нет, но я приведу значения к одному регистру, так как это хороший стиль."
   ]
  },
  {
   "cell_type": "code",
   "execution_count": 19,
   "id": "c8b2b5d8",
   "metadata": {},
   "outputs": [
    {
     "data": {
      "text/plain": [
       "женат / замужем          12380\n",
       "гражданский брак          4177\n",
       "не женат / не замужем     2813\n",
       "в разводе                 1195\n",
       "вдовец / вдова             960\n",
       "Name: family_status, dtype: int64"
      ]
     },
     "execution_count": 19,
     "metadata": {},
     "output_type": "execute_result"
    }
   ],
   "source": [
    "df['family_status'] = df['family_status'].str.lower()\n",
    "df['family_status'].value_counts()"
   ]
  },
  {
   "cell_type": "markdown",
   "id": "e1e63ddd",
   "metadata": {},
   "source": [
    "Расчет уникальных значений для колонки gender"
   ]
  },
  {
   "cell_type": "code",
   "execution_count": 20,
   "id": "3f4972a1",
   "metadata": {},
   "outputs": [
    {
     "data": {
      "text/plain": [
       "F      14236\n",
       "M       7288\n",
       "XNA        1\n",
       "Name: gender, dtype: int64"
      ]
     },
     "execution_count": 20,
     "metadata": {},
     "output_type": "execute_result"
    }
   ],
   "source": [
    "df['gender'].value_counts()"
   ]
  },
  {
   "cell_type": "markdown",
   "id": "52073d8b",
   "metadata": {},
   "source": [
    "В столбце gender есть одно значение отличное от других (XNA). Может означать, что был клиент с неопределенным полом или произошла ошибка при вводе или выводе данных. Пол клиента в анализе участвовать не будет и значение это только одно, оставлю это без изменения.\n",
    "\n",
    "Расчет уникальных значений для колонки income_type."
   ]
  },
  {
   "cell_type": "code",
   "execution_count": 21,
   "id": "fba5917a",
   "metadata": {},
   "outputs": [
    {
     "data": {
      "text/plain": [
       "сотрудник          11119\n",
       "компаньон           5085\n",
       "пенсионер           3856\n",
       "госслужащий         1459\n",
       "безработный            2\n",
       "предприниматель        2\n",
       "в декрете              1\n",
       "студент                1\n",
       "Name: income_type, dtype: int64"
      ]
     },
     "execution_count": 21,
     "metadata": {},
     "output_type": "execute_result"
    }
   ],
   "source": [
    "df['income_type'].value_counts()"
   ]
  },
  {
   "cell_type": "markdown",
   "id": "defc588b",
   "metadata": {},
   "source": [
    "В колонке income_type аномалий не вижу.\n",
    "\n",
    "Расчет уникальных значений для колонки debt."
   ]
  },
  {
   "cell_type": "code",
   "execution_count": 22,
   "id": "7739687d",
   "metadata": {},
   "outputs": [
    {
     "data": {
      "text/plain": [
       "0    19784\n",
       "1     1741\n",
       "Name: debt, dtype: int64"
      ]
     },
     "execution_count": 22,
     "metadata": {},
     "output_type": "execute_result"
    }
   ],
   "source": [
    "df['debt'].value_counts()"
   ]
  },
  {
   "cell_type": "markdown",
   "id": "fc00706f",
   "metadata": {},
   "source": [
    "В колонке debt аномалий не вижу.\n",
    "\n",
    "Расчет уникальных значений для колонки purpose."
   ]
  },
  {
   "cell_type": "code",
   "execution_count": 23,
   "id": "7612ef1b",
   "metadata": {},
   "outputs": [
    {
     "data": {
      "text/plain": [
       "свадьба                                   797\n",
       "на проведение свадьбы                     777\n",
       "сыграть свадьбу                           774\n",
       "операции с недвижимостью                  676\n",
       "покупка коммерческой недвижимости         664\n",
       "операции с жильем                         653\n",
       "покупка жилья для сдачи                   653\n",
       "операции с коммерческой недвижимостью     651\n",
       "жилье                                     647\n",
       "покупка жилья                             647\n",
       "покупка жилья для семьи                   641\n",
       "строительство собственной недвижимости    635\n",
       "недвижимость                              634\n",
       "операции со своей недвижимостью           630\n",
       "строительство жилой недвижимости          626\n",
       "покупка недвижимости                      624\n",
       "строительство недвижимости                620\n",
       "покупка своего жилья                      620\n",
       "ремонт жилью                              612\n",
       "покупка жилой недвижимости                607\n",
       "на покупку своего автомобиля              505\n",
       "заняться высшим образованием              496\n",
       "автомобиль                                495\n",
       "сделка с подержанным автомобилем          489\n",
       "свой автомобиль                           480\n",
       "на покупку подержанного автомобиля        479\n",
       "автомобили                                478\n",
       "на покупку автомобиля                     472\n",
       "дополнительное образование                462\n",
       "приобретение автомобиля                   462\n",
       "сделка с автомобилем                      455\n",
       "высшее образование                        453\n",
       "получение дополнительного образования     447\n",
       "образование                               447\n",
       "получение образования                     443\n",
       "профильное образование                    436\n",
       "получение высшего образования             426\n",
       "заняться образованием                     412\n",
       "Name: purpose, dtype: int64"
      ]
     },
     "execution_count": 23,
     "metadata": {},
     "output_type": "execute_result"
    }
   ],
   "source": [
    "df['purpose'].value_counts()"
   ]
  },
  {
   "cell_type": "markdown",
   "id": "f84aa33a",
   "metadata": {},
   "source": [
    "На данный момент аномалий в колонке purpose не вижу, но возможно из нужно будет сократить в последствии."
   ]
  },
  {
   "cell_type": "markdown",
   "id": "4a679ffa",
   "metadata": {},
   "source": [
    "### Шаг 2.3. Изменение типов данных."
   ]
  },
  {
   "cell_type": "markdown",
   "id": "bb0fb1cc",
   "metadata": {},
   "source": [
    "Для увеличения скорости расчетов и экономии ресурсов компьютера заменю вещественный тип данных в столбце total_income на целочисленный, с помощью метода astype(). Проверю, что все прошло успешно, запросив общую информацию о таблице."
   ]
  },
  {
   "cell_type": "code",
   "execution_count": 24,
   "id": "82fc30b2",
   "metadata": {},
   "outputs": [
    {
     "name": "stdout",
     "output_type": "stream",
     "text": [
      "<class 'pandas.core.frame.DataFrame'>\n",
      "RangeIndex: 21525 entries, 0 to 21524\n",
      "Data columns (total 12 columns):\n",
      " #   Column            Non-Null Count  Dtype  \n",
      "---  ------            --------------  -----  \n",
      " 0   children          21525 non-null  int64  \n",
      " 1   days_employed     21525 non-null  float64\n",
      " 2   dob_years         21525 non-null  int64  \n",
      " 3   education         21525 non-null  object \n",
      " 4   education_id      21525 non-null  int64  \n",
      " 5   family_status     21525 non-null  object \n",
      " 6   family_status_id  21525 non-null  int64  \n",
      " 7   gender            21525 non-null  object \n",
      " 8   income_type       21525 non-null  object \n",
      " 9   debt              21525 non-null  int64  \n",
      " 10  total_income      21525 non-null  int64  \n",
      " 11  purpose           21525 non-null  object \n",
      "dtypes: float64(1), int64(6), object(5)\n",
      "memory usage: 2.0+ MB\n"
     ]
    }
   ],
   "source": [
    "df['total_income'] = df['total_income'].astype('int')\n",
    "df.info()"
   ]
  },
  {
   "cell_type": "markdown",
   "id": "608db3d0",
   "metadata": {},
   "source": [
    "Тип данных в столбце total_income изменился на int."
   ]
  },
  {
   "cell_type": "markdown",
   "id": "6024ae5b",
   "metadata": {},
   "source": [
    "### Шаг 2.4. Удаление дубликатов."
   ]
  },
  {
   "cell_type": "markdown",
   "id": "1654ca91",
   "metadata": {},
   "source": [
    "Возможные аномалии в данных были мной исправлены на предидущих этапах исследования.\n",
    "Проверю есть ли полные дубликаты в таблице, используя функции duplicated() и sum()."
   ]
  },
  {
   "cell_type": "code",
   "execution_count": 25,
   "id": "68bed47f",
   "metadata": {},
   "outputs": [
    {
     "name": "stdout",
     "output_type": "stream",
     "text": [
      "Количество полных дубликатов: 71\n"
     ]
    }
   ],
   "source": [
    "print('Количество полных дубликатов:', df.duplicated().sum())"
   ]
  },
  {
   "cell_type": "markdown",
   "id": "2886223c",
   "metadata": {},
   "source": [
    "В датасете 72 дубликата. Удалю их используя фенкцию drop_duplicates() и метод reset_index(), чтобы не было пропусков в индексах. Проверю результат. "
   ]
  },
  {
   "cell_type": "code",
   "execution_count": 26,
   "id": "9e3b4436",
   "metadata": {},
   "outputs": [
    {
     "name": "stdout",
     "output_type": "stream",
     "text": [
      "Количество явных дубликатов: 0\n"
     ]
    }
   ],
   "source": [
    "df = df.drop_duplicates().reset_index(drop=True)\n",
    "print('Количество явных дубликатов:', df.duplicated().sum())"
   ]
  },
  {
   "cell_type": "markdown",
   "id": "48188bb1",
   "metadata": {},
   "source": [
    "В данном случае считаю корректным удаление только явных дубликатов (функция drop_duplicates()) с учетом исправленных ранее аномалий, по нескольким причинам:\n",
    "- один клиент мог брать несколько кредитов в одно время под разные цели, тогда его стаж и доход будет одинаковым;\n",
    "- в таблице нет суммарной характеристики по кредитам на одного конкретного клиента;\n",
    "- один клиент мог в разное время брать кредит, под одну цель.\n",
    "\n",
    "Возможные причины появления дубликатов:\n",
    "- данные об одном кленте могли появиться у разных отделений банков при погашении кредита;\n",
    "- клиент мог подавать одну заявку на кредит в разных ресурсах (например заявка в приложении, а оформление договора в банке), отсюда данные записанные в разных регистрах;\n",
    "- ошибки при выгрузке данных из базы.\n",
    "\n",
    "Ситуацию могла бы проянить дополнительная информация, например, номер кредитного договора или идентификационный номер клиента."
   ]
  },
  {
   "cell_type": "markdown",
   "id": "2152d099",
   "metadata": {},
   "source": [
    "### Шаг 2.5. Формирование дополнительных датафреймов словарей, декомпозиция исходного датафрейма."
   ]
  },
  {
   "cell_type": "markdown",
   "id": "56859f91",
   "metadata": {},
   "source": [
    "В рабчем датафрейме присутствуют два набора столбцов, у которых первое значение в текстовом формате показывает смысл, а второе является его идентификационным номером:\n",
    "- education и education_id;\n",
    "- family_status и family_status_id.\n",
    "\n",
    "Хранить оба значения в большом датафрейме не целесообразно, при этом для обработки удобнее будет оставить идентификационные номера, так как при работе с текстовыми значениями:\n",
    "- усложняется визуальная работа с таблицей;\n",
    "- увеличивается размер файла и время обработки данных;\n",
    "- чтобы отфильтровать данные по типу обращения, приходится набирать его полное название, это может привести к ошибкам;\n",
    "- создание новых категорий и изменение старых отнимает много времени.\n",
    "\n",
    "Уберу из рабочего датасета избыточную информацию так, чтобы она не потерялась. Для этого создам два новых датафрейма-словоря."
   ]
  },
  {
   "cell_type": "markdown",
   "id": "d19dafdd",
   "metadata": {},
   "source": [
    "Создание датафрейма-словоря для столбцов education и education_id."
   ]
  },
  {
   "cell_type": "code",
   "execution_count": 27,
   "id": "f5f90f24",
   "metadata": {},
   "outputs": [
    {
     "data": {
      "text/html": [
       "<div>\n",
       "<style scoped>\n",
       "    .dataframe tbody tr th:only-of-type {\n",
       "        vertical-align: middle;\n",
       "    }\n",
       "\n",
       "    .dataframe tbody tr th {\n",
       "        vertical-align: top;\n",
       "    }\n",
       "\n",
       "    .dataframe thead th {\n",
       "        text-align: right;\n",
       "    }\n",
       "</style>\n",
       "<table border=\"1\" class=\"dataframe\">\n",
       "  <thead>\n",
       "    <tr style=\"text-align: right;\">\n",
       "      <th></th>\n",
       "      <th>education</th>\n",
       "      <th>education_id</th>\n",
       "    </tr>\n",
       "  </thead>\n",
       "  <tbody>\n",
       "    <tr>\n",
       "      <th>0</th>\n",
       "      <td>высшее</td>\n",
       "      <td>0</td>\n",
       "    </tr>\n",
       "    <tr>\n",
       "      <th>1</th>\n",
       "      <td>среднее</td>\n",
       "      <td>1</td>\n",
       "    </tr>\n",
       "    <tr>\n",
       "      <th>2</th>\n",
       "      <td>неоконченное высшее</td>\n",
       "      <td>2</td>\n",
       "    </tr>\n",
       "    <tr>\n",
       "      <th>3</th>\n",
       "      <td>начальное</td>\n",
       "      <td>3</td>\n",
       "    </tr>\n",
       "    <tr>\n",
       "      <th>4</th>\n",
       "      <td>ученая степень</td>\n",
       "      <td>4</td>\n",
       "    </tr>\n",
       "  </tbody>\n",
       "</table>\n",
       "</div>"
      ],
      "text/plain": [
       "             education  education_id\n",
       "0               высшее             0\n",
       "1              среднее             1\n",
       "2  неоконченное высшее             2\n",
       "3            начальное             3\n",
       "4       ученая степень             4"
      ]
     },
     "metadata": {},
     "output_type": "display_data"
    }
   ],
   "source": [
    "df_education = df[['education','education_id']]                      #создание нового датафрейма из двух колонок рабочего\n",
    "df_education = df_education.drop_duplicates().reset_index(drop=True) #удаление дубликатов с обновлением индексов\n",
    "display(df_education.sort_values(by='education_id'))                 #вывод на экран датафрейма отсортированного по id"
   ]
  },
  {
   "cell_type": "markdown",
   "id": "f3da7d44",
   "metadata": {},
   "source": [
    "Создание датафрейма-словоря для столбцов family_status и family_status_id."
   ]
  },
  {
   "cell_type": "code",
   "execution_count": 28,
   "id": "7cf9f21c",
   "metadata": {},
   "outputs": [
    {
     "data": {
      "text/html": [
       "<div>\n",
       "<style scoped>\n",
       "    .dataframe tbody tr th:only-of-type {\n",
       "        vertical-align: middle;\n",
       "    }\n",
       "\n",
       "    .dataframe tbody tr th {\n",
       "        vertical-align: top;\n",
       "    }\n",
       "\n",
       "    .dataframe thead th {\n",
       "        text-align: right;\n",
       "    }\n",
       "</style>\n",
       "<table border=\"1\" class=\"dataframe\">\n",
       "  <thead>\n",
       "    <tr style=\"text-align: right;\">\n",
       "      <th></th>\n",
       "      <th>family_status</th>\n",
       "      <th>family_status_id</th>\n",
       "    </tr>\n",
       "  </thead>\n",
       "  <tbody>\n",
       "    <tr>\n",
       "      <th>0</th>\n",
       "      <td>женат / замужем</td>\n",
       "      <td>0</td>\n",
       "    </tr>\n",
       "    <tr>\n",
       "      <th>1</th>\n",
       "      <td>гражданский брак</td>\n",
       "      <td>1</td>\n",
       "    </tr>\n",
       "    <tr>\n",
       "      <th>2</th>\n",
       "      <td>вдовец / вдова</td>\n",
       "      <td>2</td>\n",
       "    </tr>\n",
       "    <tr>\n",
       "      <th>3</th>\n",
       "      <td>в разводе</td>\n",
       "      <td>3</td>\n",
       "    </tr>\n",
       "    <tr>\n",
       "      <th>4</th>\n",
       "      <td>не женат / не замужем</td>\n",
       "      <td>4</td>\n",
       "    </tr>\n",
       "  </tbody>\n",
       "</table>\n",
       "</div>"
      ],
      "text/plain": [
       "           family_status  family_status_id\n",
       "0        женат / замужем                 0\n",
       "1       гражданский брак                 1\n",
       "2         вдовец / вдова                 2\n",
       "3              в разводе                 3\n",
       "4  не женат / не замужем                 4"
      ]
     },
     "metadata": {},
     "output_type": "display_data"
    }
   ],
   "source": [
    "df_family_status = df[['family_status','family_status_id']]                  #создание нового датафрейма из двух колонок рабочего\n",
    "df_family_status = df_family_status.drop_duplicates().reset_index(drop=True) #удаление дубликатов с обновлением индексов\n",
    "display(df_family_status.sort_values(by='family_status_id'))                 #вывод на экран датафрейма отсортированного по id"
   ]
  },
  {
   "cell_type": "markdown",
   "id": "8264da4b",
   "metadata": {},
   "source": [
    "Нужная информация сохранена в новых датафреймах df_education и df_family_status.\n",
    "\n",
    "Теперь можно сократить рабочую таблицу.\n",
    "\n",
    "Удалю столбцы education и family_status. Выведу на экран первые 5 строк."
   ]
  },
  {
   "cell_type": "code",
   "execution_count": 29,
   "id": "92dc7c4c",
   "metadata": {},
   "outputs": [
    {
     "data": {
      "text/html": [
       "<div>\n",
       "<style scoped>\n",
       "    .dataframe tbody tr th:only-of-type {\n",
       "        vertical-align: middle;\n",
       "    }\n",
       "\n",
       "    .dataframe tbody tr th {\n",
       "        vertical-align: top;\n",
       "    }\n",
       "\n",
       "    .dataframe thead th {\n",
       "        text-align: right;\n",
       "    }\n",
       "</style>\n",
       "<table border=\"1\" class=\"dataframe\">\n",
       "  <thead>\n",
       "    <tr style=\"text-align: right;\">\n",
       "      <th></th>\n",
       "      <th>children</th>\n",
       "      <th>days_employed</th>\n",
       "      <th>dob_years</th>\n",
       "      <th>education_id</th>\n",
       "      <th>family_status_id</th>\n",
       "      <th>gender</th>\n",
       "      <th>income_type</th>\n",
       "      <th>debt</th>\n",
       "      <th>total_income</th>\n",
       "      <th>purpose</th>\n",
       "    </tr>\n",
       "  </thead>\n",
       "  <tbody>\n",
       "    <tr>\n",
       "      <th>0</th>\n",
       "      <td>1</td>\n",
       "      <td>8437.673028</td>\n",
       "      <td>42</td>\n",
       "      <td>0</td>\n",
       "      <td>0</td>\n",
       "      <td>F</td>\n",
       "      <td>сотрудник</td>\n",
       "      <td>0</td>\n",
       "      <td>253875</td>\n",
       "      <td>покупка жилья</td>\n",
       "    </tr>\n",
       "    <tr>\n",
       "      <th>1</th>\n",
       "      <td>1</td>\n",
       "      <td>4024.803754</td>\n",
       "      <td>36</td>\n",
       "      <td>1</td>\n",
       "      <td>0</td>\n",
       "      <td>F</td>\n",
       "      <td>сотрудник</td>\n",
       "      <td>0</td>\n",
       "      <td>112080</td>\n",
       "      <td>приобретение автомобиля</td>\n",
       "    </tr>\n",
       "    <tr>\n",
       "      <th>2</th>\n",
       "      <td>0</td>\n",
       "      <td>5623.422610</td>\n",
       "      <td>33</td>\n",
       "      <td>1</td>\n",
       "      <td>0</td>\n",
       "      <td>M</td>\n",
       "      <td>сотрудник</td>\n",
       "      <td>0</td>\n",
       "      <td>145885</td>\n",
       "      <td>покупка жилья</td>\n",
       "    </tr>\n",
       "    <tr>\n",
       "      <th>3</th>\n",
       "      <td>3</td>\n",
       "      <td>4124.747207</td>\n",
       "      <td>32</td>\n",
       "      <td>1</td>\n",
       "      <td>0</td>\n",
       "      <td>M</td>\n",
       "      <td>сотрудник</td>\n",
       "      <td>0</td>\n",
       "      <td>267628</td>\n",
       "      <td>дополнительное образование</td>\n",
       "    </tr>\n",
       "    <tr>\n",
       "      <th>4</th>\n",
       "      <td>0</td>\n",
       "      <td>340266.072047</td>\n",
       "      <td>53</td>\n",
       "      <td>1</td>\n",
       "      <td>1</td>\n",
       "      <td>F</td>\n",
       "      <td>пенсионер</td>\n",
       "      <td>0</td>\n",
       "      <td>158616</td>\n",
       "      <td>сыграть свадьбу</td>\n",
       "    </tr>\n",
       "  </tbody>\n",
       "</table>\n",
       "</div>"
      ],
      "text/plain": [
       "   children  days_employed  dob_years  education_id  family_status_id gender  \\\n",
       "0         1    8437.673028         42             0                 0      F   \n",
       "1         1    4024.803754         36             1                 0      F   \n",
       "2         0    5623.422610         33             1                 0      M   \n",
       "3         3    4124.747207         32             1                 0      M   \n",
       "4         0  340266.072047         53             1                 1      F   \n",
       "\n",
       "  income_type  debt  total_income                     purpose  \n",
       "0   сотрудник     0        253875               покупка жилья  \n",
       "1   сотрудник     0        112080     приобретение автомобиля  \n",
       "2   сотрудник     0        145885               покупка жилья  \n",
       "3   сотрудник     0        267628  дополнительное образование  \n",
       "4   пенсионер     0        158616             сыграть свадьбу  "
      ]
     },
     "metadata": {},
     "output_type": "display_data"
    }
   ],
   "source": [
    "df.drop(['education', 'family_status'], axis=1, inplace=True)\n",
    "display(df.head())"
   ]
  },
  {
   "cell_type": "markdown",
   "id": "2489539b",
   "metadata": {},
   "source": [
    "Избыточные данные удалены и сохранены в отдельные структуры. Так таблица выглядит компактнее и более удобна для анализа."
   ]
  },
  {
   "cell_type": "markdown",
   "id": "ac656b97",
   "metadata": {},
   "source": [
    "### Шаг 2.6. Категоризация дохода."
   ]
  },
  {
   "cell_type": "markdown",
   "id": "35e918ed",
   "metadata": {},
   "source": [
    "По результатам исследования мне необходимо ответить на вопрос: \"есть ли зависимость между уровнем дохода и возвратом кредита в срок?\"\n",
    "Значения столбца с уровнем дохода клиента принимают разные значения, которые встречаются только один раз. Работать с единичными отрывками и делать из них статистические выводы нельзя. Значит, нужно сгруппировать \n",
    "данные, чтобы численности каждой группы хватало для формулировки выводов.\n",
    "\n",
    "Нужна категоризация. Распределим клиентов по уровню дохода в соответствии с заданием на следующие категории:\n",
    "- 0–30000 — 'E';\n",
    "- 30001–50000 — 'D';\n",
    "- 50001–200000 — 'C';\n",
    "- 200001–1000000 — 'B';\n",
    "- 1000001 и выше — 'A'.\n",
    "\n",
    "Запишу правила классификации клиентов как функцию и проверю ее. "
   ]
  },
  {
   "cell_type": "code",
   "execution_count": 30,
   "id": "c5af781c",
   "metadata": {},
   "outputs": [
    {
     "name": "stdout",
     "output_type": "stream",
     "text": [
      "E\n",
      "D\n",
      "C\n",
      "B\n",
      "A\n",
      "Такой категории нет, проверьте входные данные\n"
     ]
    }
   ],
   "source": [
    "def total_income_group(total_income_value):\n",
    "    if 0 <= total_income_value <= 30000:\n",
    "        return 'E'\n",
    "    elif 30001 <= total_income_value <= 50000:\n",
    "        return 'D'\n",
    "    elif 50001 <= total_income_value <= 200000:\n",
    "        return 'C'\n",
    "    elif 200001 <= total_income_value <= 1000000:\n",
    "        return 'B'\n",
    "    elif 1000001 <= total_income_value:\n",
    "        return 'A'\n",
    "    else:\n",
    "        return 'Такой категории нет, проверьте входные данные'\n",
    "\n",
    "print(total_income_group(50))\n",
    "print(total_income_group(30001))\n",
    "print(total_income_group(50001))\n",
    "print(total_income_group(200001))\n",
    "print(total_income_group(1000001))\n",
    "print(total_income_group(-1))"
   ]
  },
  {
   "cell_type": "markdown",
   "id": "e610f4fa",
   "metadata": {},
   "source": [
    "Функция total_income_group работает как и задумано.\n",
    "\n",
    "Создам в рабочем датафрейме столбец total_income_category с категоризацией для столбца total_income. Для этого использую метод  apply(). Выведу на экран первые 5 строк таблицы и уникальные значения нового столбца для проверки результата."
   ]
  },
  {
   "cell_type": "code",
   "execution_count": 31,
   "id": "ccc307a7",
   "metadata": {},
   "outputs": [
    {
     "data": {
      "text/html": [
       "<div>\n",
       "<style scoped>\n",
       "    .dataframe tbody tr th:only-of-type {\n",
       "        vertical-align: middle;\n",
       "    }\n",
       "\n",
       "    .dataframe tbody tr th {\n",
       "        vertical-align: top;\n",
       "    }\n",
       "\n",
       "    .dataframe thead th {\n",
       "        text-align: right;\n",
       "    }\n",
       "</style>\n",
       "<table border=\"1\" class=\"dataframe\">\n",
       "  <thead>\n",
       "    <tr style=\"text-align: right;\">\n",
       "      <th></th>\n",
       "      <th>children</th>\n",
       "      <th>days_employed</th>\n",
       "      <th>dob_years</th>\n",
       "      <th>education_id</th>\n",
       "      <th>family_status_id</th>\n",
       "      <th>gender</th>\n",
       "      <th>income_type</th>\n",
       "      <th>debt</th>\n",
       "      <th>total_income</th>\n",
       "      <th>purpose</th>\n",
       "      <th>total_income_category</th>\n",
       "    </tr>\n",
       "  </thead>\n",
       "  <tbody>\n",
       "    <tr>\n",
       "      <th>0</th>\n",
       "      <td>1</td>\n",
       "      <td>8437.673028</td>\n",
       "      <td>42</td>\n",
       "      <td>0</td>\n",
       "      <td>0</td>\n",
       "      <td>F</td>\n",
       "      <td>сотрудник</td>\n",
       "      <td>0</td>\n",
       "      <td>253875</td>\n",
       "      <td>покупка жилья</td>\n",
       "      <td>B</td>\n",
       "    </tr>\n",
       "    <tr>\n",
       "      <th>1</th>\n",
       "      <td>1</td>\n",
       "      <td>4024.803754</td>\n",
       "      <td>36</td>\n",
       "      <td>1</td>\n",
       "      <td>0</td>\n",
       "      <td>F</td>\n",
       "      <td>сотрудник</td>\n",
       "      <td>0</td>\n",
       "      <td>112080</td>\n",
       "      <td>приобретение автомобиля</td>\n",
       "      <td>C</td>\n",
       "    </tr>\n",
       "    <tr>\n",
       "      <th>2</th>\n",
       "      <td>0</td>\n",
       "      <td>5623.422610</td>\n",
       "      <td>33</td>\n",
       "      <td>1</td>\n",
       "      <td>0</td>\n",
       "      <td>M</td>\n",
       "      <td>сотрудник</td>\n",
       "      <td>0</td>\n",
       "      <td>145885</td>\n",
       "      <td>покупка жилья</td>\n",
       "      <td>C</td>\n",
       "    </tr>\n",
       "    <tr>\n",
       "      <th>3</th>\n",
       "      <td>3</td>\n",
       "      <td>4124.747207</td>\n",
       "      <td>32</td>\n",
       "      <td>1</td>\n",
       "      <td>0</td>\n",
       "      <td>M</td>\n",
       "      <td>сотрудник</td>\n",
       "      <td>0</td>\n",
       "      <td>267628</td>\n",
       "      <td>дополнительное образование</td>\n",
       "      <td>B</td>\n",
       "    </tr>\n",
       "    <tr>\n",
       "      <th>4</th>\n",
       "      <td>0</td>\n",
       "      <td>340266.072047</td>\n",
       "      <td>53</td>\n",
       "      <td>1</td>\n",
       "      <td>1</td>\n",
       "      <td>F</td>\n",
       "      <td>пенсионер</td>\n",
       "      <td>0</td>\n",
       "      <td>158616</td>\n",
       "      <td>сыграть свадьбу</td>\n",
       "      <td>C</td>\n",
       "    </tr>\n",
       "  </tbody>\n",
       "</table>\n",
       "</div>"
      ],
      "text/plain": [
       "   children  days_employed  dob_years  education_id  family_status_id gender  \\\n",
       "0         1    8437.673028         42             0                 0      F   \n",
       "1         1    4024.803754         36             1                 0      F   \n",
       "2         0    5623.422610         33             1                 0      M   \n",
       "3         3    4124.747207         32             1                 0      M   \n",
       "4         0  340266.072047         53             1                 1      F   \n",
       "\n",
       "  income_type  debt  total_income                     purpose  \\\n",
       "0   сотрудник     0        253875               покупка жилья   \n",
       "1   сотрудник     0        112080     приобретение автомобиля   \n",
       "2   сотрудник     0        145885               покупка жилья   \n",
       "3   сотрудник     0        267628  дополнительное образование   \n",
       "4   пенсионер     0        158616             сыграть свадьбу   \n",
       "\n",
       "  total_income_category  \n",
       "0                     B  \n",
       "1                     C  \n",
       "2                     C  \n",
       "3                     B  \n",
       "4                     C  "
      ]
     },
     "metadata": {},
     "output_type": "display_data"
    },
    {
     "name": "stdout",
     "output_type": "stream",
     "text": [
      "Уникальные значения total_income_category: ['B' 'C' 'D' 'E' 'A']\n"
     ]
    }
   ],
   "source": [
    "df['total_income_category'] = df['total_income'].apply(total_income_group)\n",
    "display(df.head())\n",
    "print('Уникальные значения total_income_category:', df['total_income_category'].unique())"
   ]
  },
  {
   "cell_type": "markdown",
   "id": "584bbc60",
   "metadata": {},
   "source": [
    "Функция total_income_group отработала верно. Категоризация по уровню дохода прошла успешно."
   ]
  },
  {
   "cell_type": "markdown",
   "id": "df7f7d5e",
   "metadata": {},
   "source": [
    "### Шаг 2.7. Категоризация целей кредита."
   ]
  },
  {
   "cell_type": "markdown",
   "id": "13ad0bf5",
   "metadata": {},
   "source": [
    "Аналогично с уровнем дохода требует катекоризации столбец с целью кредита (purpose). Исходя из задания необходимо разбить значения на следубщие категории:\n",
    "- 'операции с автомобилем';\n",
    "- 'операции с недвижимостью';\n",
    "- 'проведение свадьбы';\n",
    "- 'получение образования'.\n",
    "\n",
    "Задача осложняется тем, что в столбце purpose данные типа object. Рассмотрю данные еще раз, выведу на экран уникальные значения столбца purpose. Для этого использую функцию value_counts(), количество значений на данный момент мне не нужны, но функция value_counts() выведет значения с новой строки, так удобнее смотреть."
   ]
  },
  {
   "cell_type": "code",
   "execution_count": 32,
   "id": "9f24d56f",
   "metadata": {},
   "outputs": [
    {
     "data": {
      "text/plain": [
       "свадьба                                   791\n",
       "на проведение свадьбы                     768\n",
       "сыграть свадьбу                           765\n",
       "операции с недвижимостью                  675\n",
       "покупка коммерческой недвижимости         661\n",
       "операции с жильем                         652\n",
       "покупка жилья для сдачи                   651\n",
       "операции с коммерческой недвижимостью     650\n",
       "жилье                                     646\n",
       "покупка жилья                             646\n",
       "покупка жилья для семьи                   638\n",
       "строительство собственной недвижимости    635\n",
       "недвижимость                              633\n",
       "операции со своей недвижимостью           627\n",
       "строительство жилой недвижимости          624\n",
       "покупка недвижимости                      621\n",
       "покупка своего жилья                      620\n",
       "строительство недвижимости                619\n",
       "ремонт жилью                              607\n",
       "покупка жилой недвижимости                606\n",
       "на покупку своего автомобиля              505\n",
       "заняться высшим образованием              496\n",
       "автомобиль                                494\n",
       "сделка с подержанным автомобилем          486\n",
       "автомобили                                478\n",
       "свой автомобиль                           478\n",
       "на покупку подержанного автомобиля        478\n",
       "на покупку автомобиля                     471\n",
       "приобретение автомобиля                   461\n",
       "дополнительное образование                460\n",
       "сделка с автомобилем                      455\n",
       "высшее образование                        452\n",
       "образование                               447\n",
       "получение дополнительного образования     446\n",
       "получение образования                     442\n",
       "профильное образование                    436\n",
       "получение высшего образования             426\n",
       "заняться образованием                     408\n",
       "Name: purpose, dtype: int64"
      ]
     },
     "execution_count": 32,
     "metadata": {},
     "output_type": "execute_result"
    }
   ],
   "source": [
    "df['purpose'].value_counts()"
   ]
  },
  {
   "cell_type": "markdown",
   "id": "bb50e9db",
   "metadata": {},
   "source": [
    "Для категоризации значений необходимо выделить подстроки в исходной цели кредита, которые можно проверить для каждой из категорий. Использую для этого корни ключевых слов:\n",
    "- 'операции с автомобилем': 'автом';\n",
    "- 'операции с недвижимостью': 'недвиж' и 'жил';\n",
    "- 'проведение свадьбы': 'свад';\n",
    "- 'получение образования': 'образ'.\n",
    "\n",
    "Запишу правила классификации клиентов как функцию и проверю ее."
   ]
  },
  {
   "cell_type": "code",
   "execution_count": 33,
   "id": "5bfef6fc",
   "metadata": {},
   "outputs": [
    {
     "name": "stdout",
     "output_type": "stream",
     "text": [
      "получение образования\n",
      "операции с автомобилем\n",
      "операции с недвижимостью\n",
      "операции с недвижимостью\n",
      "проведение свадьбы\n",
      "Такой категории нет, проверьте входные данные\n"
     ]
    }
   ],
   "source": [
    "def purpose_group(purpose_value):\n",
    "    if 'автом' in purpose_value:\n",
    "        return 'операции с автомобилем'\n",
    "    elif ('недвиж' in purpose_value) or ('жил' in purpose_value):\n",
    "        return 'операции с недвижимостью'\n",
    "    elif 'свад' in purpose_value:\n",
    "        return 'проведение свадьбы'\n",
    "    elif 'образ' in purpose_value:\n",
    "        return 'получение образования'\n",
    "    else:\n",
    "        return 'Такой категории нет, проверьте входные данные'\n",
    "\n",
    "print(purpose_group('заняться образованием'))\n",
    "print(purpose_group('приобретение автомобиля'))\n",
    "print(purpose_group('ремонт жилью'))\n",
    "print(purpose_group('операции со своей недвижимостью '))\n",
    "print(purpose_group('сыграть свадьбу'))\n",
    "print(purpose_group('набрать лотерейных билетов'))"
   ]
  },
  {
   "cell_type": "markdown",
   "id": "12a7cd31",
   "metadata": {},
   "source": [
    "Функция purpose_group работает как и задумано.\n",
    "\n",
    "Создам в рабочем датафрейме столбец purpose_category с категоризацией для столбца purpose. Для этого использую метод apply(). Выведу на экран первые 5 строк таблицы и уникальные значения нового столбца для проверки результата."
   ]
  },
  {
   "cell_type": "code",
   "execution_count": 34,
   "id": "59d5b771",
   "metadata": {},
   "outputs": [
    {
     "data": {
      "text/html": [
       "<div>\n",
       "<style scoped>\n",
       "    .dataframe tbody tr th:only-of-type {\n",
       "        vertical-align: middle;\n",
       "    }\n",
       "\n",
       "    .dataframe tbody tr th {\n",
       "        vertical-align: top;\n",
       "    }\n",
       "\n",
       "    .dataframe thead th {\n",
       "        text-align: right;\n",
       "    }\n",
       "</style>\n",
       "<table border=\"1\" class=\"dataframe\">\n",
       "  <thead>\n",
       "    <tr style=\"text-align: right;\">\n",
       "      <th></th>\n",
       "      <th>children</th>\n",
       "      <th>days_employed</th>\n",
       "      <th>dob_years</th>\n",
       "      <th>education_id</th>\n",
       "      <th>family_status_id</th>\n",
       "      <th>gender</th>\n",
       "      <th>income_type</th>\n",
       "      <th>debt</th>\n",
       "      <th>total_income</th>\n",
       "      <th>purpose</th>\n",
       "      <th>total_income_category</th>\n",
       "      <th>purpose_category</th>\n",
       "    </tr>\n",
       "  </thead>\n",
       "  <tbody>\n",
       "    <tr>\n",
       "      <th>0</th>\n",
       "      <td>1</td>\n",
       "      <td>8437.673028</td>\n",
       "      <td>42</td>\n",
       "      <td>0</td>\n",
       "      <td>0</td>\n",
       "      <td>F</td>\n",
       "      <td>сотрудник</td>\n",
       "      <td>0</td>\n",
       "      <td>253875</td>\n",
       "      <td>покупка жилья</td>\n",
       "      <td>B</td>\n",
       "      <td>операции с недвижимостью</td>\n",
       "    </tr>\n",
       "    <tr>\n",
       "      <th>1</th>\n",
       "      <td>1</td>\n",
       "      <td>4024.803754</td>\n",
       "      <td>36</td>\n",
       "      <td>1</td>\n",
       "      <td>0</td>\n",
       "      <td>F</td>\n",
       "      <td>сотрудник</td>\n",
       "      <td>0</td>\n",
       "      <td>112080</td>\n",
       "      <td>приобретение автомобиля</td>\n",
       "      <td>C</td>\n",
       "      <td>операции с автомобилем</td>\n",
       "    </tr>\n",
       "    <tr>\n",
       "      <th>2</th>\n",
       "      <td>0</td>\n",
       "      <td>5623.422610</td>\n",
       "      <td>33</td>\n",
       "      <td>1</td>\n",
       "      <td>0</td>\n",
       "      <td>M</td>\n",
       "      <td>сотрудник</td>\n",
       "      <td>0</td>\n",
       "      <td>145885</td>\n",
       "      <td>покупка жилья</td>\n",
       "      <td>C</td>\n",
       "      <td>операции с недвижимостью</td>\n",
       "    </tr>\n",
       "    <tr>\n",
       "      <th>3</th>\n",
       "      <td>3</td>\n",
       "      <td>4124.747207</td>\n",
       "      <td>32</td>\n",
       "      <td>1</td>\n",
       "      <td>0</td>\n",
       "      <td>M</td>\n",
       "      <td>сотрудник</td>\n",
       "      <td>0</td>\n",
       "      <td>267628</td>\n",
       "      <td>дополнительное образование</td>\n",
       "      <td>B</td>\n",
       "      <td>получение образования</td>\n",
       "    </tr>\n",
       "    <tr>\n",
       "      <th>4</th>\n",
       "      <td>0</td>\n",
       "      <td>340266.072047</td>\n",
       "      <td>53</td>\n",
       "      <td>1</td>\n",
       "      <td>1</td>\n",
       "      <td>F</td>\n",
       "      <td>пенсионер</td>\n",
       "      <td>0</td>\n",
       "      <td>158616</td>\n",
       "      <td>сыграть свадьбу</td>\n",
       "      <td>C</td>\n",
       "      <td>проведение свадьбы</td>\n",
       "    </tr>\n",
       "  </tbody>\n",
       "</table>\n",
       "</div>"
      ],
      "text/plain": [
       "   children  days_employed  dob_years  education_id  family_status_id gender  \\\n",
       "0         1    8437.673028         42             0                 0      F   \n",
       "1         1    4024.803754         36             1                 0      F   \n",
       "2         0    5623.422610         33             1                 0      M   \n",
       "3         3    4124.747207         32             1                 0      M   \n",
       "4         0  340266.072047         53             1                 1      F   \n",
       "\n",
       "  income_type  debt  total_income                     purpose  \\\n",
       "0   сотрудник     0        253875               покупка жилья   \n",
       "1   сотрудник     0        112080     приобретение автомобиля   \n",
       "2   сотрудник     0        145885               покупка жилья   \n",
       "3   сотрудник     0        267628  дополнительное образование   \n",
       "4   пенсионер     0        158616             сыграть свадьбу   \n",
       "\n",
       "  total_income_category          purpose_category  \n",
       "0                     B  операции с недвижимостью  \n",
       "1                     C    операции с автомобилем  \n",
       "2                     C  операции с недвижимостью  \n",
       "3                     B     получение образования  \n",
       "4                     C        проведение свадьбы  "
      ]
     },
     "metadata": {},
     "output_type": "display_data"
    },
    {
     "name": "stdout",
     "output_type": "stream",
     "text": [
      "Уникальные значения purpose_category: ['операции с недвижимостью' 'операции с автомобилем'\n",
      " 'получение образования' 'проведение свадьбы']\n"
     ]
    }
   ],
   "source": [
    "df['purpose_category'] = df['purpose'].apply(purpose_group)\n",
    "display(df.head())\n",
    "print('Уникальные значения purpose_category:', df['purpose_category'].unique())"
   ]
  },
  {
   "cell_type": "markdown",
   "id": "c62ddc76",
   "metadata": {},
   "source": [
    "Функция purpose_group отработала верно. Категоризация цели кредита прошла успешно."
   ]
  },
  {
   "cell_type": "markdown",
   "id": "9be95211",
   "metadata": {},
   "source": [
    "## Ответы на вопросы."
   ]
  },
  {
   "cell_type": "markdown",
   "id": "d37f5e9a",
   "metadata": {},
   "source": [
    "В ходе исследования необходимо оценить влияние принадлежности клиентов к определенной категории на его платежеспособность. Для такой оценки необходимо выбрать подходящую метрику.\n",
    "\n",
    "В данном случае отлично подойдет конверсия - отношение целевого показателя к общему. За целевой показатель возьмем количество клиентов не имевших задолженность по кредиту по определенной группе, за целевой общее количество клиентов в группе. Получим конверсию платежеспособности группы клиентов.\n"
   ]
  },
  {
   "cell_type": "markdown",
   "id": "3de6600f",
   "metadata": {},
   "source": [
    "### Вопрос 1: Есть ли зависимость между количеством детей и возвратом кредита в срок?"
   ]
  },
  {
   "cell_type": "markdown",
   "id": "91975f87",
   "metadata": {},
   "source": [
    "Для группировки по количеству детей использую функцию pivot_table, она создаст наглядный датафрейм с нужной информацией. В качестве входных аргументов буду использовать:\n",
    "- index='children' - для группировки по индексу;\n",
    "- columns='debt' - для группировки по столбцам;\n",
    "- values='total_income'- значения для анализа, можно взять любой столбец, так как мне нужно посчитать количество;\n",
    "- aggfunc='count' - аггрегирующая функция;\n",
    "- fill_value=0 - этот параметр в теоретической части мы не проходили, но я использую его, чтобы при отсутствии значений по одной из групп функция выдала мне значение 0, а не NaN.\n",
    "\n",
    "Сводную таблицу выведу на экран."
   ]
  },
  {
   "cell_type": "code",
   "execution_count": 35,
   "id": "ea9428d8",
   "metadata": {},
   "outputs": [
    {
     "data": {
      "text/html": [
       "<div>\n",
       "<style scoped>\n",
       "    .dataframe tbody tr th:only-of-type {\n",
       "        vertical-align: middle;\n",
       "    }\n",
       "\n",
       "    .dataframe tbody tr th {\n",
       "        vertical-align: top;\n",
       "    }\n",
       "\n",
       "    .dataframe thead th {\n",
       "        text-align: right;\n",
       "    }\n",
       "</style>\n",
       "<table border=\"1\" class=\"dataframe\">\n",
       "  <thead>\n",
       "    <tr style=\"text-align: right;\">\n",
       "      <th>debt</th>\n",
       "      <th>0</th>\n",
       "      <th>1</th>\n",
       "    </tr>\n",
       "    <tr>\n",
       "      <th>children</th>\n",
       "      <th></th>\n",
       "      <th></th>\n",
       "    </tr>\n",
       "  </thead>\n",
       "  <tbody>\n",
       "    <tr>\n",
       "      <th>0</th>\n",
       "      <td>13028</td>\n",
       "      <td>1063</td>\n",
       "    </tr>\n",
       "    <tr>\n",
       "      <th>1</th>\n",
       "      <td>4410</td>\n",
       "      <td>445</td>\n",
       "    </tr>\n",
       "    <tr>\n",
       "      <th>2</th>\n",
       "      <td>1926</td>\n",
       "      <td>202</td>\n",
       "    </tr>\n",
       "    <tr>\n",
       "      <th>3</th>\n",
       "      <td>303</td>\n",
       "      <td>27</td>\n",
       "    </tr>\n",
       "    <tr>\n",
       "      <th>4</th>\n",
       "      <td>37</td>\n",
       "      <td>4</td>\n",
       "    </tr>\n",
       "    <tr>\n",
       "      <th>5</th>\n",
       "      <td>9</td>\n",
       "      <td>0</td>\n",
       "    </tr>\n",
       "  </tbody>\n",
       "</table>\n",
       "</div>"
      ],
      "text/plain": [
       "debt          0     1\n",
       "children             \n",
       "0         13028  1063\n",
       "1          4410   445\n",
       "2          1926   202\n",
       "3           303    27\n",
       "4            37     4\n",
       "5             9     0"
      ]
     },
     "metadata": {},
     "output_type": "display_data"
    }
   ],
   "source": [
    "children_pivot = df.pivot_table(index=['children'], columns='debt', values='total_income', aggfunc='count', fill_value=0) \n",
    "display(children_pivot)"
   ]
  },
  {
   "cell_type": "markdown",
   "id": "627b24d5",
   "metadata": {},
   "source": [
    "Данные сгруппированы и выведены в удобном формате. \n",
    "\n",
    "Теперь необходимо расчитать конверсию. Использую конструкцию try... except... для обработки патенциальных ошибок."
   ]
  },
  {
   "cell_type": "code",
   "execution_count": 36,
   "id": "a8705d74",
   "metadata": {},
   "outputs": [
    {
     "data": {
      "text/html": [
       "<div>\n",
       "<style scoped>\n",
       "    .dataframe tbody tr th:only-of-type {\n",
       "        vertical-align: middle;\n",
       "    }\n",
       "\n",
       "    .dataframe tbody tr th {\n",
       "        vertical-align: top;\n",
       "    }\n",
       "\n",
       "    .dataframe thead th {\n",
       "        text-align: right;\n",
       "    }\n",
       "</style>\n",
       "<table border=\"1\" class=\"dataframe\">\n",
       "  <thead>\n",
       "    <tr style=\"text-align: right;\">\n",
       "      <th>debt</th>\n",
       "      <th>0</th>\n",
       "      <th>1</th>\n",
       "      <th>conversion</th>\n",
       "    </tr>\n",
       "    <tr>\n",
       "      <th>children</th>\n",
       "      <th></th>\n",
       "      <th></th>\n",
       "      <th></th>\n",
       "    </tr>\n",
       "  </thead>\n",
       "  <tbody>\n",
       "    <tr>\n",
       "      <th>0</th>\n",
       "      <td>13028</td>\n",
       "      <td>1063</td>\n",
       "      <td>92.456178</td>\n",
       "    </tr>\n",
       "    <tr>\n",
       "      <th>1</th>\n",
       "      <td>4410</td>\n",
       "      <td>445</td>\n",
       "      <td>90.834192</td>\n",
       "    </tr>\n",
       "    <tr>\n",
       "      <th>2</th>\n",
       "      <td>1926</td>\n",
       "      <td>202</td>\n",
       "      <td>90.507519</td>\n",
       "    </tr>\n",
       "    <tr>\n",
       "      <th>3</th>\n",
       "      <td>303</td>\n",
       "      <td>27</td>\n",
       "      <td>91.818182</td>\n",
       "    </tr>\n",
       "    <tr>\n",
       "      <th>4</th>\n",
       "      <td>37</td>\n",
       "      <td>4</td>\n",
       "      <td>90.243902</td>\n",
       "    </tr>\n",
       "    <tr>\n",
       "      <th>5</th>\n",
       "      <td>9</td>\n",
       "      <td>0</td>\n",
       "      <td>100.000000</td>\n",
       "    </tr>\n",
       "  </tbody>\n",
       "</table>\n",
       "</div>"
      ],
      "text/plain": [
       "debt          0     1  conversion\n",
       "children                         \n",
       "0         13028  1063   92.456178\n",
       "1          4410   445   90.834192\n",
       "2          1926   202   90.507519\n",
       "3           303    27   91.818182\n",
       "4            37     4   90.243902\n",
       "5             9     0  100.000000"
      ]
     },
     "metadata": {},
     "output_type": "display_data"
    }
   ],
   "source": [
    "try:\n",
    "    children_pivot['conversion'] =  children_pivot[0] / (children_pivot[0] + children_pivot[1]) * 100\n",
    "except:\n",
    "    print('Ошибка расчета конверсии, проверьте входные значения')\n",
    "display(children_pivot)"
   ]
  },
  {
   "cell_type": "markdown",
   "id": "a0bc3a86",
   "metadata": {},
   "source": [
    "#### Вывод 1:"
   ]
  },
  {
   "cell_type": "markdown",
   "id": "3b6e5e3e",
   "metadata": {},
   "source": [
    "Данные показывают, что:\n",
    "\n",
    "1. Зависимости между количеством детей и возвратом кредита в срок нет. Группа с минимальной долей должников - клиенты с 5ю детьми (конверсия 100%), группа с максимальной долей должников - клиенты с 4мя детьми (конверсия 90,2%). Но группа с 5ю детьми имеет слишком маленькое число клиентов, в остальных категориях конверсия не превышает 92,5%.\n",
    "\n",
    "2. Следует отметить, что размер выборки значений с увеличением количеста детей сушественно уменьшается. Т.е. клиенты с детьми реже берут кредиты."
   ]
  },
  {
   "cell_type": "markdown",
   "id": "77cc33ee",
   "metadata": {},
   "source": [
    "### Вопрос 2: Есть ли зависимость между семейным положением и возвратом кредита в срок?"
   ]
  },
  {
   "cell_type": "markdown",
   "id": "22613748",
   "metadata": {},
   "source": [
    "Для анализа зависимости между семейным положением и возвратом кредита в срок проделаю все те же операции:\n",
    "- создам сводную таблицу по семейному положению клиентов использую функцию pivot_table - index='family_status_id'. \n",
    "- расчитаю конверсию платежеспособности для каждой группы.\n",
    "- перед выводом на экран \"сошью\" получившийся датафрейм с созданным ранее датафреймом-словорем df_family_status. Для этого использую функцию merge(). Так результат будет нагляднее. "
   ]
  },
  {
   "cell_type": "code",
   "execution_count": 37,
   "id": "b4843fad",
   "metadata": {},
   "outputs": [
    {
     "data": {
      "text/html": [
       "<div>\n",
       "<style scoped>\n",
       "    .dataframe tbody tr th:only-of-type {\n",
       "        vertical-align: middle;\n",
       "    }\n",
       "\n",
       "    .dataframe tbody tr th {\n",
       "        vertical-align: top;\n",
       "    }\n",
       "\n",
       "    .dataframe thead th {\n",
       "        text-align: right;\n",
       "    }\n",
       "</style>\n",
       "<table border=\"1\" class=\"dataframe\">\n",
       "  <thead>\n",
       "    <tr style=\"text-align: right;\">\n",
       "      <th></th>\n",
       "      <th>family_status_id</th>\n",
       "      <th>0</th>\n",
       "      <th>1</th>\n",
       "      <th>conversion</th>\n",
       "      <th>family_status</th>\n",
       "    </tr>\n",
       "  </thead>\n",
       "  <tbody>\n",
       "    <tr>\n",
       "      <th>0</th>\n",
       "      <td>0</td>\n",
       "      <td>11408</td>\n",
       "      <td>931</td>\n",
       "      <td>92.454818</td>\n",
       "      <td>женат / замужем</td>\n",
       "    </tr>\n",
       "    <tr>\n",
       "      <th>1</th>\n",
       "      <td>1</td>\n",
       "      <td>3763</td>\n",
       "      <td>388</td>\n",
       "      <td>90.652855</td>\n",
       "      <td>гражданский брак</td>\n",
       "    </tr>\n",
       "    <tr>\n",
       "      <th>2</th>\n",
       "      <td>2</td>\n",
       "      <td>896</td>\n",
       "      <td>63</td>\n",
       "      <td>93.430657</td>\n",
       "      <td>вдовец / вдова</td>\n",
       "    </tr>\n",
       "    <tr>\n",
       "      <th>3</th>\n",
       "      <td>3</td>\n",
       "      <td>1110</td>\n",
       "      <td>85</td>\n",
       "      <td>92.887029</td>\n",
       "      <td>в разводе</td>\n",
       "    </tr>\n",
       "    <tr>\n",
       "      <th>4</th>\n",
       "      <td>4</td>\n",
       "      <td>2536</td>\n",
       "      <td>274</td>\n",
       "      <td>90.249110</td>\n",
       "      <td>не женат / не замужем</td>\n",
       "    </tr>\n",
       "  </tbody>\n",
       "</table>\n",
       "</div>"
      ],
      "text/plain": [
       "   family_status_id      0    1  conversion          family_status\n",
       "0                 0  11408  931   92.454818        женат / замужем\n",
       "1                 1   3763  388   90.652855       гражданский брак\n",
       "2                 2    896   63   93.430657         вдовец / вдова\n",
       "3                 3   1110   85   92.887029              в разводе\n",
       "4                 4   2536  274   90.249110  не женат / не замужем"
      ]
     },
     "metadata": {},
     "output_type": "display_data"
    }
   ],
   "source": [
    "family_status_pivot = df.pivot_table(index=['family_status_id'], columns='debt', values='total_income', \n",
    "                                     aggfunc='count', fill_value=0)\n",
    "try:\n",
    "    family_status_pivot['conversion'] =  family_status_pivot[0] / (family_status_pivot[0] + family_status_pivot[1]) * 100\n",
    "except:\n",
    "    print('Ошибка расчета конверсии, проверьте входные значения')\n",
    "\n",
    "family_status_pivot = family_status_pivot.merge(df_family_status, on='family_status_id', how='right')\n",
    "display(family_status_pivot)"
   ]
  },
  {
   "cell_type": "markdown",
   "id": "3caad129",
   "metadata": {},
   "source": [
    "#### Вывод 2:"
   ]
  },
  {
   "cell_type": "markdown",
   "id": "6cf40074",
   "metadata": {},
   "source": [
    "Данные показывают, что:\n",
    "\n",
    "1. Зависимости между семейным положением и возвратом кредита в срок нет. Группа с минимальной долей должников - вдовец / вдова (конверсия 93,4%), группа с максимальной долей должников - не женат / не замужем (конверсия 90,2%).\n",
    "\n",
    "2. Следует отметить, что размер выборки значений для клиентов со статусом \"женат/замужем\" больше всех остальных на порядок. Это может говорть о том, что криенты состоящие в официальном браке охотнее берут кредит."
   ]
  },
  {
   "cell_type": "markdown",
   "id": "467d7362",
   "metadata": {},
   "source": [
    "### Вопрос 3: Есть ли зависимость между уровнем дохода и возвратом кредита в срок?"
   ]
  },
  {
   "cell_type": "markdown",
   "id": "86391c95",
   "metadata": {},
   "source": [
    "Для анализа зависимости между уровнем дохода и возвратом кредита в срок проделаю следующие операции по аналогии с предыдущими пунктами:\n",
    "\n",
    "- создам сводную таблицу по категориям уровня дохода клиентов использую функцию pivot_table - index='total_income_category'.\n",
    "- расчитаю конверсию платежеспособности для каждой группы.\n",
    "- выведу сводную таблицу на экран."
   ]
  },
  {
   "cell_type": "code",
   "execution_count": 38,
   "id": "1bd8b22a",
   "metadata": {},
   "outputs": [
    {
     "data": {
      "text/html": [
       "<div>\n",
       "<style scoped>\n",
       "    .dataframe tbody tr th:only-of-type {\n",
       "        vertical-align: middle;\n",
       "    }\n",
       "\n",
       "    .dataframe tbody tr th {\n",
       "        vertical-align: top;\n",
       "    }\n",
       "\n",
       "    .dataframe thead th {\n",
       "        text-align: right;\n",
       "    }\n",
       "</style>\n",
       "<table border=\"1\" class=\"dataframe\">\n",
       "  <thead>\n",
       "    <tr style=\"text-align: right;\">\n",
       "      <th>debt</th>\n",
       "      <th>0</th>\n",
       "      <th>1</th>\n",
       "      <th>conversion</th>\n",
       "    </tr>\n",
       "    <tr>\n",
       "      <th>total_income_category</th>\n",
       "      <th></th>\n",
       "      <th></th>\n",
       "      <th></th>\n",
       "    </tr>\n",
       "  </thead>\n",
       "  <tbody>\n",
       "    <tr>\n",
       "      <th>A</th>\n",
       "      <td>23</td>\n",
       "      <td>2</td>\n",
       "      <td>92.000000</td>\n",
       "    </tr>\n",
       "    <tr>\n",
       "      <th>B</th>\n",
       "      <td>4685</td>\n",
       "      <td>356</td>\n",
       "      <td>92.937909</td>\n",
       "    </tr>\n",
       "    <tr>\n",
       "      <th>C</th>\n",
       "      <td>14656</td>\n",
       "      <td>1360</td>\n",
       "      <td>91.508492</td>\n",
       "    </tr>\n",
       "    <tr>\n",
       "      <th>D</th>\n",
       "      <td>329</td>\n",
       "      <td>21</td>\n",
       "      <td>94.000000</td>\n",
       "    </tr>\n",
       "    <tr>\n",
       "      <th>E</th>\n",
       "      <td>20</td>\n",
       "      <td>2</td>\n",
       "      <td>90.909091</td>\n",
       "    </tr>\n",
       "  </tbody>\n",
       "</table>\n",
       "</div>"
      ],
      "text/plain": [
       "debt                       0     1  conversion\n",
       "total_income_category                         \n",
       "A                         23     2   92.000000\n",
       "B                       4685   356   92.937909\n",
       "C                      14656  1360   91.508492\n",
       "D                        329    21   94.000000\n",
       "E                         20     2   90.909091"
      ]
     },
     "metadata": {},
     "output_type": "display_data"
    }
   ],
   "source": [
    "total_income_pivot = df.pivot_table(index=['total_income_category'], columns='debt', values='total_income', \n",
    "                                    aggfunc='count',  fill_value=0)\n",
    "try:\n",
    "    total_income_pivot['conversion'] =  total_income_pivot[0] / (total_income_pivot[0] + total_income_pivot[1]) * 100\n",
    "except:\n",
    "    print('Ошибка расчета конверсии, проверьте входные значения')\n",
    "    \n",
    "display(total_income_pivot)"
   ]
  },
  {
   "cell_type": "markdown",
   "id": "ddaeb50b",
   "metadata": {},
   "source": [
    "#### Вывод 3:"
   ]
  },
  {
   "cell_type": "markdown",
   "id": "e31e4dfa",
   "metadata": {},
   "source": [
    "Данные показывают, что:\n",
    "\n",
    "1. Зависимости между уровнем дохода и возвратом кредита в срок нет. Группа с минимальной долей должников - \"D\" (конверсия 94%), группа с максимальной долей должников - \"E\" (конверсия 90,9%)..\n",
    "\n",
    "2. Следует отметить, что размер выборки значений для клиентов с уровнем дохода группы \"С\" (50001–200000) больше всех остальных на порядок. Это может говорть о том, что криенты со средним уровнем дохода охотнее берут кредит."
   ]
  },
  {
   "cell_type": "markdown",
   "id": "d4af3b0d",
   "metadata": {},
   "source": [
    "### Вопрос 4: Как разные цели кредита влияют на его возврат в срок?"
   ]
  },
  {
   "cell_type": "markdown",
   "id": "7d02df0f",
   "metadata": {},
   "source": [
    "Для анализа влияния цели кредита на возврат его в срок проделаю следующие операции по аналогии с предыдущими пунктами:\n",
    "\n",
    "- создам сводную таблицу по категориям уровня дохода клиентов использую функцию pivot_table - index='purpose_category'.\n",
    "- расчитаю конверсию платежеспособности для каждой группы.\n",
    "- выведу сводную таблицу на экран."
   ]
  },
  {
   "cell_type": "code",
   "execution_count": 39,
   "id": "73d46dcb",
   "metadata": {},
   "outputs": [
    {
     "data": {
      "text/html": [
       "<div>\n",
       "<style scoped>\n",
       "    .dataframe tbody tr th:only-of-type {\n",
       "        vertical-align: middle;\n",
       "    }\n",
       "\n",
       "    .dataframe tbody tr th {\n",
       "        vertical-align: top;\n",
       "    }\n",
       "\n",
       "    .dataframe thead th {\n",
       "        text-align: right;\n",
       "    }\n",
       "</style>\n",
       "<table border=\"1\" class=\"dataframe\">\n",
       "  <thead>\n",
       "    <tr style=\"text-align: right;\">\n",
       "      <th>debt</th>\n",
       "      <th>0</th>\n",
       "      <th>1</th>\n",
       "      <th>conversion</th>\n",
       "    </tr>\n",
       "    <tr>\n",
       "      <th>purpose_category</th>\n",
       "      <th></th>\n",
       "      <th></th>\n",
       "      <th></th>\n",
       "    </tr>\n",
       "  </thead>\n",
       "  <tbody>\n",
       "    <tr>\n",
       "      <th>операции с автомобилем</th>\n",
       "      <td>3903</td>\n",
       "      <td>403</td>\n",
       "      <td>90.640966</td>\n",
       "    </tr>\n",
       "    <tr>\n",
       "      <th>операции с недвижимостью</th>\n",
       "      <td>10029</td>\n",
       "      <td>782</td>\n",
       "      <td>92.766627</td>\n",
       "    </tr>\n",
       "    <tr>\n",
       "      <th>получение образования</th>\n",
       "      <td>3643</td>\n",
       "      <td>370</td>\n",
       "      <td>90.779965</td>\n",
       "    </tr>\n",
       "    <tr>\n",
       "      <th>проведение свадьбы</th>\n",
       "      <td>2138</td>\n",
       "      <td>186</td>\n",
       "      <td>91.996558</td>\n",
       "    </tr>\n",
       "  </tbody>\n",
       "</table>\n",
       "</div>"
      ],
      "text/plain": [
       "debt                          0    1  conversion\n",
       "purpose_category                                \n",
       "операции с автомобилем     3903  403   90.640966\n",
       "операции с недвижимостью  10029  782   92.766627\n",
       "получение образования      3643  370   90.779965\n",
       "проведение свадьбы         2138  186   91.996558"
      ]
     },
     "metadata": {},
     "output_type": "display_data"
    }
   ],
   "source": [
    "purpose_pivot = df.pivot_table(index = ['purpose_category'], columns='debt', values='total_income', \n",
    "                               aggfunc='count', fill_value=0)\n",
    "try:\n",
    "    purpose_pivot['conversion'] = purpose_pivot[0] / (purpose_pivot[0] + purpose_pivot[1]) * 100\n",
    "except:\n",
    "    print('Ошибка расчета конверсии, проверьте входные значения')\n",
    "display(purpose_pivot)"
   ]
  },
  {
   "cell_type": "markdown",
   "id": "c0ad3637",
   "metadata": {},
   "source": [
    "#### Вывод 4:"
   ]
  },
  {
   "cell_type": "markdown",
   "id": "ceb67274",
   "metadata": {},
   "source": [
    "Данные показывают, что:\n",
    "\n",
    "1. Цель кредита не влияет на возврат кредита в срок. Группа с минимальной долей должников - операции с недвижимостью (конверсия 92,8%), группа с максимальной долей должников - операции с автомобилем (конверсия 90,6%).\n",
    "\n",
    "2. Следует отметить, что размер выборки для операций с недвижимостью больше всех остальных практически в 3 раза. Это может значить, что эта цель наиболее востребована."
   ]
  },
  {
   "cell_type": "markdown",
   "id": "78d8ae95",
   "metadata": {},
   "source": [
    "## Общий вывод:"
   ]
  },
  {
   "cell_type": "markdown",
   "id": "d4714e33",
   "metadata": {},
   "source": [
    "В ходе исследования были установлены ответы на четыре вопроса:\n",
    "\n",
    "1. Зависимости от количества детей и возвратом кредита в срок нет.\n",
    "2. Зависимости между семейным положением и возвратом кредита в срок нет.\n",
    "3. Зависимости между уровнем дохода и возвратом кредита в срок нет.\n",
    "4. Цель кредита не влияет на возврат кредита в срок.\n",
    "\n",
    "Группа с максимальной долей должников - клиенты с 4мя детьми (конверсия 90,2%). \n",
    "\n",
    "Группа с минимальной долей должников - клиенты с доходом категории \"D\": 30001–50000 (конверсия 94%)\n",
    "\n",
    "Следует обратить внимание на косвенные результаты исследования. Чаще всего берут кредит:\n",
    "1. Клиенты без детей.\n",
    "2. Криенты состоящие в официальном браке.\n",
    "3. Клиенты с уровнем дохода 50001–200000.\n",
    "4. Под операции с недвижимостью.\n",
    "\n",
    "Эти категории могут быть целевыми для банка."
   ]
  },
  {
   "cell_type": "markdown",
   "id": "7bdf6ba3",
   "metadata": {},
   "source": [
    "Примечание: Были непонятные моменты в формате названий пунктов. Я их поправила, если это не было нужно делать, верну как было, но мне это не нравилось (мне и сейчас не очень нравится, но в одном из первых уроков просили ничего не менять)"
   ]
  }
 ],
 "metadata": {
  "ExecuteTimeLog": [
   {
    "duration": 1091,
    "start_time": "2022-05-19T12:23:36.845Z"
   },
   {
    "duration": 90,
    "start_time": "2022-05-19T12:26:51.912Z"
   },
   {
    "duration": 17,
    "start_time": "2022-05-19T12:39:21.209Z"
   },
   {
    "duration": 30,
    "start_time": "2022-05-19T13:36:53.914Z"
   },
   {
    "duration": 14,
    "start_time": "2022-05-19T13:37:07.557Z"
   },
   {
    "duration": 5,
    "start_time": "2022-05-19T13:53:37.785Z"
   },
   {
    "duration": 70,
    "start_time": "2022-05-19T14:00:43.855Z"
   },
   {
    "duration": 12,
    "start_time": "2022-05-19T14:00:43.927Z"
   },
   {
    "duration": 9,
    "start_time": "2022-05-19T14:00:43.941Z"
   },
   {
    "duration": 5,
    "start_time": "2022-05-19T14:00:43.951Z"
   },
   {
    "duration": 10,
    "start_time": "2022-05-19T14:00:43.957Z"
   },
   {
    "duration": 27,
    "start_time": "2022-05-19T14:00:43.968Z"
   },
   {
    "duration": 7,
    "start_time": "2022-05-19T14:00:43.997Z"
   },
   {
    "duration": 6,
    "start_time": "2022-05-19T14:00:44.005Z"
   },
   {
    "duration": 12,
    "start_time": "2022-05-19T14:00:44.012Z"
   },
   {
    "duration": 12,
    "start_time": "2022-05-19T14:00:44.026Z"
   },
   {
    "duration": 11,
    "start_time": "2022-05-19T14:00:44.039Z"
   },
   {
    "duration": 7,
    "start_time": "2022-05-19T14:00:44.051Z"
   },
   {
    "duration": 6,
    "start_time": "2022-05-19T14:00:44.060Z"
   },
   {
    "duration": 29,
    "start_time": "2022-05-19T14:00:44.067Z"
   },
   {
    "duration": 7,
    "start_time": "2022-05-19T14:00:44.097Z"
   },
   {
    "duration": 57,
    "start_time": "2022-05-20T00:19:02.313Z"
   },
   {
    "duration": 856,
    "start_time": "2022-05-20T00:19:51.607Z"
   },
   {
    "duration": 15,
    "start_time": "2022-05-20T00:19:52.465Z"
   },
   {
    "duration": 11,
    "start_time": "2022-05-20T00:19:52.481Z"
   },
   {
    "duration": 6,
    "start_time": "2022-05-20T00:19:52.494Z"
   },
   {
    "duration": 14,
    "start_time": "2022-05-20T00:19:52.501Z"
   },
   {
    "duration": 16,
    "start_time": "2022-05-20T00:19:52.516Z"
   },
   {
    "duration": 7,
    "start_time": "2022-05-20T00:19:52.534Z"
   },
   {
    "duration": 17,
    "start_time": "2022-05-20T00:19:52.543Z"
   },
   {
    "duration": 13,
    "start_time": "2022-05-20T00:19:52.562Z"
   },
   {
    "duration": 6,
    "start_time": "2022-05-20T00:19:52.577Z"
   },
   {
    "duration": 10,
    "start_time": "2022-05-20T00:19:52.584Z"
   },
   {
    "duration": 16,
    "start_time": "2022-05-20T00:19:52.595Z"
   },
   {
    "duration": 16,
    "start_time": "2022-05-20T00:19:52.612Z"
   },
   {
    "duration": 5,
    "start_time": "2022-05-20T00:19:52.629Z"
   },
   {
    "duration": 15,
    "start_time": "2022-05-20T00:19:52.636Z"
   },
   {
    "duration": 6,
    "start_time": "2022-05-20T00:19:52.652Z"
   },
   {
    "duration": 6,
    "start_time": "2022-05-20T00:22:05.567Z"
   },
   {
    "duration": 69,
    "start_time": "2022-05-20T00:24:41.811Z"
   },
   {
    "duration": 14,
    "start_time": "2022-05-20T00:24:41.883Z"
   },
   {
    "duration": 12,
    "start_time": "2022-05-20T00:24:41.899Z"
   },
   {
    "duration": 5,
    "start_time": "2022-05-20T00:24:41.927Z"
   },
   {
    "duration": 9,
    "start_time": "2022-05-20T00:24:41.934Z"
   },
   {
    "duration": 9,
    "start_time": "2022-05-20T00:24:41.944Z"
   },
   {
    "duration": 7,
    "start_time": "2022-05-20T00:24:41.954Z"
   },
   {
    "duration": 5,
    "start_time": "2022-05-20T00:24:41.962Z"
   },
   {
    "duration": 5,
    "start_time": "2022-05-20T00:24:41.969Z"
   },
   {
    "duration": 7,
    "start_time": "2022-05-20T00:24:41.976Z"
   },
   {
    "duration": 11,
    "start_time": "2022-05-20T00:24:41.984Z"
   },
   {
    "duration": 18,
    "start_time": "2022-05-20T00:24:41.996Z"
   },
   {
    "duration": 12,
    "start_time": "2022-05-20T00:24:42.015Z"
   },
   {
    "duration": 5,
    "start_time": "2022-05-20T00:24:42.028Z"
   },
   {
    "duration": 6,
    "start_time": "2022-05-20T00:24:42.035Z"
   },
   {
    "duration": 7,
    "start_time": "2022-05-20T00:24:42.043Z"
   },
   {
    "duration": 6,
    "start_time": "2022-05-20T00:31:15.161Z"
   },
   {
    "duration": 6,
    "start_time": "2022-05-20T00:33:15.181Z"
   },
   {
    "duration": 4,
    "start_time": "2022-05-20T00:35:32.960Z"
   },
   {
    "duration": 29,
    "start_time": "2022-05-20T00:36:53.463Z"
   },
   {
    "duration": 30,
    "start_time": "2022-05-20T00:38:20.744Z"
   },
   {
    "duration": 43,
    "start_time": "2022-05-20T00:39:45.471Z"
   },
   {
    "duration": 47,
    "start_time": "2022-05-20T00:40:23.144Z"
   },
   {
    "duration": 36,
    "start_time": "2022-05-20T00:42:15.352Z"
   },
   {
    "duration": 3,
    "start_time": "2022-05-20T00:43:15.058Z"
   },
   {
    "duration": 4,
    "start_time": "2022-05-20T00:43:38.925Z"
   },
   {
    "duration": 50,
    "start_time": "2022-05-20T00:44:07.531Z"
   },
   {
    "duration": 36,
    "start_time": "2022-05-20T00:44:34.850Z"
   },
   {
    "duration": 4,
    "start_time": "2022-05-20T00:45:24.672Z"
   },
   {
    "duration": 5,
    "start_time": "2022-05-20T00:55:37.526Z"
   },
   {
    "duration": 3,
    "start_time": "2022-05-20T00:55:40.798Z"
   },
   {
    "duration": 18,
    "start_time": "2022-05-20T00:55:43.444Z"
   },
   {
    "duration": 26,
    "start_time": "2022-05-20T00:56:04.963Z"
   },
   {
    "duration": 13,
    "start_time": "2022-05-20T00:56:12.499Z"
   },
   {
    "duration": 11,
    "start_time": "2022-05-20T01:25:07.828Z"
   },
   {
    "duration": 79,
    "start_time": "2022-05-20T01:25:29.224Z"
   },
   {
    "duration": 18,
    "start_time": "2022-05-20T01:25:29.306Z"
   },
   {
    "duration": 14,
    "start_time": "2022-05-20T01:25:29.327Z"
   },
   {
    "duration": 6,
    "start_time": "2022-05-20T01:25:29.343Z"
   },
   {
    "duration": 8,
    "start_time": "2022-05-20T01:25:29.350Z"
   },
   {
    "duration": 15,
    "start_time": "2022-05-20T01:25:29.360Z"
   },
   {
    "duration": 7,
    "start_time": "2022-05-20T01:25:32.969Z"
   },
   {
    "duration": 65,
    "start_time": "2022-05-20T01:37:17.642Z"
   },
   {
    "duration": 14,
    "start_time": "2022-05-20T01:37:17.709Z"
   },
   {
    "duration": 10,
    "start_time": "2022-05-20T01:37:17.724Z"
   },
   {
    "duration": 5,
    "start_time": "2022-05-20T01:37:17.736Z"
   },
   {
    "duration": 7,
    "start_time": "2022-05-20T01:37:17.742Z"
   },
   {
    "duration": 17,
    "start_time": "2022-05-20T01:37:17.750Z"
   },
   {
    "duration": 8,
    "start_time": "2022-05-20T01:37:17.769Z"
   },
   {
    "duration": 6,
    "start_time": "2022-05-20T01:37:17.778Z"
   },
   {
    "duration": 3,
    "start_time": "2022-05-20T01:37:17.786Z"
   },
   {
    "duration": 4,
    "start_time": "2022-05-20T01:37:17.792Z"
   },
   {
    "duration": 3,
    "start_time": "2022-05-20T01:37:17.826Z"
   },
   {
    "duration": 6,
    "start_time": "2022-05-20T01:37:17.831Z"
   },
   {
    "duration": 5,
    "start_time": "2022-05-20T01:37:17.838Z"
   },
   {
    "duration": 5,
    "start_time": "2022-05-20T01:37:17.845Z"
   },
   {
    "duration": 5,
    "start_time": "2022-05-20T01:37:17.851Z"
   },
   {
    "duration": 7,
    "start_time": "2022-05-20T01:37:17.858Z"
   },
   {
    "duration": 7,
    "start_time": "2022-05-20T01:37:17.866Z"
   },
   {
    "duration": 9,
    "start_time": "2022-05-20T01:37:17.874Z"
   },
   {
    "duration": 6,
    "start_time": "2022-05-20T01:37:17.884Z"
   },
   {
    "duration": 7,
    "start_time": "2022-05-20T01:37:17.891Z"
   },
   {
    "duration": 6,
    "start_time": "2022-05-20T01:38:04.999Z"
   },
   {
    "duration": 6,
    "start_time": "2022-05-20T01:38:29.250Z"
   },
   {
    "duration": 7,
    "start_time": "2022-05-20T01:38:47.014Z"
   },
   {
    "duration": 5,
    "start_time": "2022-05-20T01:40:37.283Z"
   },
   {
    "duration": 5,
    "start_time": "2022-05-20T01:47:21.985Z"
   },
   {
    "duration": 8,
    "start_time": "2022-05-20T01:55:06.727Z"
   },
   {
    "duration": 6,
    "start_time": "2022-05-20T01:55:22.205Z"
   },
   {
    "duration": 9,
    "start_time": "2022-05-20T01:56:22.469Z"
   },
   {
    "duration": 39,
    "start_time": "2022-05-20T02:08:03.401Z"
   },
   {
    "duration": 11,
    "start_time": "2022-05-20T02:08:21.365Z"
   },
   {
    "duration": 62,
    "start_time": "2022-05-20T02:08:55.007Z"
   },
   {
    "duration": 12,
    "start_time": "2022-05-20T02:08:55.071Z"
   },
   {
    "duration": 9,
    "start_time": "2022-05-20T02:08:55.084Z"
   },
   {
    "duration": 5,
    "start_time": "2022-05-20T02:08:55.095Z"
   },
   {
    "duration": 27,
    "start_time": "2022-05-20T02:08:55.101Z"
   },
   {
    "duration": 21,
    "start_time": "2022-05-20T02:08:55.130Z"
   },
   {
    "duration": 8,
    "start_time": "2022-05-20T02:08:55.155Z"
   },
   {
    "duration": 13,
    "start_time": "2022-05-20T02:08:55.165Z"
   },
   {
    "duration": 9,
    "start_time": "2022-05-20T02:08:55.179Z"
   },
   {
    "duration": 6,
    "start_time": "2022-05-20T02:08:55.190Z"
   },
   {
    "duration": 7,
    "start_time": "2022-05-20T02:08:55.198Z"
   },
   {
    "duration": 22,
    "start_time": "2022-05-20T02:08:55.206Z"
   },
   {
    "duration": 31,
    "start_time": "2022-05-20T02:08:59.324Z"
   },
   {
    "duration": 30,
    "start_time": "2022-05-20T02:09:12.787Z"
   },
   {
    "duration": 6,
    "start_time": "2022-05-20T02:09:48.776Z"
   },
   {
    "duration": 7,
    "start_time": "2022-05-20T02:10:01.201Z"
   },
   {
    "duration": 7,
    "start_time": "2022-05-20T02:11:08.789Z"
   },
   {
    "duration": 8,
    "start_time": "2022-05-20T02:22:18.919Z"
   },
   {
    "duration": 19,
    "start_time": "2022-05-20T02:22:26.466Z"
   },
   {
    "duration": 14,
    "start_time": "2022-05-20T02:22:41.329Z"
   },
   {
    "duration": 37,
    "start_time": "2022-05-20T02:23:20.907Z"
   },
   {
    "duration": 5,
    "start_time": "2022-05-20T02:23:34.252Z"
   },
   {
    "duration": 7,
    "start_time": "2022-05-20T02:25:55.789Z"
   },
   {
    "duration": 18,
    "start_time": "2022-05-20T02:26:22.625Z"
   },
   {
    "duration": 22,
    "start_time": "2022-05-20T02:29:36.720Z"
   },
   {
    "duration": 7,
    "start_time": "2022-05-20T02:30:36.641Z"
   },
   {
    "duration": 8,
    "start_time": "2022-05-20T02:40:39.447Z"
   },
   {
    "duration": 5,
    "start_time": "2022-05-20T02:42:40.781Z"
   },
   {
    "duration": 10,
    "start_time": "2022-05-20T02:44:20.619Z"
   },
   {
    "duration": 15,
    "start_time": "2022-05-20T03:11:52.798Z"
   },
   {
    "duration": 7,
    "start_time": "2022-05-20T03:22:51.680Z"
   },
   {
    "duration": 26,
    "start_time": "2022-05-20T03:23:04.627Z"
   },
   {
    "duration": 35,
    "start_time": "2022-05-20T03:27:25.986Z"
   },
   {
    "duration": 17,
    "start_time": "2022-05-20T03:27:28.704Z"
   },
   {
    "duration": 77,
    "start_time": "2022-05-20T03:27:39.198Z"
   },
   {
    "duration": 14,
    "start_time": "2022-05-20T03:27:39.277Z"
   },
   {
    "duration": 15,
    "start_time": "2022-05-20T03:27:39.293Z"
   },
   {
    "duration": 6,
    "start_time": "2022-05-20T03:27:39.328Z"
   },
   {
    "duration": 6,
    "start_time": "2022-05-20T03:27:39.335Z"
   },
   {
    "duration": 16,
    "start_time": "2022-05-20T03:27:39.343Z"
   },
   {
    "duration": 7,
    "start_time": "2022-05-20T03:27:39.361Z"
   },
   {
    "duration": 7,
    "start_time": "2022-05-20T03:27:39.370Z"
   },
   {
    "duration": 8,
    "start_time": "2022-05-20T03:27:39.378Z"
   },
   {
    "duration": 5,
    "start_time": "2022-05-20T03:27:39.388Z"
   },
   {
    "duration": 7,
    "start_time": "2022-05-20T03:27:39.428Z"
   },
   {
    "duration": 8,
    "start_time": "2022-05-20T03:27:39.437Z"
   },
   {
    "duration": 10,
    "start_time": "2022-05-20T03:27:39.446Z"
   },
   {
    "duration": 8,
    "start_time": "2022-05-20T03:27:39.458Z"
   },
   {
    "duration": 21,
    "start_time": "2022-05-20T03:27:39.467Z"
   },
   {
    "duration": 5,
    "start_time": "2022-05-20T03:27:39.490Z"
   },
   {
    "duration": 35,
    "start_time": "2022-05-20T03:27:39.496Z"
   },
   {
    "duration": 7,
    "start_time": "2022-05-20T03:27:39.533Z"
   },
   {
    "duration": 26,
    "start_time": "2022-05-20T03:27:39.541Z"
   },
   {
    "duration": 6,
    "start_time": "2022-05-20T03:27:39.569Z"
   },
   {
    "duration": 14,
    "start_time": "2022-05-20T03:27:39.577Z"
   },
   {
    "duration": 6,
    "start_time": "2022-05-20T03:27:39.593Z"
   },
   {
    "duration": 26,
    "start_time": "2022-05-20T03:27:39.601Z"
   },
   {
    "duration": 18,
    "start_time": "2022-05-20T03:27:39.630Z"
   },
   {
    "duration": 21,
    "start_time": "2022-05-20T03:27:42.695Z"
   },
   {
    "duration": 43,
    "start_time": "2022-05-20T03:27:46.261Z"
   },
   {
    "duration": 60,
    "start_time": "2022-05-20T11:23:04.263Z"
   },
   {
    "duration": 1029,
    "start_time": "2022-05-20T11:26:05.792Z"
   },
   {
    "duration": 17,
    "start_time": "2022-05-20T11:26:06.823Z"
   },
   {
    "duration": 9,
    "start_time": "2022-05-20T11:26:06.842Z"
   },
   {
    "duration": 7,
    "start_time": "2022-05-20T11:26:06.853Z"
   },
   {
    "duration": 6,
    "start_time": "2022-05-20T11:26:06.862Z"
   },
   {
    "duration": 16,
    "start_time": "2022-05-20T11:26:06.869Z"
   },
   {
    "duration": 30,
    "start_time": "2022-05-20T11:26:06.887Z"
   },
   {
    "duration": 6,
    "start_time": "2022-05-20T11:26:06.919Z"
   },
   {
    "duration": 5,
    "start_time": "2022-05-20T11:26:06.927Z"
   },
   {
    "duration": 6,
    "start_time": "2022-05-20T11:26:06.934Z"
   },
   {
    "duration": 9,
    "start_time": "2022-05-20T11:26:06.941Z"
   },
   {
    "duration": 5,
    "start_time": "2022-05-20T11:26:06.952Z"
   },
   {
    "duration": 7,
    "start_time": "2022-05-20T11:26:06.958Z"
   },
   {
    "duration": 46,
    "start_time": "2022-05-20T11:26:06.967Z"
   },
   {
    "duration": 17,
    "start_time": "2022-05-20T11:26:07.015Z"
   },
   {
    "duration": 8,
    "start_time": "2022-05-20T11:26:07.034Z"
   },
   {
    "duration": 12,
    "start_time": "2022-05-20T11:26:07.043Z"
   },
   {
    "duration": 10,
    "start_time": "2022-05-20T11:26:07.057Z"
   },
   {
    "duration": 19,
    "start_time": "2022-05-20T11:26:07.068Z"
   },
   {
    "duration": 27,
    "start_time": "2022-05-20T11:26:07.089Z"
   },
   {
    "duration": 9,
    "start_time": "2022-05-20T11:26:07.117Z"
   },
   {
    "duration": 9,
    "start_time": "2022-05-20T11:26:07.127Z"
   },
   {
    "duration": 9,
    "start_time": "2022-05-20T11:26:07.138Z"
   },
   {
    "duration": 23,
    "start_time": "2022-05-20T11:26:07.148Z"
   },
   {
    "duration": 48,
    "start_time": "2022-05-20T11:26:07.173Z"
   },
   {
    "duration": 33,
    "start_time": "2022-05-20T11:26:07.223Z"
   },
   {
    "duration": 12,
    "start_time": "2022-05-20T11:26:10.203Z"
   },
   {
    "duration": 36,
    "start_time": "2022-05-20T11:29:38.723Z"
   },
   {
    "duration": 14,
    "start_time": "2022-05-20T11:29:54.369Z"
   },
   {
    "duration": 13,
    "start_time": "2022-05-20T11:30:10.739Z"
   },
   {
    "duration": 14,
    "start_time": "2022-05-20T11:30:34.038Z"
   },
   {
    "duration": 12,
    "start_time": "2022-05-20T11:30:44.520Z"
   },
   {
    "duration": 11,
    "start_time": "2022-05-20T11:36:04.447Z"
   },
   {
    "duration": 8,
    "start_time": "2022-05-20T11:36:49.958Z"
   },
   {
    "duration": 85,
    "start_time": "2022-05-20T11:36:57.908Z"
   },
   {
    "duration": 17,
    "start_time": "2022-05-20T11:36:57.995Z"
   },
   {
    "duration": 10,
    "start_time": "2022-05-20T11:36:58.013Z"
   },
   {
    "duration": 5,
    "start_time": "2022-05-20T11:36:58.024Z"
   },
   {
    "duration": 4,
    "start_time": "2022-05-20T11:36:58.031Z"
   },
   {
    "duration": 16,
    "start_time": "2022-05-20T11:36:58.036Z"
   },
   {
    "duration": 6,
    "start_time": "2022-05-20T11:36:58.054Z"
   },
   {
    "duration": 5,
    "start_time": "2022-05-20T11:36:58.061Z"
   },
   {
    "duration": 48,
    "start_time": "2022-05-20T11:36:58.068Z"
   },
   {
    "duration": 5,
    "start_time": "2022-05-20T11:36:58.118Z"
   },
   {
    "duration": 7,
    "start_time": "2022-05-20T11:36:58.125Z"
   },
   {
    "duration": 5,
    "start_time": "2022-05-20T11:36:58.134Z"
   },
   {
    "duration": 7,
    "start_time": "2022-05-20T11:36:58.141Z"
   },
   {
    "duration": 7,
    "start_time": "2022-05-20T11:36:58.151Z"
   },
   {
    "duration": 20,
    "start_time": "2022-05-20T11:36:58.159Z"
   },
   {
    "duration": 5,
    "start_time": "2022-05-20T11:36:58.212Z"
   },
   {
    "duration": 9,
    "start_time": "2022-05-20T11:36:58.219Z"
   },
   {
    "duration": 9,
    "start_time": "2022-05-20T11:36:58.230Z"
   },
   {
    "duration": 19,
    "start_time": "2022-05-20T11:36:58.241Z"
   },
   {
    "duration": 7,
    "start_time": "2022-05-20T11:36:58.261Z"
   },
   {
    "duration": 10,
    "start_time": "2022-05-20T11:36:58.270Z"
   },
   {
    "duration": 6,
    "start_time": "2022-05-20T11:36:58.311Z"
   },
   {
    "duration": 12,
    "start_time": "2022-05-20T11:36:58.318Z"
   },
   {
    "duration": 22,
    "start_time": "2022-05-20T11:36:58.332Z"
   },
   {
    "duration": 20,
    "start_time": "2022-05-20T11:36:58.355Z"
   },
   {
    "duration": 59,
    "start_time": "2022-05-20T11:36:58.377Z"
   },
   {
    "duration": 13,
    "start_time": "2022-05-20T11:36:58.438Z"
   },
   {
    "duration": 12,
    "start_time": "2022-05-20T11:36:58.453Z"
   },
   {
    "duration": 10,
    "start_time": "2022-05-20T11:37:35.183Z"
   },
   {
    "duration": 81,
    "start_time": "2022-05-20T11:39:45.539Z"
   },
   {
    "duration": 14,
    "start_time": "2022-05-20T11:39:45.621Z"
   },
   {
    "duration": 9,
    "start_time": "2022-05-20T11:39:45.636Z"
   },
   {
    "duration": 7,
    "start_time": "2022-05-20T11:39:45.647Z"
   },
   {
    "duration": 3,
    "start_time": "2022-05-20T11:39:45.656Z"
   },
   {
    "duration": 16,
    "start_time": "2022-05-20T11:39:45.661Z"
   },
   {
    "duration": 36,
    "start_time": "2022-05-20T11:39:45.679Z"
   },
   {
    "duration": 8,
    "start_time": "2022-05-20T11:39:45.717Z"
   },
   {
    "duration": 6,
    "start_time": "2022-05-20T11:39:45.727Z"
   },
   {
    "duration": 7,
    "start_time": "2022-05-20T11:39:45.735Z"
   },
   {
    "duration": 8,
    "start_time": "2022-05-20T11:39:45.744Z"
   },
   {
    "duration": 5,
    "start_time": "2022-05-20T11:39:45.754Z"
   },
   {
    "duration": 7,
    "start_time": "2022-05-20T11:39:45.761Z"
   },
   {
    "duration": 47,
    "start_time": "2022-05-20T11:39:45.771Z"
   },
   {
    "duration": 17,
    "start_time": "2022-05-20T11:39:45.819Z"
   },
   {
    "duration": 8,
    "start_time": "2022-05-20T11:39:45.838Z"
   },
   {
    "duration": 8,
    "start_time": "2022-05-20T11:39:45.848Z"
   },
   {
    "duration": 7,
    "start_time": "2022-05-20T11:39:45.857Z"
   },
   {
    "duration": 18,
    "start_time": "2022-05-20T11:39:45.866Z"
   },
   {
    "duration": 30,
    "start_time": "2022-05-20T11:39:45.885Z"
   },
   {
    "duration": 8,
    "start_time": "2022-05-20T11:39:45.917Z"
   },
   {
    "duration": 7,
    "start_time": "2022-05-20T11:39:45.926Z"
   },
   {
    "duration": 10,
    "start_time": "2022-05-20T11:39:45.934Z"
   },
   {
    "duration": 16,
    "start_time": "2022-05-20T11:39:45.945Z"
   },
   {
    "duration": 17,
    "start_time": "2022-05-20T11:39:45.963Z"
   },
   {
    "duration": 59,
    "start_time": "2022-05-20T11:39:45.982Z"
   },
   {
    "duration": 12,
    "start_time": "2022-05-20T11:39:46.043Z"
   },
   {
    "duration": 13,
    "start_time": "2022-05-20T11:39:46.056Z"
   },
   {
    "duration": 14,
    "start_time": "2022-05-20T11:39:48.338Z"
   },
   {
    "duration": 15,
    "start_time": "2022-05-20T11:39:57.912Z"
   },
   {
    "duration": 75,
    "start_time": "2022-05-20T11:40:02.887Z"
   },
   {
    "duration": 13,
    "start_time": "2022-05-20T11:40:02.964Z"
   },
   {
    "duration": 33,
    "start_time": "2022-05-20T11:40:02.979Z"
   },
   {
    "duration": 5,
    "start_time": "2022-05-20T11:40:03.014Z"
   },
   {
    "duration": 5,
    "start_time": "2022-05-20T11:40:03.021Z"
   },
   {
    "duration": 18,
    "start_time": "2022-05-20T11:40:03.027Z"
   },
   {
    "duration": 8,
    "start_time": "2022-05-20T11:40:03.047Z"
   },
   {
    "duration": 5,
    "start_time": "2022-05-20T11:40:03.057Z"
   },
   {
    "duration": 8,
    "start_time": "2022-05-20T11:40:03.064Z"
   },
   {
    "duration": 7,
    "start_time": "2022-05-20T11:40:03.074Z"
   },
   {
    "duration": 33,
    "start_time": "2022-05-20T11:40:03.082Z"
   },
   {
    "duration": 7,
    "start_time": "2022-05-20T11:40:03.116Z"
   },
   {
    "duration": 9,
    "start_time": "2022-05-20T11:40:03.125Z"
   },
   {
    "duration": 8,
    "start_time": "2022-05-20T11:40:03.136Z"
   },
   {
    "duration": 16,
    "start_time": "2022-05-20T11:40:03.145Z"
   },
   {
    "duration": 7,
    "start_time": "2022-05-20T11:40:03.162Z"
   },
   {
    "duration": 11,
    "start_time": "2022-05-20T11:40:03.171Z"
   },
   {
    "duration": 36,
    "start_time": "2022-05-20T11:40:03.184Z"
   },
   {
    "duration": 25,
    "start_time": "2022-05-20T11:40:03.222Z"
   },
   {
    "duration": 7,
    "start_time": "2022-05-20T11:40:03.248Z"
   },
   {
    "duration": 10,
    "start_time": "2022-05-20T11:40:03.256Z"
   },
   {
    "duration": 7,
    "start_time": "2022-05-20T11:40:03.267Z"
   },
   {
    "duration": 11,
    "start_time": "2022-05-20T11:40:03.276Z"
   },
   {
    "duration": 32,
    "start_time": "2022-05-20T11:40:03.289Z"
   },
   {
    "duration": 19,
    "start_time": "2022-05-20T11:40:03.323Z"
   },
   {
    "duration": 32,
    "start_time": "2022-05-20T11:40:03.344Z"
   },
   {
    "duration": 35,
    "start_time": "2022-05-20T11:40:03.378Z"
   },
   {
    "duration": 12,
    "start_time": "2022-05-20T11:40:03.416Z"
   },
   {
    "duration": 17,
    "start_time": "2022-05-20T11:40:03.429Z"
   },
   {
    "duration": 11,
    "start_time": "2022-05-20T11:40:35.457Z"
   },
   {
    "duration": 6,
    "start_time": "2022-05-20T11:44:38.296Z"
   },
   {
    "duration": 76,
    "start_time": "2022-05-20T11:45:14.997Z"
   },
   {
    "duration": 14,
    "start_time": "2022-05-20T11:45:15.075Z"
   },
   {
    "duration": 25,
    "start_time": "2022-05-20T11:45:15.090Z"
   },
   {
    "duration": 6,
    "start_time": "2022-05-20T11:45:15.117Z"
   },
   {
    "duration": 7,
    "start_time": "2022-05-20T11:45:15.125Z"
   },
   {
    "duration": 16,
    "start_time": "2022-05-20T11:45:15.133Z"
   },
   {
    "duration": 7,
    "start_time": "2022-05-20T11:45:15.150Z"
   },
   {
    "duration": 6,
    "start_time": "2022-05-20T11:45:15.161Z"
   },
   {
    "duration": 10,
    "start_time": "2022-05-20T11:45:15.168Z"
   },
   {
    "duration": 32,
    "start_time": "2022-05-20T11:45:15.180Z"
   },
   {
    "duration": 6,
    "start_time": "2022-05-20T11:45:15.214Z"
   },
   {
    "duration": 7,
    "start_time": "2022-05-20T11:45:15.221Z"
   },
   {
    "duration": 8,
    "start_time": "2022-05-20T11:45:15.229Z"
   },
   {
    "duration": 8,
    "start_time": "2022-05-20T11:45:15.239Z"
   },
   {
    "duration": 16,
    "start_time": "2022-05-20T11:45:15.249Z"
   },
   {
    "duration": 4,
    "start_time": "2022-05-20T11:45:15.266Z"
   },
   {
    "duration": 8,
    "start_time": "2022-05-20T11:45:15.272Z"
   },
   {
    "duration": 32,
    "start_time": "2022-05-20T11:45:15.281Z"
   },
   {
    "duration": 17,
    "start_time": "2022-05-20T11:45:15.315Z"
   },
   {
    "duration": 6,
    "start_time": "2022-05-20T11:45:15.334Z"
   },
   {
    "duration": 9,
    "start_time": "2022-05-20T11:45:15.341Z"
   },
   {
    "duration": 6,
    "start_time": "2022-05-20T11:45:15.351Z"
   },
   {
    "duration": 10,
    "start_time": "2022-05-20T11:45:15.358Z"
   },
   {
    "duration": 44,
    "start_time": "2022-05-20T11:45:15.369Z"
   },
   {
    "duration": 19,
    "start_time": "2022-05-20T11:45:15.414Z"
   },
   {
    "duration": 35,
    "start_time": "2022-05-20T11:45:15.435Z"
   },
   {
    "duration": 15,
    "start_time": "2022-05-20T11:45:15.472Z"
   },
   {
    "duration": 13,
    "start_time": "2022-05-20T11:45:15.515Z"
   },
   {
    "duration": 12,
    "start_time": "2022-05-20T11:45:18.573Z"
   },
   {
    "duration": 13,
    "start_time": "2022-05-20T11:45:38.906Z"
   },
   {
    "duration": 5,
    "start_time": "2022-05-20T12:16:45.151Z"
   },
   {
    "duration": 77,
    "start_time": "2022-05-20T12:23:25.606Z"
   },
   {
    "duration": 14,
    "start_time": "2022-05-20T12:23:25.684Z"
   },
   {
    "duration": 17,
    "start_time": "2022-05-20T12:23:25.699Z"
   },
   {
    "duration": 17,
    "start_time": "2022-05-20T12:23:25.719Z"
   },
   {
    "duration": 5,
    "start_time": "2022-05-20T12:23:25.737Z"
   },
   {
    "duration": 27,
    "start_time": "2022-05-20T12:23:25.743Z"
   },
   {
    "duration": 10,
    "start_time": "2022-05-20T12:23:25.772Z"
   },
   {
    "duration": 15,
    "start_time": "2022-05-20T12:23:25.783Z"
   },
   {
    "duration": 7,
    "start_time": "2022-05-20T12:23:25.800Z"
   },
   {
    "duration": 9,
    "start_time": "2022-05-20T12:23:25.810Z"
   },
   {
    "duration": 19,
    "start_time": "2022-05-20T12:23:25.820Z"
   },
   {
    "duration": 19,
    "start_time": "2022-05-20T12:23:25.841Z"
   },
   {
    "duration": 18,
    "start_time": "2022-05-20T12:23:25.862Z"
   },
   {
    "duration": 22,
    "start_time": "2022-05-20T12:23:25.881Z"
   },
   {
    "duration": 16,
    "start_time": "2022-05-20T12:23:25.904Z"
   },
   {
    "duration": 14,
    "start_time": "2022-05-20T12:23:25.922Z"
   },
   {
    "duration": 11,
    "start_time": "2022-05-20T12:23:25.938Z"
   },
   {
    "duration": 16,
    "start_time": "2022-05-20T12:23:25.951Z"
   },
   {
    "duration": 24,
    "start_time": "2022-05-20T12:23:25.968Z"
   },
   {
    "duration": 9,
    "start_time": "2022-05-20T12:23:25.993Z"
   },
   {
    "duration": 12,
    "start_time": "2022-05-20T12:23:26.003Z"
   },
   {
    "duration": 11,
    "start_time": "2022-05-20T12:23:26.016Z"
   },
   {
    "duration": 18,
    "start_time": "2022-05-20T12:23:26.029Z"
   },
   {
    "duration": 31,
    "start_time": "2022-05-20T12:23:26.048Z"
   },
   {
    "duration": 22,
    "start_time": "2022-05-20T12:23:26.081Z"
   },
   {
    "duration": 45,
    "start_time": "2022-05-20T12:23:26.105Z"
   },
   {
    "duration": 11,
    "start_time": "2022-05-20T12:23:26.152Z"
   },
   {
    "duration": 12,
    "start_time": "2022-05-20T12:23:26.166Z"
   },
   {
    "duration": 13,
    "start_time": "2022-05-20T12:23:26.180Z"
   },
   {
    "duration": 21,
    "start_time": "2022-05-20T12:23:26.194Z"
   },
   {
    "duration": 18,
    "start_time": "2022-05-20T12:23:28.599Z"
   },
   {
    "duration": 20,
    "start_time": "2022-05-20T12:31:34.336Z"
   },
   {
    "duration": 18,
    "start_time": "2022-05-20T12:32:20.642Z"
   },
   {
    "duration": 7,
    "start_time": "2022-05-20T12:46:24.766Z"
   },
   {
    "duration": 10,
    "start_time": "2022-05-20T12:58:36.910Z"
   },
   {
    "duration": 5,
    "start_time": "2022-05-20T12:59:23.653Z"
   },
   {
    "duration": 19,
    "start_time": "2022-05-20T13:01:38.815Z"
   },
   {
    "duration": 7,
    "start_time": "2022-05-20T14:51:48.245Z"
   },
   {
    "duration": 6,
    "start_time": "2022-05-20T14:53:24.784Z"
   },
   {
    "duration": 15,
    "start_time": "2022-05-20T14:56:59.554Z"
   },
   {
    "duration": 14,
    "start_time": "2022-05-20T14:57:06.103Z"
   },
   {
    "duration": 10,
    "start_time": "2022-05-20T14:57:47.170Z"
   },
   {
    "duration": 10,
    "start_time": "2022-05-20T14:58:27.198Z"
   },
   {
    "duration": 8,
    "start_time": "2022-05-20T15:21:44.157Z"
   },
   {
    "duration": 8,
    "start_time": "2022-05-20T15:21:53.388Z"
   },
   {
    "duration": 9,
    "start_time": "2022-05-20T15:22:10.545Z"
   },
   {
    "duration": 94,
    "start_time": "2022-05-20T15:28:32.953Z"
   },
   {
    "duration": 19,
    "start_time": "2022-05-20T15:28:33.050Z"
   },
   {
    "duration": 12,
    "start_time": "2022-05-20T15:28:33.071Z"
   },
   {
    "duration": 48,
    "start_time": "2022-05-20T15:28:33.085Z"
   },
   {
    "duration": 24,
    "start_time": "2022-05-20T15:28:33.135Z"
   },
   {
    "duration": 27,
    "start_time": "2022-05-20T15:28:33.161Z"
   },
   {
    "duration": 26,
    "start_time": "2022-05-20T15:28:33.190Z"
   },
   {
    "duration": 36,
    "start_time": "2022-05-20T15:28:33.221Z"
   },
   {
    "duration": 18,
    "start_time": "2022-05-20T15:28:33.259Z"
   },
   {
    "duration": 26,
    "start_time": "2022-05-20T15:28:33.280Z"
   },
   {
    "duration": 32,
    "start_time": "2022-05-20T15:28:33.308Z"
   },
   {
    "duration": 23,
    "start_time": "2022-05-20T15:28:33.342Z"
   },
   {
    "duration": 27,
    "start_time": "2022-05-20T15:28:33.367Z"
   },
   {
    "duration": 46,
    "start_time": "2022-05-20T15:28:33.396Z"
   },
   {
    "duration": 42,
    "start_time": "2022-05-20T15:28:33.444Z"
   },
   {
    "duration": 16,
    "start_time": "2022-05-20T15:28:33.488Z"
   },
   {
    "duration": 35,
    "start_time": "2022-05-20T15:28:33.505Z"
   },
   {
    "duration": 19,
    "start_time": "2022-05-20T15:28:33.541Z"
   },
   {
    "duration": 35,
    "start_time": "2022-05-20T15:28:33.562Z"
   },
   {
    "duration": 52,
    "start_time": "2022-05-20T15:28:33.599Z"
   },
   {
    "duration": 33,
    "start_time": "2022-05-20T15:28:33.653Z"
   },
   {
    "duration": 33,
    "start_time": "2022-05-20T15:28:33.688Z"
   },
   {
    "duration": 35,
    "start_time": "2022-05-20T15:28:33.728Z"
   },
   {
    "duration": 29,
    "start_time": "2022-05-20T15:28:33.766Z"
   },
   {
    "duration": 36,
    "start_time": "2022-05-20T15:28:33.797Z"
   },
   {
    "duration": 55,
    "start_time": "2022-05-20T15:28:33.837Z"
   },
   {
    "duration": 36,
    "start_time": "2022-05-20T15:28:33.895Z"
   },
   {
    "duration": 19,
    "start_time": "2022-05-20T15:28:33.936Z"
   },
   {
    "duration": 20,
    "start_time": "2022-05-20T15:28:33.958Z"
   },
   {
    "duration": 8,
    "start_time": "2022-05-20T15:28:33.980Z"
   },
   {
    "duration": 48,
    "start_time": "2022-05-20T15:28:33.990Z"
   },
   {
    "duration": 7,
    "start_time": "2022-05-20T15:28:34.040Z"
   },
   {
    "duration": 7,
    "start_time": "2022-05-20T15:28:34.049Z"
   },
   {
    "duration": 61,
    "start_time": "2022-05-20T15:28:34.058Z"
   },
   {
    "duration": 13,
    "start_time": "2022-05-20T15:28:34.124Z"
   },
   {
    "duration": 8,
    "start_time": "2022-05-20T15:29:28.167Z"
   },
   {
    "duration": 19,
    "start_time": "2022-05-20T15:29:52.830Z"
   },
   {
    "duration": 27,
    "start_time": "2022-05-20T15:30:38.300Z"
   },
   {
    "duration": 22,
    "start_time": "2022-05-20T15:30:53.618Z"
   },
   {
    "duration": 16,
    "start_time": "2022-05-20T15:31:28.229Z"
   },
   {
    "duration": 41,
    "start_time": "2022-05-20T15:31:43.035Z"
   },
   {
    "duration": 16,
    "start_time": "2022-05-20T15:32:43.061Z"
   },
   {
    "duration": 22,
    "start_time": "2022-05-20T15:33:18.452Z"
   },
   {
    "duration": 33,
    "start_time": "2022-05-20T15:33:33.930Z"
   },
   {
    "duration": 8,
    "start_time": "2022-05-20T15:36:44.272Z"
   },
   {
    "duration": 17,
    "start_time": "2022-05-20T15:37:11.959Z"
   },
   {
    "duration": 474,
    "start_time": "2022-05-20T15:39:45.188Z"
   },
   {
    "duration": 18,
    "start_time": "2022-05-20T15:40:22.991Z"
   },
   {
    "duration": 57,
    "start_time": "2022-05-20T15:41:03.361Z"
   },
   {
    "duration": 18,
    "start_time": "2022-05-20T15:41:11.333Z"
   },
   {
    "duration": 19,
    "start_time": "2022-05-20T15:42:00.344Z"
   },
   {
    "duration": 49,
    "start_time": "2022-05-20T15:49:52.194Z"
   },
   {
    "duration": 77,
    "start_time": "2022-05-20T15:50:02.679Z"
   },
   {
    "duration": 18,
    "start_time": "2022-05-20T15:50:09.923Z"
   },
   {
    "duration": 19,
    "start_time": "2022-05-20T15:51:05.609Z"
   },
   {
    "duration": 20,
    "start_time": "2022-05-20T15:51:38.635Z"
   },
   {
    "duration": 20,
    "start_time": "2022-05-20T15:54:25.445Z"
   },
   {
    "duration": 12,
    "start_time": "2022-05-20T15:58:46.890Z"
   },
   {
    "duration": 17,
    "start_time": "2022-05-20T15:59:21.056Z"
   },
   {
    "duration": 6,
    "start_time": "2022-05-20T16:08:49.289Z"
   },
   {
    "duration": 15,
    "start_time": "2022-05-20T16:09:04.147Z"
   },
   {
    "duration": 11,
    "start_time": "2022-05-20T16:10:32.026Z"
   },
   {
    "duration": 8,
    "start_time": "2022-05-20T16:10:43.973Z"
   },
   {
    "duration": 18,
    "start_time": "2022-05-20T16:13:23.451Z"
   },
   {
    "duration": 18,
    "start_time": "2022-05-20T16:17:57.005Z"
   },
   {
    "duration": 26,
    "start_time": "2022-05-20T16:18:06.899Z"
   },
   {
    "duration": 17,
    "start_time": "2022-05-20T16:26:15.211Z"
   },
   {
    "duration": 17,
    "start_time": "2022-05-20T16:26:42.848Z"
   },
   {
    "duration": 88,
    "start_time": "2022-05-20T16:26:50.190Z"
   },
   {
    "duration": 14,
    "start_time": "2022-05-20T16:26:50.280Z"
   },
   {
    "duration": 34,
    "start_time": "2022-05-20T16:26:50.296Z"
   },
   {
    "duration": 18,
    "start_time": "2022-05-20T16:26:50.333Z"
   },
   {
    "duration": 9,
    "start_time": "2022-05-20T16:26:50.353Z"
   },
   {
    "duration": 15,
    "start_time": "2022-05-20T16:26:50.363Z"
   },
   {
    "duration": 9,
    "start_time": "2022-05-20T16:26:50.379Z"
   },
   {
    "duration": 24,
    "start_time": "2022-05-20T16:26:50.389Z"
   },
   {
    "duration": 10,
    "start_time": "2022-05-20T16:26:50.420Z"
   },
   {
    "duration": 7,
    "start_time": "2022-05-20T16:26:50.432Z"
   },
   {
    "duration": 8,
    "start_time": "2022-05-20T16:26:50.442Z"
   },
   {
    "duration": 6,
    "start_time": "2022-05-20T16:26:50.451Z"
   },
   {
    "duration": 9,
    "start_time": "2022-05-20T16:26:50.458Z"
   },
   {
    "duration": 13,
    "start_time": "2022-05-20T16:26:50.469Z"
   },
   {
    "duration": 50,
    "start_time": "2022-05-20T16:26:50.483Z"
   },
   {
    "duration": 8,
    "start_time": "2022-05-20T16:26:50.535Z"
   },
   {
    "duration": 10,
    "start_time": "2022-05-20T16:26:50.545Z"
   },
   {
    "duration": 7,
    "start_time": "2022-05-20T16:26:50.557Z"
   },
   {
    "duration": 26,
    "start_time": "2022-05-20T16:26:50.566Z"
   },
   {
    "duration": 16,
    "start_time": "2022-05-20T16:26:50.615Z"
   },
   {
    "duration": 9,
    "start_time": "2022-05-20T16:26:50.632Z"
   },
   {
    "duration": 7,
    "start_time": "2022-05-20T16:26:50.642Z"
   },
   {
    "duration": 8,
    "start_time": "2022-05-20T16:26:50.650Z"
   },
   {
    "duration": 18,
    "start_time": "2022-05-20T16:26:50.660Z"
   },
   {
    "duration": 43,
    "start_time": "2022-05-20T16:26:50.680Z"
   },
   {
    "duration": 44,
    "start_time": "2022-05-20T16:26:50.725Z"
   },
   {
    "duration": 13,
    "start_time": "2022-05-20T16:26:50.770Z"
   },
   {
    "duration": 43,
    "start_time": "2022-05-20T16:26:50.787Z"
   },
   {
    "duration": 14,
    "start_time": "2022-05-20T16:26:50.833Z"
   },
   {
    "duration": 21,
    "start_time": "2022-05-20T16:26:50.849Z"
   },
   {
    "duration": 30,
    "start_time": "2022-05-20T16:26:50.871Z"
   },
   {
    "duration": 36,
    "start_time": "2022-05-20T16:26:50.903Z"
   },
   {
    "duration": 18,
    "start_time": "2022-05-20T16:26:50.941Z"
   },
   {
    "duration": 37,
    "start_time": "2022-05-20T16:26:50.960Z"
   },
   {
    "duration": 27,
    "start_time": "2022-05-20T16:26:50.999Z"
   },
   {
    "duration": 11,
    "start_time": "2022-05-20T16:26:51.028Z"
   },
   {
    "duration": 0,
    "start_time": "2022-05-20T16:26:51.040Z"
   },
   {
    "duration": 15,
    "start_time": "2022-05-20T16:26:57.530Z"
   },
   {
    "duration": 16,
    "start_time": "2022-05-20T16:27:00.329Z"
   },
   {
    "duration": 10,
    "start_time": "2022-05-20T16:27:11.437Z"
   },
   {
    "duration": 19,
    "start_time": "2022-05-20T16:28:40.206Z"
   },
   {
    "duration": 21,
    "start_time": "2022-05-20T16:28:54.183Z"
   },
   {
    "duration": 22,
    "start_time": "2022-05-20T16:29:24.142Z"
   },
   {
    "duration": 115,
    "start_time": "2022-05-20T16:29:48.962Z"
   },
   {
    "duration": 20,
    "start_time": "2022-05-20T16:29:49.079Z"
   },
   {
    "duration": 21,
    "start_time": "2022-05-20T16:29:49.111Z"
   },
   {
    "duration": 55,
    "start_time": "2022-05-20T16:29:49.134Z"
   },
   {
    "duration": 17,
    "start_time": "2022-05-20T16:29:49.191Z"
   },
   {
    "duration": 76,
    "start_time": "2022-05-20T16:29:49.210Z"
   },
   {
    "duration": 15,
    "start_time": "2022-05-20T16:29:49.287Z"
   },
   {
    "duration": 11,
    "start_time": "2022-05-20T16:29:49.305Z"
   },
   {
    "duration": 53,
    "start_time": "2022-05-20T16:29:49.318Z"
   },
   {
    "duration": 7,
    "start_time": "2022-05-20T16:29:49.374Z"
   },
   {
    "duration": 11,
    "start_time": "2022-05-20T16:29:49.383Z"
   },
   {
    "duration": 8,
    "start_time": "2022-05-20T16:29:49.396Z"
   },
   {
    "duration": 17,
    "start_time": "2022-05-20T16:29:49.406Z"
   },
   {
    "duration": 42,
    "start_time": "2022-05-20T16:29:49.425Z"
   },
   {
    "duration": 30,
    "start_time": "2022-05-20T16:29:49.469Z"
   },
   {
    "duration": 7,
    "start_time": "2022-05-20T16:29:49.501Z"
   },
   {
    "duration": 60,
    "start_time": "2022-05-20T16:29:49.510Z"
   },
   {
    "duration": 10,
    "start_time": "2022-05-20T16:29:49.572Z"
   },
   {
    "duration": 30,
    "start_time": "2022-05-20T16:29:49.584Z"
   },
   {
    "duration": 11,
    "start_time": "2022-05-20T16:29:49.615Z"
   },
   {
    "duration": 55,
    "start_time": "2022-05-20T16:29:49.628Z"
   },
   {
    "duration": 10,
    "start_time": "2022-05-20T16:29:49.685Z"
   },
   {
    "duration": 10,
    "start_time": "2022-05-20T16:29:49.697Z"
   },
   {
    "duration": 51,
    "start_time": "2022-05-20T16:29:49.709Z"
   },
   {
    "duration": 46,
    "start_time": "2022-05-20T16:29:49.762Z"
   },
   {
    "duration": 65,
    "start_time": "2022-05-20T16:29:49.810Z"
   },
   {
    "duration": 14,
    "start_time": "2022-05-20T16:29:49.877Z"
   },
   {
    "duration": 23,
    "start_time": "2022-05-20T16:29:49.896Z"
   },
   {
    "duration": 25,
    "start_time": "2022-05-20T16:29:49.922Z"
   },
   {
    "duration": 21,
    "start_time": "2022-05-20T16:29:49.949Z"
   },
   {
    "duration": 45,
    "start_time": "2022-05-20T16:29:49.972Z"
   },
   {
    "duration": 46,
    "start_time": "2022-05-20T16:29:50.020Z"
   },
   {
    "duration": 20,
    "start_time": "2022-05-20T16:29:50.068Z"
   },
   {
    "duration": 35,
    "start_time": "2022-05-20T16:29:50.090Z"
   },
   {
    "duration": 65,
    "start_time": "2022-05-20T16:29:50.126Z"
   },
   {
    "duration": 13,
    "start_time": "2022-05-20T16:29:50.193Z"
   },
   {
    "duration": 0,
    "start_time": "2022-05-20T16:29:50.207Z"
   },
   {
    "duration": 15,
    "start_time": "2022-05-20T16:30:05.181Z"
   },
   {
    "duration": 20,
    "start_time": "2022-05-20T16:30:16.272Z"
   },
   {
    "duration": 28,
    "start_time": "2022-05-20T16:30:32.517Z"
   },
   {
    "duration": 123,
    "start_time": "2022-05-20T16:30:55.057Z"
   },
   {
    "duration": 35,
    "start_time": "2022-05-20T16:30:55.182Z"
   },
   {
    "duration": 24,
    "start_time": "2022-05-20T16:30:55.222Z"
   },
   {
    "duration": 22,
    "start_time": "2022-05-20T16:30:55.249Z"
   },
   {
    "duration": 9,
    "start_time": "2022-05-20T16:30:55.273Z"
   },
   {
    "duration": 19,
    "start_time": "2022-05-20T16:30:55.284Z"
   },
   {
    "duration": 11,
    "start_time": "2022-05-20T16:30:55.305Z"
   },
   {
    "duration": 59,
    "start_time": "2022-05-20T16:30:55.321Z"
   },
   {
    "duration": 11,
    "start_time": "2022-05-20T16:30:55.382Z"
   },
   {
    "duration": 13,
    "start_time": "2022-05-20T16:30:55.397Z"
   },
   {
    "duration": 58,
    "start_time": "2022-05-20T16:30:55.411Z"
   },
   {
    "duration": 27,
    "start_time": "2022-05-20T16:30:55.471Z"
   },
   {
    "duration": 19,
    "start_time": "2022-05-20T16:30:55.500Z"
   },
   {
    "duration": 54,
    "start_time": "2022-05-20T16:30:55.522Z"
   },
   {
    "duration": 65,
    "start_time": "2022-05-20T16:30:55.579Z"
   },
   {
    "duration": 40,
    "start_time": "2022-05-20T16:30:55.647Z"
   },
   {
    "duration": 38,
    "start_time": "2022-05-20T16:30:55.689Z"
   },
   {
    "duration": 37,
    "start_time": "2022-05-20T16:30:55.730Z"
   },
   {
    "duration": 28,
    "start_time": "2022-05-20T16:30:55.770Z"
   },
   {
    "duration": 12,
    "start_time": "2022-05-20T16:30:55.800Z"
   },
   {
    "duration": 60,
    "start_time": "2022-05-20T16:30:55.814Z"
   },
   {
    "duration": 10,
    "start_time": "2022-05-20T16:30:55.875Z"
   },
   {
    "duration": 13,
    "start_time": "2022-05-20T16:30:55.886Z"
   },
   {
    "duration": 26,
    "start_time": "2022-05-20T16:30:55.901Z"
   },
   {
    "duration": 61,
    "start_time": "2022-05-20T16:30:55.929Z"
   },
   {
    "duration": 92,
    "start_time": "2022-05-20T16:30:55.992Z"
   },
   {
    "duration": 18,
    "start_time": "2022-05-20T16:30:56.086Z"
   },
   {
    "duration": 30,
    "start_time": "2022-05-20T16:30:56.109Z"
   },
   {
    "duration": 44,
    "start_time": "2022-05-20T16:30:56.145Z"
   },
   {
    "duration": 10,
    "start_time": "2022-05-20T16:30:56.191Z"
   },
   {
    "duration": 49,
    "start_time": "2022-05-20T16:30:56.203Z"
   },
   {
    "duration": 25,
    "start_time": "2022-05-20T16:30:56.254Z"
   },
   {
    "duration": 10,
    "start_time": "2022-05-20T16:30:56.281Z"
   },
   {
    "duration": 27,
    "start_time": "2022-05-20T16:30:56.293Z"
   },
   {
    "duration": 62,
    "start_time": "2022-05-20T16:30:56.322Z"
   },
   {
    "duration": 13,
    "start_time": "2022-05-20T16:30:56.386Z"
   },
   {
    "duration": 0,
    "start_time": "2022-05-20T16:30:56.402Z"
   },
   {
    "duration": 16,
    "start_time": "2022-05-20T16:30:58.954Z"
   },
   {
    "duration": 84,
    "start_time": "2022-05-20T16:31:08.907Z"
   },
   {
    "duration": 23,
    "start_time": "2022-05-20T16:31:08.993Z"
   },
   {
    "duration": 27,
    "start_time": "2022-05-20T16:31:09.018Z"
   },
   {
    "duration": 6,
    "start_time": "2022-05-20T16:31:09.047Z"
   },
   {
    "duration": 6,
    "start_time": "2022-05-20T16:31:09.055Z"
   },
   {
    "duration": 19,
    "start_time": "2022-05-20T16:31:09.063Z"
   },
   {
    "duration": 33,
    "start_time": "2022-05-20T16:31:09.083Z"
   },
   {
    "duration": 15,
    "start_time": "2022-05-20T16:31:09.117Z"
   },
   {
    "duration": 14,
    "start_time": "2022-05-20T16:31:09.135Z"
   },
   {
    "duration": 6,
    "start_time": "2022-05-20T16:31:09.152Z"
   },
   {
    "duration": 14,
    "start_time": "2022-05-20T16:31:09.160Z"
   },
   {
    "duration": 12,
    "start_time": "2022-05-20T16:31:09.176Z"
   },
   {
    "duration": 27,
    "start_time": "2022-05-20T16:31:09.190Z"
   },
   {
    "duration": 25,
    "start_time": "2022-05-20T16:31:09.225Z"
   },
   {
    "duration": 29,
    "start_time": "2022-05-20T16:31:09.252Z"
   },
   {
    "duration": 6,
    "start_time": "2022-05-20T16:31:09.282Z"
   },
   {
    "duration": 10,
    "start_time": "2022-05-20T16:31:09.290Z"
   },
   {
    "duration": 20,
    "start_time": "2022-05-20T16:31:09.303Z"
   },
   {
    "duration": 38,
    "start_time": "2022-05-20T16:31:09.328Z"
   },
   {
    "duration": 9,
    "start_time": "2022-05-20T16:31:09.368Z"
   },
   {
    "duration": 11,
    "start_time": "2022-05-20T16:31:09.379Z"
   },
   {
    "duration": 54,
    "start_time": "2022-05-20T16:31:09.391Z"
   },
   {
    "duration": 25,
    "start_time": "2022-05-20T16:31:09.447Z"
   },
   {
    "duration": 36,
    "start_time": "2022-05-20T16:31:09.474Z"
   },
   {
    "duration": 51,
    "start_time": "2022-05-20T16:31:09.512Z"
   },
   {
    "duration": 37,
    "start_time": "2022-05-20T16:31:09.565Z"
   },
   {
    "duration": 20,
    "start_time": "2022-05-20T16:31:09.604Z"
   },
   {
    "duration": 41,
    "start_time": "2022-05-20T16:31:09.627Z"
   },
   {
    "duration": 28,
    "start_time": "2022-05-20T16:31:09.670Z"
   },
   {
    "duration": 31,
    "start_time": "2022-05-20T16:31:09.700Z"
   },
   {
    "duration": 48,
    "start_time": "2022-05-20T16:31:09.733Z"
   },
   {
    "duration": 18,
    "start_time": "2022-05-20T16:31:09.783Z"
   },
   {
    "duration": 15,
    "start_time": "2022-05-20T16:31:09.803Z"
   },
   {
    "duration": 66,
    "start_time": "2022-05-20T16:31:09.821Z"
   },
   {
    "duration": 20,
    "start_time": "2022-05-20T16:31:09.890Z"
   },
   {
    "duration": 18,
    "start_time": "2022-05-20T16:31:09.912Z"
   },
   {
    "duration": 0,
    "start_time": "2022-05-20T16:31:09.931Z"
   },
   {
    "duration": 0,
    "start_time": "2022-05-20T16:31:09.933Z"
   },
   {
    "duration": 16,
    "start_time": "2022-05-20T16:31:20.289Z"
   },
   {
    "duration": 19,
    "start_time": "2022-05-20T16:31:23.107Z"
   },
   {
    "duration": 83,
    "start_time": "2022-05-20T16:32:04.153Z"
   },
   {
    "duration": 13,
    "start_time": "2022-05-20T16:32:04.238Z"
   },
   {
    "duration": 11,
    "start_time": "2022-05-20T16:32:04.252Z"
   },
   {
    "duration": 9,
    "start_time": "2022-05-20T16:32:04.265Z"
   },
   {
    "duration": 7,
    "start_time": "2022-05-20T16:32:04.276Z"
   },
   {
    "duration": 59,
    "start_time": "2022-05-20T16:32:04.285Z"
   },
   {
    "duration": 7,
    "start_time": "2022-05-20T16:32:04.346Z"
   },
   {
    "duration": 13,
    "start_time": "2022-05-20T16:32:04.354Z"
   },
   {
    "duration": 6,
    "start_time": "2022-05-20T16:32:04.369Z"
   },
   {
    "duration": 8,
    "start_time": "2022-05-20T16:32:04.379Z"
   },
   {
    "duration": 7,
    "start_time": "2022-05-20T16:32:04.389Z"
   },
   {
    "duration": 38,
    "start_time": "2022-05-20T16:32:04.398Z"
   },
   {
    "duration": 8,
    "start_time": "2022-05-20T16:32:04.438Z"
   },
   {
    "duration": 8,
    "start_time": "2022-05-20T16:32:04.447Z"
   },
   {
    "duration": 26,
    "start_time": "2022-05-20T16:32:04.456Z"
   },
   {
    "duration": 5,
    "start_time": "2022-05-20T16:32:04.484Z"
   },
   {
    "duration": 26,
    "start_time": "2022-05-20T16:32:04.491Z"
   },
   {
    "duration": 7,
    "start_time": "2022-05-20T16:32:04.524Z"
   },
   {
    "duration": 18,
    "start_time": "2022-05-20T16:32:04.533Z"
   },
   {
    "duration": 6,
    "start_time": "2022-05-20T16:32:04.553Z"
   },
   {
    "duration": 13,
    "start_time": "2022-05-20T16:32:04.560Z"
   },
   {
    "duration": 7,
    "start_time": "2022-05-20T16:32:04.575Z"
   },
   {
    "duration": 36,
    "start_time": "2022-05-20T16:32:04.584Z"
   },
   {
    "duration": 28,
    "start_time": "2022-05-20T16:32:04.624Z"
   },
   {
    "duration": 19,
    "start_time": "2022-05-20T16:32:04.655Z"
   },
   {
    "duration": 37,
    "start_time": "2022-05-20T16:32:04.675Z"
   },
   {
    "duration": 19,
    "start_time": "2022-05-20T16:32:04.714Z"
   },
   {
    "duration": 18,
    "start_time": "2022-05-20T16:32:04.737Z"
   },
   {
    "duration": 13,
    "start_time": "2022-05-20T16:32:04.756Z"
   },
   {
    "duration": 8,
    "start_time": "2022-05-20T16:32:04.770Z"
   },
   {
    "duration": 57,
    "start_time": "2022-05-20T16:32:04.779Z"
   },
   {
    "duration": 13,
    "start_time": "2022-05-20T16:32:04.838Z"
   },
   {
    "duration": 6,
    "start_time": "2022-05-20T16:32:04.853Z"
   },
   {
    "duration": 24,
    "start_time": "2022-05-20T16:32:04.861Z"
   },
   {
    "duration": 43,
    "start_time": "2022-05-20T16:32:04.886Z"
   },
   {
    "duration": 10,
    "start_time": "2022-05-20T16:32:04.931Z"
   },
   {
    "duration": 0,
    "start_time": "2022-05-20T16:32:04.942Z"
   },
   {
    "duration": 18,
    "start_time": "2022-05-20T16:32:08.706Z"
   },
   {
    "duration": 104,
    "start_time": "2022-05-20T16:32:16.135Z"
   },
   {
    "duration": 19,
    "start_time": "2022-05-20T16:32:16.241Z"
   },
   {
    "duration": 9,
    "start_time": "2022-05-20T16:32:16.262Z"
   },
   {
    "duration": 7,
    "start_time": "2022-05-20T16:32:16.273Z"
   },
   {
    "duration": 8,
    "start_time": "2022-05-20T16:32:16.281Z"
   },
   {
    "duration": 19,
    "start_time": "2022-05-20T16:32:16.312Z"
   },
   {
    "duration": 7,
    "start_time": "2022-05-20T16:32:16.332Z"
   },
   {
    "duration": 6,
    "start_time": "2022-05-20T16:32:16.340Z"
   },
   {
    "duration": 9,
    "start_time": "2022-05-20T16:32:16.348Z"
   },
   {
    "duration": 6,
    "start_time": "2022-05-20T16:32:16.360Z"
   },
   {
    "duration": 14,
    "start_time": "2022-05-20T16:32:16.368Z"
   },
   {
    "duration": 37,
    "start_time": "2022-05-20T16:32:16.384Z"
   },
   {
    "duration": 8,
    "start_time": "2022-05-20T16:32:16.427Z"
   },
   {
    "duration": 7,
    "start_time": "2022-05-20T16:32:16.437Z"
   },
   {
    "duration": 19,
    "start_time": "2022-05-20T16:32:16.445Z"
   },
   {
    "duration": 5,
    "start_time": "2022-05-20T16:32:16.466Z"
   },
   {
    "duration": 9,
    "start_time": "2022-05-20T16:32:16.473Z"
   },
   {
    "duration": 7,
    "start_time": "2022-05-20T16:32:16.484Z"
   },
   {
    "duration": 31,
    "start_time": "2022-05-20T16:32:16.512Z"
   },
   {
    "duration": 9,
    "start_time": "2022-05-20T16:32:16.545Z"
   },
   {
    "duration": 10,
    "start_time": "2022-05-20T16:32:16.555Z"
   },
   {
    "duration": 7,
    "start_time": "2022-05-20T16:32:16.568Z"
   },
   {
    "duration": 10,
    "start_time": "2022-05-20T16:32:16.576Z"
   },
   {
    "duration": 45,
    "start_time": "2022-05-20T16:32:16.588Z"
   },
   {
    "duration": 22,
    "start_time": "2022-05-20T16:32:16.635Z"
   },
   {
    "duration": 35,
    "start_time": "2022-05-20T16:32:16.659Z"
   },
   {
    "duration": 36,
    "start_time": "2022-05-20T16:32:16.696Z"
   },
   {
    "duration": 18,
    "start_time": "2022-05-20T16:32:16.738Z"
   },
   {
    "duration": 16,
    "start_time": "2022-05-20T16:32:16.758Z"
   },
   {
    "duration": 6,
    "start_time": "2022-05-20T16:32:16.776Z"
   },
   {
    "duration": 52,
    "start_time": "2022-05-20T16:32:16.784Z"
   },
   {
    "duration": 9,
    "start_time": "2022-05-20T16:32:16.838Z"
   },
   {
    "duration": 7,
    "start_time": "2022-05-20T16:32:16.849Z"
   },
   {
    "duration": 23,
    "start_time": "2022-05-20T16:32:16.857Z"
   },
   {
    "duration": 44,
    "start_time": "2022-05-20T16:32:16.881Z"
   },
   {
    "duration": 10,
    "start_time": "2022-05-20T16:32:16.933Z"
   },
   {
    "duration": 0,
    "start_time": "2022-05-20T16:32:16.945Z"
   },
   {
    "duration": 0,
    "start_time": "2022-05-20T16:32:16.946Z"
   },
   {
    "duration": 18,
    "start_time": "2022-05-20T16:32:21.987Z"
   },
   {
    "duration": 13,
    "start_time": "2022-05-20T16:32:24.092Z"
   },
   {
    "duration": 10,
    "start_time": "2022-05-20T16:35:50.875Z"
   },
   {
    "duration": 20,
    "start_time": "2022-05-20T16:35:53.288Z"
   },
   {
    "duration": 9,
    "start_time": "2022-05-20T16:35:55.968Z"
   },
   {
    "duration": 19,
    "start_time": "2022-05-20T16:38:29.359Z"
   },
   {
    "duration": 21,
    "start_time": "2022-05-20T16:38:31.936Z"
   },
   {
    "duration": 25,
    "start_time": "2022-05-20T16:38:56.694Z"
   },
   {
    "duration": 16,
    "start_time": "2022-05-20T16:39:10.930Z"
   },
   {
    "duration": 13,
    "start_time": "2022-05-20T16:39:16.904Z"
   },
   {
    "duration": 9,
    "start_time": "2022-05-20T16:39:28.363Z"
   },
   {
    "duration": 30,
    "start_time": "2022-05-20T16:42:51.909Z"
   },
   {
    "duration": 10,
    "start_time": "2022-05-20T16:42:57.641Z"
   },
   {
    "duration": 92,
    "start_time": "2022-05-20T16:43:18.559Z"
   },
   {
    "duration": 17,
    "start_time": "2022-05-20T16:43:18.654Z"
   },
   {
    "duration": 12,
    "start_time": "2022-05-20T16:43:18.673Z"
   },
   {
    "duration": 45,
    "start_time": "2022-05-20T16:43:18.688Z"
   },
   {
    "duration": 12,
    "start_time": "2022-05-20T16:43:18.738Z"
   },
   {
    "duration": 26,
    "start_time": "2022-05-20T16:43:18.751Z"
   },
   {
    "duration": 11,
    "start_time": "2022-05-20T16:43:18.779Z"
   },
   {
    "duration": 27,
    "start_time": "2022-05-20T16:43:18.792Z"
   },
   {
    "duration": 40,
    "start_time": "2022-05-20T16:43:18.820Z"
   },
   {
    "duration": 7,
    "start_time": "2022-05-20T16:43:18.864Z"
   },
   {
    "duration": 28,
    "start_time": "2022-05-20T16:43:18.873Z"
   },
   {
    "duration": 37,
    "start_time": "2022-05-20T16:43:18.903Z"
   },
   {
    "duration": 9,
    "start_time": "2022-05-20T16:43:18.941Z"
   },
   {
    "duration": 16,
    "start_time": "2022-05-20T16:43:18.952Z"
   },
   {
    "duration": 21,
    "start_time": "2022-05-20T16:43:18.970Z"
   },
   {
    "duration": 8,
    "start_time": "2022-05-20T16:43:18.993Z"
   },
   {
    "duration": 29,
    "start_time": "2022-05-20T16:43:19.002Z"
   },
   {
    "duration": 17,
    "start_time": "2022-05-20T16:43:19.034Z"
   },
   {
    "duration": 18,
    "start_time": "2022-05-20T16:43:19.053Z"
   },
   {
    "duration": 21,
    "start_time": "2022-05-20T16:43:19.073Z"
   },
   {
    "duration": 15,
    "start_time": "2022-05-20T16:43:19.096Z"
   },
   {
    "duration": 38,
    "start_time": "2022-05-20T16:43:19.115Z"
   },
   {
    "duration": 17,
    "start_time": "2022-05-20T16:43:19.154Z"
   },
   {
    "duration": 24,
    "start_time": "2022-05-20T16:43:19.173Z"
   },
   {
    "duration": 44,
    "start_time": "2022-05-20T16:43:19.199Z"
   },
   {
    "duration": 30,
    "start_time": "2022-05-20T16:43:19.245Z"
   },
   {
    "duration": 12,
    "start_time": "2022-05-20T16:43:19.277Z"
   },
   {
    "duration": 32,
    "start_time": "2022-05-20T16:43:19.292Z"
   },
   {
    "duration": 17,
    "start_time": "2022-05-20T16:43:19.326Z"
   },
   {
    "duration": 7,
    "start_time": "2022-05-20T16:43:19.345Z"
   },
   {
    "duration": 19,
    "start_time": "2022-05-20T16:43:19.354Z"
   },
   {
    "duration": 7,
    "start_time": "2022-05-20T16:43:19.375Z"
   },
   {
    "duration": 15,
    "start_time": "2022-05-20T16:43:19.384Z"
   },
   {
    "duration": 51,
    "start_time": "2022-05-20T16:43:19.400Z"
   },
   {
    "duration": 22,
    "start_time": "2022-05-20T16:43:19.453Z"
   },
   {
    "duration": 13,
    "start_time": "2022-05-20T16:43:19.476Z"
   },
   {
    "duration": 0,
    "start_time": "2022-05-20T16:43:19.491Z"
   },
   {
    "duration": 0,
    "start_time": "2022-05-20T16:43:19.492Z"
   },
   {
    "duration": 0,
    "start_time": "2022-05-20T16:43:19.494Z"
   },
   {
    "duration": 0,
    "start_time": "2022-05-20T16:43:19.496Z"
   },
   {
    "duration": 0,
    "start_time": "2022-05-20T16:43:19.524Z"
   },
   {
    "duration": 0,
    "start_time": "2022-05-20T16:43:19.525Z"
   },
   {
    "duration": 81,
    "start_time": "2022-05-20T16:43:48.839Z"
   },
   {
    "duration": 21,
    "start_time": "2022-05-20T16:43:48.924Z"
   },
   {
    "duration": 21,
    "start_time": "2022-05-20T16:43:48.946Z"
   },
   {
    "duration": 6,
    "start_time": "2022-05-20T16:43:48.969Z"
   },
   {
    "duration": 7,
    "start_time": "2022-05-20T16:43:48.978Z"
   },
   {
    "duration": 48,
    "start_time": "2022-05-20T16:43:48.987Z"
   },
   {
    "duration": 21,
    "start_time": "2022-05-20T16:43:49.039Z"
   },
   {
    "duration": 31,
    "start_time": "2022-05-20T16:43:49.062Z"
   },
   {
    "duration": 19,
    "start_time": "2022-05-20T16:43:49.095Z"
   },
   {
    "duration": 13,
    "start_time": "2022-05-20T16:43:49.128Z"
   },
   {
    "duration": 7,
    "start_time": "2022-05-20T16:43:49.143Z"
   },
   {
    "duration": 6,
    "start_time": "2022-05-20T16:43:49.152Z"
   },
   {
    "duration": 10,
    "start_time": "2022-05-20T16:43:49.159Z"
   },
   {
    "duration": 7,
    "start_time": "2022-05-20T16:43:49.171Z"
   },
   {
    "duration": 20,
    "start_time": "2022-05-20T16:43:49.180Z"
   },
   {
    "duration": 22,
    "start_time": "2022-05-20T16:43:49.202Z"
   },
   {
    "duration": 24,
    "start_time": "2022-05-20T16:43:49.225Z"
   },
   {
    "duration": 6,
    "start_time": "2022-05-20T16:43:49.251Z"
   },
   {
    "duration": 18,
    "start_time": "2022-05-20T16:43:49.258Z"
   },
   {
    "duration": 7,
    "start_time": "2022-05-20T16:43:49.278Z"
   },
   {
    "duration": 7,
    "start_time": "2022-05-20T16:43:49.287Z"
   },
   {
    "duration": 6,
    "start_time": "2022-05-20T16:43:49.295Z"
   },
   {
    "duration": 30,
    "start_time": "2022-05-20T16:43:49.303Z"
   },
   {
    "duration": 24,
    "start_time": "2022-05-20T16:43:49.337Z"
   },
   {
    "duration": 18,
    "start_time": "2022-05-20T16:43:49.363Z"
   },
   {
    "duration": 48,
    "start_time": "2022-05-20T16:43:49.382Z"
   },
   {
    "duration": 15,
    "start_time": "2022-05-20T16:43:49.434Z"
   },
   {
    "duration": 14,
    "start_time": "2022-05-20T16:43:49.453Z"
   },
   {
    "duration": 12,
    "start_time": "2022-05-20T16:43:49.468Z"
   },
   {
    "duration": 9,
    "start_time": "2022-05-20T16:43:49.482Z"
   },
   {
    "duration": 46,
    "start_time": "2022-05-20T16:43:49.492Z"
   },
   {
    "duration": 7,
    "start_time": "2022-05-20T16:43:49.540Z"
   },
   {
    "duration": 7,
    "start_time": "2022-05-20T16:43:49.548Z"
   },
   {
    "duration": 21,
    "start_time": "2022-05-20T16:43:49.556Z"
   },
   {
    "duration": 45,
    "start_time": "2022-05-20T16:43:49.579Z"
   },
   {
    "duration": 24,
    "start_time": "2022-05-20T16:43:49.626Z"
   },
   {
    "duration": 15,
    "start_time": "2022-05-20T16:43:49.652Z"
   },
   {
    "duration": 14,
    "start_time": "2022-05-20T16:43:49.668Z"
   },
   {
    "duration": 36,
    "start_time": "2022-05-20T16:43:49.684Z"
   },
   {
    "duration": 13,
    "start_time": "2022-05-20T16:43:49.730Z"
   },
   {
    "duration": 20,
    "start_time": "2022-05-20T16:43:49.745Z"
   },
   {
    "duration": 8,
    "start_time": "2022-05-20T16:43:49.767Z"
   },
   {
    "duration": 19,
    "start_time": "2022-05-20T16:45:48.147Z"
   },
   {
    "duration": 33,
    "start_time": "2022-05-20T16:45:56.296Z"
   },
   {
    "duration": 37,
    "start_time": "2022-05-20T16:51:21.567Z"
   },
   {
    "duration": 43,
    "start_time": "2022-05-20T16:52:48.784Z"
   },
   {
    "duration": 16,
    "start_time": "2022-05-20T16:53:15.528Z"
   },
   {
    "duration": 24,
    "start_time": "2022-05-20T16:54:25.118Z"
   },
   {
    "duration": 32,
    "start_time": "2022-05-20T17:01:30.001Z"
   },
   {
    "duration": 28,
    "start_time": "2022-05-20T17:04:49.672Z"
   },
   {
    "duration": 22,
    "start_time": "2022-05-20T17:06:04.769Z"
   },
   {
    "duration": 27,
    "start_time": "2022-05-20T17:10:55.845Z"
   },
   {
    "duration": 33,
    "start_time": "2022-05-20T17:11:15.797Z"
   },
   {
    "duration": 18,
    "start_time": "2022-05-20T17:18:37.728Z"
   },
   {
    "duration": 82,
    "start_time": "2022-05-20T17:18:52.078Z"
   },
   {
    "duration": 14,
    "start_time": "2022-05-20T17:18:52.162Z"
   },
   {
    "duration": 42,
    "start_time": "2022-05-20T17:18:52.178Z"
   },
   {
    "duration": 7,
    "start_time": "2022-05-20T17:18:52.226Z"
   },
   {
    "duration": 5,
    "start_time": "2022-05-20T17:18:52.234Z"
   },
   {
    "duration": 19,
    "start_time": "2022-05-20T17:18:52.241Z"
   },
   {
    "duration": 5,
    "start_time": "2022-05-20T17:18:52.262Z"
   },
   {
    "duration": 6,
    "start_time": "2022-05-20T17:18:52.268Z"
   },
   {
    "duration": 7,
    "start_time": "2022-05-20T17:18:52.275Z"
   },
   {
    "duration": 36,
    "start_time": "2022-05-20T17:18:52.285Z"
   },
   {
    "duration": 10,
    "start_time": "2022-05-20T17:18:52.324Z"
   },
   {
    "duration": 6,
    "start_time": "2022-05-20T17:18:52.336Z"
   },
   {
    "duration": 9,
    "start_time": "2022-05-20T17:18:52.344Z"
   },
   {
    "duration": 10,
    "start_time": "2022-05-20T17:18:52.355Z"
   },
   {
    "duration": 25,
    "start_time": "2022-05-20T17:18:52.366Z"
   },
   {
    "duration": 24,
    "start_time": "2022-05-20T17:18:52.392Z"
   },
   {
    "duration": 19,
    "start_time": "2022-05-20T17:18:52.417Z"
   },
   {
    "duration": 7,
    "start_time": "2022-05-20T17:18:52.438Z"
   },
   {
    "duration": 18,
    "start_time": "2022-05-20T17:18:52.446Z"
   },
   {
    "duration": 6,
    "start_time": "2022-05-20T17:18:52.465Z"
   },
   {
    "duration": 12,
    "start_time": "2022-05-20T17:18:52.473Z"
   },
   {
    "duration": 8,
    "start_time": "2022-05-20T17:18:52.486Z"
   },
   {
    "duration": 21,
    "start_time": "2022-05-20T17:18:52.495Z"
   },
   {
    "duration": 25,
    "start_time": "2022-05-20T17:18:52.518Z"
   },
   {
    "duration": 19,
    "start_time": "2022-05-20T17:18:52.545Z"
   },
   {
    "duration": 33,
    "start_time": "2022-05-20T17:18:52.566Z"
   },
   {
    "duration": 15,
    "start_time": "2022-05-20T17:18:52.611Z"
   },
   {
    "duration": 21,
    "start_time": "2022-05-20T17:18:52.629Z"
   },
   {
    "duration": 16,
    "start_time": "2022-05-20T17:18:52.651Z"
   },
   {
    "duration": 8,
    "start_time": "2022-05-20T17:18:52.668Z"
   },
   {
    "duration": 40,
    "start_time": "2022-05-20T17:18:52.678Z"
   },
   {
    "duration": 15,
    "start_time": "2022-05-20T17:18:52.722Z"
   },
   {
    "duration": 7,
    "start_time": "2022-05-20T17:18:52.739Z"
   },
   {
    "duration": 19,
    "start_time": "2022-05-20T17:18:52.748Z"
   },
   {
    "duration": 18,
    "start_time": "2022-05-20T17:18:52.768Z"
   },
   {
    "duration": 42,
    "start_time": "2022-05-20T17:18:52.788Z"
   },
   {
    "duration": 21,
    "start_time": "2022-05-20T17:18:52.831Z"
   },
   {
    "duration": 17,
    "start_time": "2022-05-20T17:18:52.854Z"
   },
   {
    "duration": 19,
    "start_time": "2022-05-20T17:19:50.526Z"
   },
   {
    "duration": 37,
    "start_time": "2022-05-20T17:22:11.404Z"
   },
   {
    "duration": 17,
    "start_time": "2022-05-20T17:23:50.671Z"
   },
   {
    "duration": 19,
    "start_time": "2022-05-20T17:23:57.075Z"
   },
   {
    "duration": 17,
    "start_time": "2022-05-20T17:25:08.955Z"
   },
   {
    "duration": 16,
    "start_time": "2022-05-20T17:52:07.982Z"
   },
   {
    "duration": 44,
    "start_time": "2022-05-20T18:02:34.206Z"
   },
   {
    "duration": 3,
    "start_time": "2022-05-20T18:05:42.699Z"
   },
   {
    "duration": 10,
    "start_time": "2022-05-20T18:06:22.137Z"
   },
   {
    "duration": 11,
    "start_time": "2022-05-20T18:06:49.859Z"
   },
   {
    "duration": 76,
    "start_time": "2022-05-20T18:07:12.686Z"
   },
   {
    "duration": 13,
    "start_time": "2022-05-20T18:07:12.764Z"
   },
   {
    "duration": 9,
    "start_time": "2022-05-20T18:07:12.778Z"
   },
   {
    "duration": 5,
    "start_time": "2022-05-20T18:07:12.812Z"
   },
   {
    "duration": 6,
    "start_time": "2022-05-20T18:07:12.819Z"
   },
   {
    "duration": 15,
    "start_time": "2022-05-20T18:07:12.826Z"
   },
   {
    "duration": 7,
    "start_time": "2022-05-20T18:07:12.842Z"
   },
   {
    "duration": 5,
    "start_time": "2022-05-20T18:07:12.850Z"
   },
   {
    "duration": 10,
    "start_time": "2022-05-20T18:07:12.856Z"
   },
   {
    "duration": 4,
    "start_time": "2022-05-20T18:07:12.868Z"
   },
   {
    "duration": 41,
    "start_time": "2022-05-20T18:07:12.874Z"
   },
   {
    "duration": 8,
    "start_time": "2022-05-20T18:07:12.916Z"
   },
   {
    "duration": 8,
    "start_time": "2022-05-20T18:07:12.925Z"
   },
   {
    "duration": 7,
    "start_time": "2022-05-20T18:07:12.934Z"
   },
   {
    "duration": 16,
    "start_time": "2022-05-20T18:07:12.943Z"
   },
   {
    "duration": 5,
    "start_time": "2022-05-20T18:07:12.961Z"
   },
   {
    "duration": 9,
    "start_time": "2022-05-20T18:07:12.968Z"
   },
   {
    "duration": 38,
    "start_time": "2022-05-20T18:07:12.979Z"
   },
   {
    "duration": 19,
    "start_time": "2022-05-20T18:07:13.019Z"
   },
   {
    "duration": 7,
    "start_time": "2022-05-20T18:07:13.040Z"
   },
   {
    "duration": 14,
    "start_time": "2022-05-20T18:07:13.049Z"
   },
   {
    "duration": 11,
    "start_time": "2022-05-20T18:07:13.065Z"
   },
   {
    "duration": 12,
    "start_time": "2022-05-20T18:07:13.077Z"
   },
   {
    "duration": 37,
    "start_time": "2022-05-20T18:07:13.091Z"
   },
   {
    "duration": 21,
    "start_time": "2022-05-20T18:07:13.130Z"
   },
   {
    "duration": 34,
    "start_time": "2022-05-20T18:07:13.155Z"
   },
   {
    "duration": 31,
    "start_time": "2022-05-20T18:07:13.191Z"
   },
   {
    "duration": 12,
    "start_time": "2022-05-20T18:07:13.225Z"
   },
   {
    "duration": 12,
    "start_time": "2022-05-20T18:07:13.239Z"
   },
   {
    "duration": 7,
    "start_time": "2022-05-20T18:07:13.253Z"
   },
   {
    "duration": 51,
    "start_time": "2022-05-20T18:07:13.261Z"
   },
   {
    "duration": 7,
    "start_time": "2022-05-20T18:07:13.314Z"
   },
   {
    "duration": 5,
    "start_time": "2022-05-20T18:07:13.323Z"
   },
   {
    "duration": 21,
    "start_time": "2022-05-20T18:07:13.330Z"
   },
   {
    "duration": 17,
    "start_time": "2022-05-20T18:07:13.353Z"
   },
   {
    "duration": 10,
    "start_time": "2022-05-20T18:07:13.372Z"
   },
   {
    "duration": 0,
    "start_time": "2022-05-20T18:07:13.412Z"
   },
   {
    "duration": 0,
    "start_time": "2022-05-20T18:07:13.414Z"
   },
   {
    "duration": 0,
    "start_time": "2022-05-20T18:07:13.415Z"
   },
   {
    "duration": 13,
    "start_time": "2022-05-20T18:08:14.154Z"
   },
   {
    "duration": 11,
    "start_time": "2022-05-20T18:08:39.426Z"
   },
   {
    "duration": 12,
    "start_time": "2022-05-20T18:09:02.126Z"
   },
   {
    "duration": 14,
    "start_time": "2022-05-20T18:09:30.638Z"
   },
   {
    "duration": 13,
    "start_time": "2022-05-20T18:10:26.218Z"
   },
   {
    "duration": 13,
    "start_time": "2022-05-20T18:10:48.242Z"
   },
   {
    "duration": 9,
    "start_time": "2022-05-20T18:14:46.118Z"
   },
   {
    "duration": 9,
    "start_time": "2022-05-20T18:16:00.539Z"
   },
   {
    "duration": 10,
    "start_time": "2022-05-20T18:18:16.935Z"
   },
   {
    "duration": 1199,
    "start_time": "2022-05-20T21:10:16.269Z"
   },
   {
    "duration": 22,
    "start_time": "2022-05-20T21:10:17.471Z"
   },
   {
    "duration": 22,
    "start_time": "2022-05-20T21:10:17.495Z"
   },
   {
    "duration": 17,
    "start_time": "2022-05-20T21:10:17.523Z"
   },
   {
    "duration": 7,
    "start_time": "2022-05-20T21:10:17.542Z"
   },
   {
    "duration": 17,
    "start_time": "2022-05-20T21:10:17.550Z"
   },
   {
    "duration": 11,
    "start_time": "2022-05-20T21:10:17.569Z"
   },
   {
    "duration": 8,
    "start_time": "2022-05-20T21:10:17.582Z"
   },
   {
    "duration": 9,
    "start_time": "2022-05-20T21:10:17.592Z"
   },
   {
    "duration": 11,
    "start_time": "2022-05-20T21:10:17.612Z"
   },
   {
    "duration": 26,
    "start_time": "2022-05-20T21:10:17.626Z"
   },
   {
    "duration": 7,
    "start_time": "2022-05-20T21:10:17.654Z"
   },
   {
    "duration": 10,
    "start_time": "2022-05-20T21:10:17.662Z"
   },
   {
    "duration": 9,
    "start_time": "2022-05-20T21:10:17.674Z"
   },
   {
    "duration": 17,
    "start_time": "2022-05-20T21:10:17.685Z"
   },
   {
    "duration": 8,
    "start_time": "2022-05-20T21:10:17.716Z"
   },
   {
    "duration": 17,
    "start_time": "2022-05-20T21:10:17.731Z"
   },
   {
    "duration": 10,
    "start_time": "2022-05-20T21:10:17.750Z"
   },
   {
    "duration": 28,
    "start_time": "2022-05-20T21:10:17.762Z"
   },
   {
    "duration": 32,
    "start_time": "2022-05-20T21:10:17.792Z"
   },
   {
    "duration": 21,
    "start_time": "2022-05-20T21:10:17.827Z"
   },
   {
    "duration": 7,
    "start_time": "2022-05-20T21:10:17.850Z"
   },
   {
    "duration": 11,
    "start_time": "2022-05-20T21:10:17.859Z"
   },
   {
    "duration": 20,
    "start_time": "2022-05-20T21:10:17.872Z"
   },
   {
    "duration": 39,
    "start_time": "2022-05-20T21:10:17.894Z"
   },
   {
    "duration": 34,
    "start_time": "2022-05-20T21:10:17.935Z"
   },
   {
    "duration": 16,
    "start_time": "2022-05-20T21:10:17.971Z"
   },
   {
    "duration": 38,
    "start_time": "2022-05-20T21:10:17.991Z"
   },
   {
    "duration": 26,
    "start_time": "2022-05-20T21:10:18.032Z"
   },
   {
    "duration": 15,
    "start_time": "2022-05-20T21:10:18.059Z"
   },
   {
    "duration": 34,
    "start_time": "2022-05-20T21:10:18.075Z"
   },
   {
    "duration": 39,
    "start_time": "2022-05-20T21:10:18.113Z"
   },
   {
    "duration": 23,
    "start_time": "2022-05-20T21:10:18.154Z"
   },
   {
    "duration": 24,
    "start_time": "2022-05-20T21:10:18.178Z"
   },
   {
    "duration": 36,
    "start_time": "2022-05-20T21:10:18.204Z"
   },
   {
    "duration": 10,
    "start_time": "2022-05-20T21:10:18.242Z"
   },
   {
    "duration": 28,
    "start_time": "2022-05-20T21:10:20.883Z"
   },
   {
    "duration": 27,
    "start_time": "2022-05-20T21:28:45.910Z"
   },
   {
    "duration": 26,
    "start_time": "2022-05-20T21:37:26.995Z"
   },
   {
    "duration": 92,
    "start_time": "2022-05-20T22:03:00.472Z"
   },
   {
    "duration": 14,
    "start_time": "2022-05-20T22:03:00.566Z"
   },
   {
    "duration": 33,
    "start_time": "2022-05-20T22:03:00.581Z"
   },
   {
    "duration": 7,
    "start_time": "2022-05-20T22:03:00.616Z"
   },
   {
    "duration": 29,
    "start_time": "2022-05-20T22:03:00.625Z"
   },
   {
    "duration": 23,
    "start_time": "2022-05-20T22:03:00.655Z"
   },
   {
    "duration": 14,
    "start_time": "2022-05-20T22:03:00.680Z"
   },
   {
    "duration": 11,
    "start_time": "2022-05-20T22:03:00.696Z"
   },
   {
    "duration": 44,
    "start_time": "2022-05-20T22:03:00.709Z"
   },
   {
    "duration": 24,
    "start_time": "2022-05-20T22:03:00.755Z"
   },
   {
    "duration": 15,
    "start_time": "2022-05-20T22:03:00.781Z"
   },
   {
    "duration": 18,
    "start_time": "2022-05-20T22:03:00.797Z"
   },
   {
    "duration": 49,
    "start_time": "2022-05-20T22:03:00.817Z"
   },
   {
    "duration": 12,
    "start_time": "2022-05-20T22:03:00.868Z"
   },
   {
    "duration": 25,
    "start_time": "2022-05-20T22:03:00.882Z"
   },
   {
    "duration": 43,
    "start_time": "2022-05-20T22:03:00.909Z"
   },
   {
    "duration": 12,
    "start_time": "2022-05-20T22:03:00.953Z"
   },
   {
    "duration": 15,
    "start_time": "2022-05-20T22:03:00.966Z"
   },
   {
    "duration": 60,
    "start_time": "2022-05-20T22:03:00.983Z"
   },
   {
    "duration": 14,
    "start_time": "2022-05-20T22:03:01.044Z"
   },
   {
    "duration": 13,
    "start_time": "2022-05-20T22:03:01.059Z"
   },
   {
    "duration": 11,
    "start_time": "2022-05-20T22:03:01.073Z"
   },
   {
    "duration": 11,
    "start_time": "2022-05-20T22:03:01.085Z"
   },
   {
    "duration": 25,
    "start_time": "2022-05-20T22:03:01.097Z"
   },
   {
    "duration": 27,
    "start_time": "2022-05-20T22:03:01.125Z"
   },
   {
    "duration": 35,
    "start_time": "2022-05-20T22:03:01.154Z"
   },
   {
    "duration": 29,
    "start_time": "2022-05-20T22:03:01.190Z"
   },
   {
    "duration": 17,
    "start_time": "2022-05-20T22:03:01.221Z"
   },
   {
    "duration": 14,
    "start_time": "2022-05-20T22:03:01.240Z"
   },
   {
    "duration": 10,
    "start_time": "2022-05-20T22:03:01.256Z"
   },
   {
    "duration": 27,
    "start_time": "2022-05-20T22:03:01.268Z"
   },
   {
    "duration": 25,
    "start_time": "2022-05-20T22:03:01.296Z"
   },
   {
    "duration": 19,
    "start_time": "2022-05-20T22:03:01.327Z"
   },
   {
    "duration": 25,
    "start_time": "2022-05-20T22:03:01.348Z"
   },
   {
    "duration": 33,
    "start_time": "2022-05-20T22:03:01.375Z"
   },
   {
    "duration": 28,
    "start_time": "2022-05-20T22:03:01.411Z"
   },
   {
    "duration": 32,
    "start_time": "2022-05-20T22:03:01.445Z"
   },
   {
    "duration": 28,
    "start_time": "2022-05-20T22:03:01.479Z"
   },
   {
    "duration": 45,
    "start_time": "2022-05-20T22:03:01.509Z"
   },
   {
    "duration": 37,
    "start_time": "2022-05-20T23:16:31.253Z"
   },
   {
    "duration": 528,
    "start_time": "2022-05-21T21:02:58.686Z"
   },
   {
    "duration": 19,
    "start_time": "2022-05-21T21:02:59.215Z"
   },
   {
    "duration": 14,
    "start_time": "2022-05-21T21:02:59.236Z"
   },
   {
    "duration": 6,
    "start_time": "2022-05-21T21:02:59.252Z"
   },
   {
    "duration": 4,
    "start_time": "2022-05-21T21:02:59.260Z"
   },
   {
    "duration": 14,
    "start_time": "2022-05-21T21:02:59.265Z"
   },
   {
    "duration": 8,
    "start_time": "2022-05-21T21:02:59.281Z"
   },
   {
    "duration": 8,
    "start_time": "2022-05-21T21:02:59.291Z"
   },
   {
    "duration": 45,
    "start_time": "2022-05-21T21:02:59.301Z"
   },
   {
    "duration": 6,
    "start_time": "2022-05-21T21:02:59.348Z"
   },
   {
    "duration": 8,
    "start_time": "2022-05-21T21:02:59.356Z"
   },
   {
    "duration": 5,
    "start_time": "2022-05-21T21:02:59.366Z"
   },
   {
    "duration": 8,
    "start_time": "2022-05-21T21:02:59.373Z"
   },
   {
    "duration": 7,
    "start_time": "2022-05-21T21:02:59.384Z"
   },
   {
    "duration": 57,
    "start_time": "2022-05-21T21:02:59.392Z"
   },
   {
    "duration": 6,
    "start_time": "2022-05-21T21:02:59.450Z"
   },
   {
    "duration": 11,
    "start_time": "2022-05-21T21:02:59.458Z"
   },
   {
    "duration": 6,
    "start_time": "2022-05-21T21:02:59.471Z"
   },
   {
    "duration": 17,
    "start_time": "2022-05-21T21:02:59.479Z"
   },
   {
    "duration": 7,
    "start_time": "2022-05-21T21:02:59.498Z"
   },
   {
    "duration": 43,
    "start_time": "2022-05-21T21:02:59.506Z"
   },
   {
    "duration": 7,
    "start_time": "2022-05-21T21:02:59.551Z"
   },
   {
    "duration": 9,
    "start_time": "2022-05-21T21:02:59.559Z"
   },
   {
    "duration": 18,
    "start_time": "2022-05-21T21:02:59.569Z"
   },
   {
    "duration": 19,
    "start_time": "2022-05-21T21:02:59.588Z"
   },
   {
    "duration": 58,
    "start_time": "2022-05-21T21:02:59.609Z"
   },
   {
    "duration": 11,
    "start_time": "2022-05-21T21:02:59.669Z"
   },
   {
    "duration": 17,
    "start_time": "2022-05-21T21:02:59.682Z"
   },
   {
    "duration": 13,
    "start_time": "2022-05-21T21:02:59.701Z"
   },
   {
    "duration": 28,
    "start_time": "2022-05-21T21:02:59.716Z"
   },
   {
    "duration": 22,
    "start_time": "2022-05-21T21:02:59.745Z"
   },
   {
    "duration": 20,
    "start_time": "2022-05-21T21:02:59.769Z"
   },
   {
    "duration": 6,
    "start_time": "2022-05-21T21:02:59.791Z"
   },
   {
    "duration": 47,
    "start_time": "2022-05-21T21:02:59.799Z"
   },
   {
    "duration": 20,
    "start_time": "2022-05-21T21:02:59.849Z"
   },
   {
    "duration": 14,
    "start_time": "2022-05-21T21:02:59.871Z"
   },
   {
    "duration": 56,
    "start_time": "2022-05-21T21:02:59.887Z"
   },
   {
    "duration": 26,
    "start_time": "2022-05-21T21:02:59.946Z"
   },
   {
    "duration": 29,
    "start_time": "2022-05-21T21:02:59.974Z"
   },
   {
    "duration": 13,
    "start_time": "2022-05-21T21:04:56.925Z"
   },
   {
    "duration": 645,
    "start_time": "2022-05-22T03:25:43.406Z"
   },
   {
    "duration": 83,
    "start_time": "2022-05-22T03:35:44.251Z"
   },
   {
    "duration": 59,
    "start_time": "2022-05-22T03:36:11.807Z"
   },
   {
    "duration": 10,
    "start_time": "2022-05-22T03:36:44.393Z"
   },
   {
    "duration": 3,
    "start_time": "2022-05-22T03:36:49.857Z"
   },
   {
    "duration": 128,
    "start_time": "2022-05-22T03:36:49.864Z"
   },
   {
    "duration": 21,
    "start_time": "2022-05-22T03:36:49.994Z"
   },
   {
    "duration": 24,
    "start_time": "2022-05-22T03:36:50.016Z"
   },
   {
    "duration": 7,
    "start_time": "2022-05-22T03:36:50.042Z"
   },
   {
    "duration": 7,
    "start_time": "2022-05-22T03:36:50.050Z"
   },
   {
    "duration": 15,
    "start_time": "2022-05-22T03:36:50.058Z"
   },
   {
    "duration": 8,
    "start_time": "2022-05-22T03:36:50.074Z"
   },
   {
    "duration": 302,
    "start_time": "2022-05-22T03:36:50.084Z"
   },
   {
    "duration": 5,
    "start_time": "2022-05-22T03:36:50.388Z"
   },
   {
    "duration": 6,
    "start_time": "2022-05-22T03:36:50.396Z"
   },
   {
    "duration": 8,
    "start_time": "2022-05-22T03:36:50.403Z"
   },
   {
    "duration": 8,
    "start_time": "2022-05-22T03:36:50.412Z"
   },
   {
    "duration": 8,
    "start_time": "2022-05-22T03:36:50.421Z"
   },
   {
    "duration": 23,
    "start_time": "2022-05-22T03:36:50.435Z"
   },
   {
    "duration": 27,
    "start_time": "2022-05-22T03:36:50.460Z"
   },
   {
    "duration": 7,
    "start_time": "2022-05-22T03:36:50.489Z"
   },
   {
    "duration": 12,
    "start_time": "2022-05-22T03:36:50.498Z"
   },
   {
    "duration": 10,
    "start_time": "2022-05-22T03:36:50.511Z"
   },
   {
    "duration": 34,
    "start_time": "2022-05-22T03:36:50.522Z"
   },
   {
    "duration": 9,
    "start_time": "2022-05-22T03:36:50.557Z"
   },
   {
    "duration": 13,
    "start_time": "2022-05-22T03:36:50.568Z"
   },
   {
    "duration": 8,
    "start_time": "2022-05-22T03:36:50.582Z"
   },
   {
    "duration": 16,
    "start_time": "2022-05-22T03:36:50.591Z"
   },
   {
    "duration": 26,
    "start_time": "2022-05-22T03:36:50.608Z"
   },
   {
    "duration": 26,
    "start_time": "2022-05-22T03:36:50.635Z"
   },
   {
    "duration": 33,
    "start_time": "2022-05-22T03:36:50.663Z"
   },
   {
    "duration": 10,
    "start_time": "2022-05-22T03:36:50.698Z"
   },
   {
    "duration": 22,
    "start_time": "2022-05-22T03:36:50.711Z"
   },
   {
    "duration": 15,
    "start_time": "2022-05-22T03:36:50.736Z"
   },
   {
    "duration": 5,
    "start_time": "2022-05-22T03:36:50.753Z"
   },
   {
    "duration": 22,
    "start_time": "2022-05-22T03:36:50.759Z"
   },
   {
    "duration": 7,
    "start_time": "2022-05-22T03:36:50.782Z"
   },
   {
    "duration": 8,
    "start_time": "2022-05-22T03:36:50.790Z"
   },
   {
    "duration": 24,
    "start_time": "2022-05-22T03:36:50.828Z"
   },
   {
    "duration": 23,
    "start_time": "2022-05-22T03:36:50.853Z"
   },
   {
    "duration": 8,
    "start_time": "2022-05-22T03:36:50.877Z"
   },
   {
    "duration": 54,
    "start_time": "2022-05-22T03:36:50.887Z"
   },
   {
    "duration": 17,
    "start_time": "2022-05-22T03:36:50.943Z"
   },
   {
    "duration": 17,
    "start_time": "2022-05-22T03:36:50.962Z"
   },
   {
    "duration": 2,
    "start_time": "2022-05-22T03:37:38.541Z"
   },
   {
    "duration": 4,
    "start_time": "2022-05-22T03:37:45.048Z"
   },
   {
    "duration": 19,
    "start_time": "2022-05-22T03:38:41.538Z"
   },
   {
    "duration": 66,
    "start_time": "2022-05-22T03:39:00.014Z"
   },
   {
    "duration": 4,
    "start_time": "2022-05-22T03:40:11.562Z"
   },
   {
    "duration": 7,
    "start_time": "2022-05-22T03:40:38.558Z"
   },
   {
    "duration": 3,
    "start_time": "2022-05-22T03:40:47.491Z"
   },
   {
    "duration": 84,
    "start_time": "2022-05-22T03:40:47.497Z"
   },
   {
    "duration": 15,
    "start_time": "2022-05-22T03:40:47.584Z"
   },
   {
    "duration": 10,
    "start_time": "2022-05-22T03:40:47.600Z"
   },
   {
    "duration": 30,
    "start_time": "2022-05-22T03:40:47.611Z"
   },
   {
    "duration": 7,
    "start_time": "2022-05-22T03:40:50.158Z"
   },
   {
    "duration": 13,
    "start_time": "2022-05-22T03:41:10.703Z"
   },
   {
    "duration": 4,
    "start_time": "2022-05-22T03:41:23.188Z"
   },
   {
    "duration": 4,
    "start_time": "2022-05-22T04:02:14.480Z"
   },
   {
    "duration": 80,
    "start_time": "2022-05-22T04:02:14.486Z"
   },
   {
    "duration": 13,
    "start_time": "2022-05-22T04:02:14.567Z"
   },
   {
    "duration": 9,
    "start_time": "2022-05-22T04:02:14.582Z"
   },
   {
    "duration": 7,
    "start_time": "2022-05-22T04:02:14.593Z"
   },
   {
    "duration": 25,
    "start_time": "2022-05-22T04:02:14.602Z"
   },
   {
    "duration": 13,
    "start_time": "2022-05-22T04:02:14.628Z"
   },
   {
    "duration": 8,
    "start_time": "2022-05-22T04:02:14.643Z"
   },
   {
    "duration": 6,
    "start_time": "2022-05-22T04:02:14.652Z"
   },
   {
    "duration": 9,
    "start_time": "2022-05-22T04:02:14.660Z"
   },
   {
    "duration": 5,
    "start_time": "2022-05-22T04:02:14.671Z"
   },
   {
    "duration": 7,
    "start_time": "2022-05-22T04:02:17.672Z"
   },
   {
    "duration": 2,
    "start_time": "2022-05-22T04:19:07.700Z"
   },
   {
    "duration": 80,
    "start_time": "2022-05-22T04:19:07.705Z"
   },
   {
    "duration": 14,
    "start_time": "2022-05-22T04:19:07.787Z"
   },
   {
    "duration": 31,
    "start_time": "2022-05-22T04:19:07.802Z"
   },
   {
    "duration": 8,
    "start_time": "2022-05-22T04:19:07.836Z"
   },
   {
    "duration": 6,
    "start_time": "2022-05-22T04:19:07.845Z"
   },
   {
    "duration": 14,
    "start_time": "2022-05-22T04:19:07.852Z"
   },
   {
    "duration": 7,
    "start_time": "2022-05-22T04:19:07.867Z"
   },
   {
    "duration": 6,
    "start_time": "2022-05-22T04:19:07.876Z"
   },
   {
    "duration": 11,
    "start_time": "2022-05-22T04:19:07.883Z"
   },
   {
    "duration": 12,
    "start_time": "2022-05-22T04:19:07.925Z"
   },
   {
    "duration": 17,
    "start_time": "2022-05-22T04:19:07.939Z"
   },
   {
    "duration": 9,
    "start_time": "2022-05-22T04:19:07.958Z"
   },
   {
    "duration": 10,
    "start_time": "2022-05-22T04:19:07.969Z"
   },
   {
    "duration": 20,
    "start_time": "2022-05-22T04:19:07.981Z"
   },
   {
    "duration": 11,
    "start_time": "2022-05-22T04:19:08.003Z"
   },
   {
    "duration": 19,
    "start_time": "2022-05-22T04:19:08.027Z"
   },
   {
    "duration": 7,
    "start_time": "2022-05-22T04:19:08.048Z"
   },
   {
    "duration": 18,
    "start_time": "2022-05-22T04:19:08.057Z"
   },
   {
    "duration": 7,
    "start_time": "2022-05-22T04:19:08.077Z"
   },
   {
    "duration": 8,
    "start_time": "2022-05-22T04:19:08.086Z"
   },
   {
    "duration": 7,
    "start_time": "2022-05-22T04:19:08.096Z"
   },
   {
    "duration": 33,
    "start_time": "2022-05-22T04:19:08.104Z"
   },
   {
    "duration": 28,
    "start_time": "2022-05-22T04:19:08.139Z"
   },
   {
    "duration": 19,
    "start_time": "2022-05-22T04:19:08.169Z"
   },
   {
    "duration": 57,
    "start_time": "2022-05-22T04:19:08.189Z"
   },
   {
    "duration": 12,
    "start_time": "2022-05-22T04:19:08.248Z"
   },
   {
    "duration": 12,
    "start_time": "2022-05-22T04:19:08.261Z"
   },
   {
    "duration": 13,
    "start_time": "2022-05-22T04:19:08.276Z"
   },
   {
    "duration": 6,
    "start_time": "2022-05-22T04:19:08.290Z"
   },
   {
    "duration": 28,
    "start_time": "2022-05-22T04:19:08.328Z"
   },
   {
    "duration": 8,
    "start_time": "2022-05-22T04:19:08.357Z"
   },
   {
    "duration": 6,
    "start_time": "2022-05-22T04:19:08.367Z"
   },
   {
    "duration": 27,
    "start_time": "2022-05-22T04:19:08.375Z"
   },
   {
    "duration": 42,
    "start_time": "2022-05-22T04:19:08.404Z"
   },
   {
    "duration": 8,
    "start_time": "2022-05-22T04:19:08.448Z"
   },
   {
    "duration": 2,
    "start_time": "2022-05-22T05:02:38.888Z"
   },
   {
    "duration": 82,
    "start_time": "2022-05-22T05:02:38.893Z"
   },
   {
    "duration": 13,
    "start_time": "2022-05-22T05:02:38.977Z"
   },
   {
    "duration": 9,
    "start_time": "2022-05-22T05:02:38.992Z"
   },
   {
    "duration": 31,
    "start_time": "2022-05-22T05:02:39.003Z"
   },
   {
    "duration": 7,
    "start_time": "2022-05-22T05:02:39.039Z"
   },
   {
    "duration": 26,
    "start_time": "2022-05-22T05:02:39.050Z"
   },
   {
    "duration": 7,
    "start_time": "2022-05-22T05:02:39.077Z"
   },
   {
    "duration": 5,
    "start_time": "2022-05-22T05:02:39.085Z"
   },
   {
    "duration": 9,
    "start_time": "2022-05-22T05:02:39.092Z"
   },
   {
    "duration": 38,
    "start_time": "2022-05-22T05:02:39.103Z"
   },
   {
    "duration": 14,
    "start_time": "2022-05-22T05:02:39.143Z"
   },
   {
    "duration": 6,
    "start_time": "2022-05-22T05:02:39.159Z"
   },
   {
    "duration": 7,
    "start_time": "2022-05-22T05:02:39.166Z"
   },
   {
    "duration": 16,
    "start_time": "2022-05-22T05:02:39.174Z"
   },
   {
    "duration": 5,
    "start_time": "2022-05-22T05:02:39.192Z"
   },
   {
    "duration": 11,
    "start_time": "2022-05-22T05:02:39.198Z"
   },
   {
    "duration": 17,
    "start_time": "2022-05-22T05:02:39.210Z"
   },
   {
    "duration": 30,
    "start_time": "2022-05-22T05:02:39.228Z"
   },
   {
    "duration": 6,
    "start_time": "2022-05-22T05:02:39.260Z"
   },
   {
    "duration": 9,
    "start_time": "2022-05-22T05:02:39.267Z"
   },
   {
    "duration": 7,
    "start_time": "2022-05-22T05:02:39.277Z"
   },
   {
    "duration": 8,
    "start_time": "2022-05-22T05:02:39.285Z"
   },
   {
    "duration": 49,
    "start_time": "2022-05-22T05:02:39.294Z"
   },
   {
    "duration": 32,
    "start_time": "2022-05-22T05:02:39.345Z"
   },
   {
    "duration": 49,
    "start_time": "2022-05-22T05:02:39.379Z"
   },
   {
    "duration": 20,
    "start_time": "2022-05-22T05:02:39.430Z"
   },
   {
    "duration": 22,
    "start_time": "2022-05-22T05:02:39.454Z"
   },
   {
    "duration": 13,
    "start_time": "2022-05-22T05:02:39.479Z"
   },
   {
    "duration": 10,
    "start_time": "2022-05-22T05:02:39.493Z"
   },
   {
    "duration": 50,
    "start_time": "2022-05-22T05:02:39.505Z"
   },
   {
    "duration": 7,
    "start_time": "2022-05-22T05:02:39.557Z"
   },
   {
    "duration": 6,
    "start_time": "2022-05-22T05:02:39.565Z"
   },
   {
    "duration": 22,
    "start_time": "2022-05-22T05:02:39.573Z"
   },
   {
    "duration": 21,
    "start_time": "2022-05-22T05:02:39.597Z"
   },
   {
    "duration": 14,
    "start_time": "2022-05-22T05:02:39.627Z"
   },
   {
    "duration": 32,
    "start_time": "2022-05-22T05:02:39.643Z"
   },
   {
    "duration": 17,
    "start_time": "2022-05-22T05:02:39.676Z"
   },
   {
    "duration": 17,
    "start_time": "2022-05-22T05:02:39.694Z"
   },
   {
    "duration": 423,
    "start_time": "2022-05-22T16:17:49.099Z"
   },
   {
    "duration": 88,
    "start_time": "2022-05-22T16:17:49.524Z"
   },
   {
    "duration": 16,
    "start_time": "2022-05-22T16:17:49.614Z"
   },
   {
    "duration": 11,
    "start_time": "2022-05-22T16:17:49.632Z"
   },
   {
    "duration": 16,
    "start_time": "2022-05-22T16:17:49.645Z"
   },
   {
    "duration": 8,
    "start_time": "2022-05-22T16:17:49.663Z"
   },
   {
    "duration": 38,
    "start_time": "2022-05-22T16:17:49.672Z"
   },
   {
    "duration": 7,
    "start_time": "2022-05-22T16:17:49.712Z"
   },
   {
    "duration": 7,
    "start_time": "2022-05-22T16:17:49.720Z"
   },
   {
    "duration": 7,
    "start_time": "2022-05-22T16:17:49.729Z"
   },
   {
    "duration": 8,
    "start_time": "2022-05-22T16:17:49.737Z"
   },
   {
    "duration": 16,
    "start_time": "2022-05-22T16:17:49.747Z"
   },
   {
    "duration": 5,
    "start_time": "2022-05-22T16:17:49.765Z"
   },
   {
    "duration": 7,
    "start_time": "2022-05-22T16:17:49.799Z"
   },
   {
    "duration": 18,
    "start_time": "2022-05-22T16:17:49.807Z"
   },
   {
    "duration": 5,
    "start_time": "2022-05-22T16:17:49.827Z"
   },
   {
    "duration": 12,
    "start_time": "2022-05-22T16:17:49.833Z"
   },
   {
    "duration": 7,
    "start_time": "2022-05-22T16:17:49.847Z"
   },
   {
    "duration": 41,
    "start_time": "2022-05-22T16:17:49.856Z"
   },
   {
    "duration": 7,
    "start_time": "2022-05-22T16:17:49.899Z"
   },
   {
    "duration": 10,
    "start_time": "2022-05-22T16:17:49.908Z"
   },
   {
    "duration": 8,
    "start_time": "2022-05-22T16:17:49.920Z"
   },
   {
    "duration": 8,
    "start_time": "2022-05-22T16:17:49.930Z"
   },
   {
    "duration": 25,
    "start_time": "2022-05-22T16:17:49.940Z"
   },
   {
    "duration": 51,
    "start_time": "2022-05-22T16:17:49.967Z"
   },
   {
    "duration": 38,
    "start_time": "2022-05-22T16:17:50.020Z"
   },
   {
    "duration": 17,
    "start_time": "2022-05-22T16:17:50.060Z"
   },
   {
    "duration": 11,
    "start_time": "2022-05-22T16:17:50.096Z"
   },
   {
    "duration": 13,
    "start_time": "2022-05-22T16:17:50.108Z"
   },
   {
    "duration": 10,
    "start_time": "2022-05-22T16:17:50.122Z"
   },
   {
    "duration": 22,
    "start_time": "2022-05-22T16:17:50.134Z"
   },
   {
    "duration": 8,
    "start_time": "2022-05-22T16:17:50.158Z"
   },
   {
    "duration": 32,
    "start_time": "2022-05-22T16:17:50.167Z"
   },
   {
    "duration": 23,
    "start_time": "2022-05-22T16:17:50.201Z"
   },
   {
    "duration": 23,
    "start_time": "2022-05-22T16:17:50.226Z"
   },
   {
    "duration": 8,
    "start_time": "2022-05-22T16:17:50.251Z"
   },
   {
    "duration": 44,
    "start_time": "2022-05-22T16:17:50.261Z"
   },
   {
    "duration": 16,
    "start_time": "2022-05-22T16:17:50.307Z"
   },
   {
    "duration": 20,
    "start_time": "2022-05-22T16:17:50.325Z"
   }
  ],
  "kernelspec": {
   "display_name": "Python 3 (ipykernel)",
   "language": "python",
   "name": "python3"
  },
  "language_info": {
   "codemirror_mode": {
    "name": "ipython",
    "version": 3
   },
   "file_extension": ".py",
   "mimetype": "text/x-python",
   "name": "python",
   "nbconvert_exporter": "python",
   "pygments_lexer": "ipython3",
   "version": "3.9.7"
  },
  "toc": {
   "base_numbering": 1,
   "nav_menu": {},
   "number_sections": true,
   "sideBar": true,
   "skip_h1_title": true,
   "title_cell": "Table of Contents",
   "title_sidebar": "Contents",
   "toc_cell": false,
   "toc_position": {},
   "toc_section_display": true,
   "toc_window_display": false
  }
 },
 "nbformat": 4,
 "nbformat_minor": 5
}
